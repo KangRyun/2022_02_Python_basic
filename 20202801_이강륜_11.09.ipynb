{
 "cells": [
  {
   "cell_type": "code",
   "execution_count": 1,
   "id": "b3e734ac",
   "metadata": {},
   "outputs": [
    {
     "name": "stdout",
     "output_type": "stream",
     "text": [
      "Product: Apple, Prince per unit: 5.243000.\n"
     ]
    }
   ],
   "source": [
    "print('Product: %s, Prince per unit: %f.'%('Apple',5.243))"
   ]
  },
  {
   "cell_type": "code",
   "execution_count": 3,
   "id": "9d572b8e",
   "metadata": {},
   "outputs": [
    {
     "name": "stdout",
     "output_type": "stream",
     "text": [
      "I ate 3 apples. I was sick for three days.\n"
     ]
    }
   ],
   "source": [
    "number = 3\n",
    "day ='three'\n",
    "print('I ate %d apples. I was sick for %s days.' %(number, day))"
   ]
  },
  {
   "cell_type": "code",
   "execution_count": 4,
   "id": "7f6f068d",
   "metadata": {},
   "outputs": [
    {
     "name": "stdout",
     "output_type": "stream",
     "text": [
      "I'm 20years old.\n"
     ]
    }
   ],
   "source": [
    "print(\"I'm {0}years old.\".format(20))"
   ]
  },
  {
   "cell_type": "code",
   "execution_count": 17,
   "id": "f34eb481",
   "metadata": {},
   "outputs": [
    {
     "name": "stdout",
     "output_type": "stream",
     "text": [
      "I'm 40years old.\n",
      "My name is KangRyun LEE and 40 years old.\n",
      "Product: Apple, Price per unit:5.24.\n"
     ]
    }
   ],
   "source": [
    "age = 40; name = 'KangRyun LEE'\n",
    "print(\"I'm {0}years old.\".format(age))\n",
    "print(\"My name is {0} and {1} years old.\".format(name,age))\n",
    "print(\"Product: {0}, Price per unit:{1:.2f}.\".format(\"Apple\",5.243))"
   ]
  },
  {
   "cell_type": "code",
   "execution_count": 18,
   "id": "e094bc88",
   "metadata": {},
   "outputs": [
    {
     "name": "stdout",
     "output_type": "stream",
     "text": [
      "        12\n",
      "12        \n"
     ]
    }
   ],
   "source": [
    "print(\"%10d\"%12) #10자리 공간확보 우측정력 12출력\n",
    "print(\"%-10d\"%12) #좌측정렬"
   ]
  },
  {
   "cell_type": "code",
   "execution_count": 19,
   "id": "13e96b2b",
   "metadata": {},
   "outputs": [
    {
     "name": "stdout",
     "output_type": "stream",
     "text": [
      "     5.943\n",
      "      5.94\n",
      "5.94      \n"
     ]
    }
   ],
   "source": [
    "print(\"%10.3f\"%5.94343) #10자리 확보 후 소수점 셋째자리까지 출력\n",
    "print(\"%10.2f\"%5.94343) #10자리 확보 후 소수점 둘째자리까지 출력\n",
    "print(\"%-10.2f\"%5.94343) #좌측정렬"
   ]
  },
  {
   "cell_type": "code",
   "execution_count": 21,
   "id": "b2f2db17",
   "metadata": {},
   "outputs": [
    {
     "name": "stdout",
     "output_type": "stream",
     "text": [
      "     Apple\n",
      "Apple     \n"
     ]
    }
   ],
   "source": [
    "print(\"{0:>10s}\".format(\"Apple\"))\n",
    "print(\"{0:<10s}\".format(\"Apple\"))"
   ]
  },
  {
   "cell_type": "code",
   "execution_count": 23,
   "id": "83d055c4",
   "metadata": {},
   "outputs": [
    {
     "data": {
      "text/plain": [
       "'   5.24300.'"
      ]
     },
     "execution_count": 23,
     "metadata": {},
     "output_type": "execute_result"
    }
   ],
   "source": [
    "\"{1:10.5f}.\".format(\"Apple\",5.243)"
   ]
  },
  {
   "cell_type": "code",
   "execution_count": 24,
   "id": "af63e2a3",
   "metadata": {},
   "outputs": [
    {
     "data": {
      "text/plain": [
       "'   5.24300.'"
      ]
     },
     "execution_count": 24,
     "metadata": {},
     "output_type": "execute_result"
    }
   ],
   "source": [
    "\"{1:>10.5f}.\".format(\"Apple\",5.243)"
   ]
  },
  {
   "cell_type": "code",
   "execution_count": 25,
   "id": "d02e4b61",
   "metadata": {},
   "outputs": [
    {
     "data": {
      "text/plain": [
       "'5.24300   .'"
      ]
     },
     "execution_count": 25,
     "metadata": {},
     "output_type": "execute_result"
    }
   ],
   "source": [
    "\"{1:<10.5f}.\".format(\"Apple\",5.243)"
   ]
  },
  {
   "cell_type": "code",
   "execution_count": 31,
   "id": "19137ed3",
   "metadata": {},
   "outputs": [
    {
     "name": "stdout",
     "output_type": "stream",
     "text": [
      "Product:Apple,Piece per nit:5.24300.\n"
     ]
    }
   ],
   "source": [
    "print(\"Product:%(name)5s,Piece per nit:%(price)5.5f.\"%\n",
    "{\"name\":\"Apple\",\"price\":5.243})"
   ]
  },
  {
   "cell_type": "code",
   "execution_count": 34,
   "id": "62ae3c36",
   "metadata": {},
   "outputs": [
    {
     "name": "stdout",
     "output_type": "stream",
     "text": [
      "Product:Apple,Price per unit: 5.24300.\n"
     ]
    }
   ],
   "source": [
    "print(\"Product:{name:>5s},Price per unit: {price:5.5f}.\".format(name=\"Apple\",\n",
    "price=5.243))"
   ]
  },
  {
   "cell_type": "code",
   "execution_count": 35,
   "id": "10482cc9",
   "metadata": {},
   "outputs": [
    {
     "data": {
      "text/plain": [
       "[1, 2, 3, 4, 5, 10]"
      ]
     },
     "execution_count": 35,
     "metadata": {},
     "output_type": "execute_result"
    }
   ],
   "source": []
  },
  {
   "cell_type": "code",
   "execution_count": 36,
   "id": "80b02109",
   "metadata": {},
   "outputs": [],
   "source": []
  },
  {
   "cell_type": "code",
   "execution_count": 37,
   "id": "a58faf92",
   "metadata": {},
   "outputs": [
    {
     "data": {
      "text/plain": [
       "20"
      ]
     },
     "execution_count": 37,
     "metadata": {},
     "output_type": "execute_result"
    }
   ],
   "source": []
  },
  {
   "cell_type": "code",
   "execution_count": 38,
   "id": "25a4179c",
   "metadata": {},
   "outputs": [
    {
     "data": {
      "text/plain": [
       "10"
      ]
     },
     "execution_count": 38,
     "metadata": {},
     "output_type": "execute_result"
    }
   ],
   "source": []
  },
  {
   "cell_type": "code",
   "execution_count": 39,
   "id": "b4968c58",
   "metadata": {},
   "outputs": [
    {
     "name": "stdout",
     "output_type": "stream",
     "text": [
      "Input a word:PYTHON\n"
     ]
    },
    {
     "ename": "NameError",
     "evalue": "name 'word_list' is not defined",
     "output_type": "error",
     "traceback": [
      "\u001b[1;31m---------------------------------------------------------------------------\u001b[0m",
      "\u001b[1;31mNameError\u001b[0m                                 Traceback (most recent call last)",
      "Input \u001b[1;32mIn [39]\u001b[0m, in \u001b[0;36m<cell line: 3>\u001b[1;34m()\u001b[0m\n\u001b[0;32m      1\u001b[0m word \u001b[38;5;241m=\u001b[39m \u001b[38;5;28minput\u001b[39m(\u001b[38;5;124m\"\u001b[39m\u001b[38;5;124mInput a word:\u001b[39m\u001b[38;5;124m\"\u001b[39m)\n\u001b[0;32m      2\u001b[0m world_list \u001b[38;5;241m=\u001b[39m \u001b[38;5;28mlist\u001b[39m(word)\n\u001b[1;32m----> 3\u001b[0m \u001b[38;5;28mprint\u001b[39m(\u001b[43mword_list\u001b[49m)\n\u001b[0;32m      5\u001b[0m result \u001b[38;5;241m=\u001b[39m []\n\u001b[0;32m      6\u001b[0m \u001b[38;5;28;01mfor\u001b[39;00m _ \u001b[38;5;129;01min\u001b[39;00m \u001b[38;5;28mrange\u001b[39m(\u001b[38;5;28mlen\u001b[39m(world_list)):\n",
      "\u001b[1;31mNameError\u001b[0m: name 'word_list' is not defined"
     ]
    }
   ],
   "source": []
  }
 ],
 "metadata": {
  "kernelspec": {
   "display_name": "Python 3.10.7 64-bit",
   "language": "python",
   "name": "python3"
  },
  "language_info": {
   "codemirror_mode": {
    "name": "ipython",
    "version": 3
   },
   "file_extension": ".py",
   "mimetype": "text/x-python",
   "name": "python",
   "nbconvert_exporter": "python",
   "pygments_lexer": "ipython3",
   "version": "3.10.7"
  },
  "vscode": {
   "interpreter": {
    "hash": "e4e7ff5db89f8a8e6e10e1c907759fa6952b666623ba1e506d0fabd455586b03"
   }
  }
 },
 "nbformat": 4,
 "nbformat_minor": 5
}
