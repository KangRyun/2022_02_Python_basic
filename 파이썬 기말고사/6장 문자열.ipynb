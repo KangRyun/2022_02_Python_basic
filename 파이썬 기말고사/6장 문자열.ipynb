{
 "cells": [
  {
   "cell_type": "markdown",
   "metadata": {},
   "source": [
    "#파일 읽어오기 시험에 나옴"
   ]
  },
  {
   "cell_type": "markdown",
   "metadata": {},
   "source": [
    "yesterday 파일 불러오기 및 갯수세기"
   ]
  },
  {
   "cell_type": "code",
   "execution_count": null,
   "metadata": {},
   "outputs": [],
   "source": [
    "f = open('yesterday.txt', 'r')\n",
    "y = f.readlines()\n",
    "f.close()"
   ]
  },
  {
   "cell_type": "code",
   "execution_count": 4,
   "metadata": {},
   "outputs": [
    {
     "data": {
      "text/plain": [
       "['Yesterday all my troubles\\n',\n",
       " 'seemed so far away.\\n',\n",
       " 'Now it looks\\n',\n",
       " \"as though they're here to stay.\\n\",\n",
       " 'Oh, I believe in yesterday.\\n',\n",
       " '\\n',\n",
       " \"Suddenly I'm not half\\n\",\n",
       " 'the man I used to be.\\n',\n",
       " \"There's a shadow hanging over me.\\n\",\n",
       " 'Oh, yesterday came suddenly.\\n',\n",
       " '\\n',\n",
       " 'Why she had to go,\\n',\n",
       " \"I don't know,\\n\",\n",
       " \"she wouldn't say.\\n\",\n",
       " 'I said something wrong,\\n',\n",
       " 'now I long for yesterday.\\n',\n",
       " '\\n',\n",
       " 'Yesterday love was\\n',\n",
       " 'such an easy game to play.\\n',\n",
       " 'Now I need a place to hide away.\\n',\n",
       " 'Oh, I believe in yesterday.\\n',\n",
       " '\\n',\n",
       " 'Why she had to go,\\n',\n",
       " \"I don't know,\\n\",\n",
       " \"she wouldn't say.\\n\",\n",
       " 'I said something wrong,\\n',\n",
       " 'now I long for yesterday.\\n',\n",
       " '\\n',\n",
       " 'Yesterday love was\\n',\n",
       " 'such an easy game to play.\\n',\n",
       " 'Now I need a place to hide away.\\n',\n",
       " 'Oh, I believe in yesterday.\\n',\n",
       " '\\n',\n",
       " 'Mm mm mm mm mm mm mm\\n']"
      ]
     },
     "execution_count": 4,
     "metadata": {},
     "output_type": "execute_result"
    }
   ],
   "source": [
    "y"
   ]
  },
  {
   "cell_type": "code",
   "execution_count": 5,
   "metadata": {},
   "outputs": [
    {
     "data": {
      "text/plain": [
       "34"
      ]
     },
     "execution_count": 5,
     "metadata": {},
     "output_type": "execute_result"
    }
   ],
   "source": [
    "len(y) #\\n의 개수"
   ]
  },
  {
   "cell_type": "code",
   "execution_count": 7,
   "metadata": {},
   "outputs": [
    {
     "name": "stdout",
     "output_type": "stream",
     "text": [
      "Yesterday all my troubles\n",
      "\n",
      "seemed so far away.\n",
      "\n",
      "Now it looks\n",
      "\n",
      "as though they're here to stay.\n",
      "\n",
      "Oh, I believe in yesterday.\n",
      "\n",
      "\n",
      "\n",
      "Suddenly I'm not half\n",
      "\n",
      "the man I used to be.\n",
      "\n",
      "There's a shadow hanging over me.\n",
      "\n",
      "Oh, yesterday came suddenly.\n",
      "\n",
      "\n",
      "\n",
      "Why she had to go,\n",
      "\n",
      "I don't know,\n",
      "\n",
      "she wouldn't say.\n",
      "\n",
      "I said something wrong,\n",
      "\n",
      "now I long for yesterday.\n",
      "\n",
      "\n",
      "\n",
      "Yesterday love was\n",
      "\n",
      "such an easy game to play.\n",
      "\n",
      "Now I need a place to hide away.\n",
      "\n",
      "Oh, I believe in yesterday.\n",
      "\n",
      "\n",
      "\n",
      "Why she had to go,\n",
      "\n",
      "I don't know,\n",
      "\n",
      "she wouldn't say.\n",
      "\n",
      "I said something wrong,\n",
      "\n",
      "now I long for yesterday.\n",
      "\n",
      "\n",
      "\n",
      "Yesterday love was\n",
      "\n",
      "such an easy game to play.\n",
      "\n",
      "Now I need a place to hide away.\n",
      "\n",
      "Oh, I believe in yesterday.\n",
      "\n",
      "\n",
      "\n",
      "Mm mm mm mm mm mm mm\n",
      "\n"
     ]
    }
   ],
   "source": [
    "contents = \"\"\n",
    "for line in y:\n",
    "    print(line)\n",
    "    contents += line"
   ]
  },
  {
   "cell_type": "code",
   "execution_count": 9,
   "metadata": {},
   "outputs": [
    {
     "data": {
      "text/plain": [
       "\"Yesterday all my troubles\\nseemed so far away.\\nNow it looks\\nas though they're here to stay.\\nOh, I believe in yesterday.\\n\\nSuddenly I'm not half\\nthe man I used to be.\\nThere's a shadow hanging over me.\\nOh, yesterday came suddenly.\\n\\nWhy she had to go,\\nI don't know,\\nshe wouldn't say.\\nI said something wrong,\\nnow I long for yesterday.\\n\\nYesterday love was\\nsuch an easy game to play.\\nNow I need a place to hide away.\\nOh, I believe in yesterday.\\n\\nWhy she had to go,\\nI don't know,\\nshe wouldn't say.\\nI said something wrong,\\nnow I long for yesterday.\\n\\nYesterday love was\\nsuch an easy game to play.\\nNow I need a place to hide away.\\nOh, I believe in yesterday.\\n\\nMm mm mm mm mm mm mm\\n\""
      ]
     },
     "execution_count": 9,
     "metadata": {},
     "output_type": "execute_result"
    }
   ],
   "source": [
    "contents"
   ]
  },
  {
   "cell_type": "code",
   "execution_count": 10,
   "metadata": {},
   "outputs": [
    {
     "data": {
      "text/plain": [
       "6"
      ]
     },
     "execution_count": 10,
     "metadata": {},
     "output_type": "execute_result"
    }
   ],
   "source": [
    "contents.count('yesterday')"
   ]
  },
  {
   "cell_type": "code",
   "execution_count": 12,
   "metadata": {},
   "outputs": [
    {
     "name": "stdout",
     "output_type": "stream",
     "text": [
      "Number of a word 'Yesterday' 9\n"
     ]
    }
   ],
   "source": [
    "f = open('yesterday.txt','r')\n",
    "y = f.readlines()\n",
    "f. close\n",
    "\n",
    "contents = \"\"\n",
    "for line in y:\n",
    "    contents = contents + line.strip() + \"\\n\"\n",
    "\n",
    "n_of_y = contents.upper().count('YESTERDAY') #소문자를 대문자로 바꾸어 카운트\n",
    "print(\"Number of a word 'Yesterday'\", n_of_y)"
   ]
  },
  {
   "cell_type": "code",
   "execution_count": 1,
   "metadata": {},
   "outputs": [
    {
     "data": {
      "text/plain": [
       "'TEAMLAB'"
      ]
     },
     "execution_count": 1,
     "metadata": {},
     "output_type": "execute_result"
    }
   ],
   "source": [
    "title = \"teamlab\"\n",
    "title\n",
    "title.upper()"
   ]
  },
  {
   "cell_type": "markdown",
   "metadata": {},
   "source": [
    "문자열 서식 지정"
   ]
  },
  {
   "cell_type": "code",
   "execution_count": 20,
   "metadata": {},
   "outputs": [
    {
     "name": "stdout",
     "output_type": "stream",
     "text": [
      "1 2 3\n",
      "a b c\n",
      "1 2 3\n",
      "a b c\n"
     ]
    }
   ],
   "source": [
    "print(1, 2, 3)\n",
    "print(\"a\" + \" \" + \"b\" + \" \" + \"c\")\n",
    "print(\"%d %d %d\" %(1,2,3))\n",
    "print(\"{} {} {}\".format(\"a\",\"b\",\"c\"))"
   ]
  },
  {
   "cell_type": "code",
   "execution_count": 21,
   "metadata": {},
   "outputs": [
    {
     "name": "stdout",
     "output_type": "stream",
     "text": [
      "one two\n",
      "1 2\n"
     ]
    }
   ],
   "source": [
    "print('%s %s' %('one','two'))\n",
    "print('%d %d' % (1,2))"
   ]
  },
  {
   "cell_type": "markdown",
   "metadata": {},
   "source": [
    "%자료형 % (값)"
   ]
  },
  {
   "cell_type": "code",
   "execution_count": 23,
   "metadata": {},
   "outputs": [
    {
     "name": "stdout",
     "output_type": "stream",
     "text": [
      "I eat 3 apples.\n",
      "I eat five apples.\n"
     ]
    }
   ],
   "source": [
    "print(\"I eat %d apples.\" %3) # %d <- 정수(integer) \n",
    "print(\"I eat %s apples.\" %'five') # %s <- 문자열(string) #문자열에는 따움표 지정"
   ]
  },
  {
   "cell_type": "code",
   "execution_count": 28,
   "metadata": {},
   "outputs": [
    {
     "name": "stdout",
     "output_type": "stream",
     "text": [
      "I ate 3 apples.\n",
      "I was sick for three days.\n"
     ]
    }
   ],
   "source": [
    "number = 3\n",
    "day = 'three'\n",
    "print(\"I ate %d apples.\\nI was sick for %s days.\" %(number,day))"
   ]
  },
  {
   "cell_type": "markdown",
   "metadata": {},
   "source": [
    "format함수"
   ]
  },
  {
   "cell_type": "markdown",
   "metadata": {},
   "source": [
    "{자료형}.format(인수)"
   ]
  },
  {
   "cell_type": "code",
   "execution_count": 30,
   "metadata": {},
   "outputs": [
    {
     "name": "stdout",
     "output_type": "stream",
     "text": [
      "I'm 20years old.\n"
     ]
    }
   ],
   "source": [
    "print(\"I'm {0}years old.\".format(20))"
   ]
  },
  {
   "cell_type": "code",
   "execution_count": 3,
   "metadata": {},
   "outputs": [
    {
     "name": "stdout",
     "output_type": "stream",
     "text": [
      "I'm 40years old.\n",
      "My name is KangRyun LEE and 40years old.\n",
      "Product: Apple,Price per unit:5.243.\n"
     ]
    }
   ],
   "source": [
    "age = 40; name = 'KangRyun LEE'\n",
    "print(\"I'm {0}years old.\".format(age))\n",
    "print(\"My name is {0} and {1}years old.\".format(name,age)) \n",
    "print(\"Product: {0},Price per unit:{1:.3f}.\".format(\"Apple\",5.243)) # f <- 실수형 ; .2 <- 소수점 둘째 자리까지 출력"
   ]
  },
  {
   "cell_type": "code",
   "execution_count": 39,
   "metadata": {},
   "outputs": [
    {
     "name": "stdout",
     "output_type": "stream",
     "text": [
      "        12\n",
      "12        \n"
     ]
    }
   ],
   "source": [
    "print(\"%10d\"%12) #10자리 공간 우측정렬\n",
    "print(\"%-10d\"%12) #좌측정렬"
   ]
  },
  {
   "cell_type": "code",
   "execution_count": 40,
   "metadata": {},
   "outputs": [
    {
     "name": "stdout",
     "output_type": "stream",
     "text": [
      "     5.943\n",
      "      5.94\n",
      "5.94      \n"
     ]
    }
   ],
   "source": [
    "print(\"%10.3f\"%5.94343)\n",
    "print(\"%10.2f\"%5.94343)\n",
    "print(\"%-10.2f\"%5.94343)"
   ]
  },
  {
   "cell_type": "code",
   "execution_count": 42,
   "metadata": {},
   "outputs": [
    {
     "name": "stdout",
     "output_type": "stream",
     "text": [
      "     Apple\n",
      "Apple     \n"
     ]
    }
   ],
   "source": [
    "print(\"{0:>10s}\".format(\"Apple\"))\n",
    "print(\"{0:<10s}\".format(\"Apple\"))"
   ]
  },
  {
   "cell_type": "code",
   "execution_count": 47,
   "metadata": {},
   "outputs": [
    {
     "data": {
      "text/plain": [
       "'   5.24300.'"
      ]
     },
     "execution_count": 47,
     "metadata": {},
     "output_type": "execute_result"
    }
   ],
   "source": [
    "\"{1:10.5f}.\".format(\"Apple\",5.243)"
   ]
  },
  {
   "cell_type": "code",
   "execution_count": 48,
   "metadata": {},
   "outputs": [
    {
     "data": {
      "text/plain": [
       "'   5.24300.'"
      ]
     },
     "execution_count": 48,
     "metadata": {},
     "output_type": "execute_result"
    }
   ],
   "source": [
    "\"{1:>10.5f}.\".format(\"Apple\",5.243)"
   ]
  },
  {
   "cell_type": "code",
   "execution_count": 49,
   "metadata": {},
   "outputs": [
    {
     "data": {
      "text/plain": [
       "'5.24300   .'"
      ]
     },
     "execution_count": 49,
     "metadata": {},
     "output_type": "execute_result"
    }
   ],
   "source": [
    "\"{1:<10.5f}.\".format(\"Apple\",5.243)"
   ]
  },
  {
   "cell_type": "code",
   "execution_count": 53,
   "metadata": {},
   "outputs": [
    {
     "name": "stdout",
     "output_type": "stream",
     "text": [
      "Product:Apple,Price per unit: 5.34200.\n"
     ]
    }
   ],
   "source": [
    "print(\"Product:%(name)5s,Price per unit: %(price)5.5f.\"%{\"name\":\"Apple\",\"price\":5.342})"
   ]
  },
  {
   "cell_type": "code",
   "execution_count": null,
   "metadata": {},
   "outputs": [],
   "source": []
  }
 ],
 "metadata": {
  "kernelspec": {
   "display_name": "Python 3.10.7 64-bit",
   "language": "python",
   "name": "python3"
  },
  "language_info": {
   "codemirror_mode": {
    "name": "ipython",
    "version": 3
   },
   "file_extension": ".py",
   "mimetype": "text/x-python",
   "name": "python",
   "nbconvert_exporter": "python",
   "pygments_lexer": "ipython3",
   "version": "3.10.7 (tags/v3.10.7:6cc6b13, Sep  5 2022, 14:08:36) [MSC v.1933 64 bit (AMD64)]"
  },
  "orig_nbformat": 4,
  "vscode": {
   "interpreter": {
    "hash": "e4e7ff5db89f8a8e6e10e1c907759fa6952b666623ba1e506d0fabd455586b03"
   }
  }
 },
 "nbformat": 4,
 "nbformat_minor": 2
}
