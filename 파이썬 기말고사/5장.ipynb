{
 "cells": [
  {
   "cell_type": "code",
   "execution_count": 3,
   "metadata": {},
   "outputs": [
    {
     "name": "stdout",
     "output_type": "stream",
     "text": [
      "사각형 x의 길이: 10\n",
      "사각형 y의 길이: 20\n",
      "사각형의 넓이: 200\n"
     ]
    }
   ],
   "source": [
    "def calculate_rectangle_area(x,y):\n",
    "    return x * y\n",
    "\n",
    "rectangle_x = 10\n",
    "rectangle_y = 20\n",
    "print('사각형 x의 길이:', rectangle_x)\n",
    "print('사각형 y의 길이:', rectangle_y)\n",
    "\n",
    "#넓이를 구하는 함수 호출\n",
    "print(\"사각형의 넓이:\", calculate_rectangle_area(rectangle_x,rectangle_y))"
   ]
  },
  {
   "cell_type": "code",
   "execution_count": 5,
   "metadata": {},
   "outputs": [
    {
     "name": "stdout",
     "output_type": "stream",
     "text": [
      "151\n"
     ]
    }
   ],
   "source": [
    "def f(x):\n",
    "    return 2 * x + 7\n",
    "def g(x):\n",
    "    return x ** 2\n",
    "x = 2\n",
    "print(f(x)+g(x)+f(g(x))+g(f(x)))"
   ]
  },
  {
   "cell_type": "code",
   "execution_count": 6,
   "metadata": {},
   "outputs": [],
   "source": [
    "### 함수 선언(만들기)\n",
    "def fn_times_table(x):\n",
    "   # x = 3\n",
    "    for i in range(1,10):\n",
    "        print(str(x)+'x'+str(i)+'='+str(x*i))"
   ]
  },
  {
   "cell_type": "code",
   "execution_count": 7,
   "metadata": {},
   "outputs": [
    {
     "name": "stdout",
     "output_type": "stream",
     "text": [
      "3x1=3\n",
      "3x2=6\n",
      "3x3=9\n",
      "3x4=12\n",
      "3x5=15\n",
      "3x6=18\n",
      "3x7=21\n",
      "3x8=24\n",
      "3x9=27\n"
     ]
    }
   ],
   "source": [
    "fn_times_table(3)"
   ]
  },
  {
   "cell_type": "code",
   "execution_count": 8,
   "metadata": {},
   "outputs": [
    {
     "name": "stdout",
     "output_type": "stream",
     "text": [
      "151\n"
     ]
    }
   ],
   "source": [
    "###시험문제 가능성\n",
    "def f(x):\n",
    "    return 2*x+7\n",
    "def g(x):\n",
    "    return x**2\n",
    "x=2\n",
    "print(f(x)+g(x)+f(g(x))+g(f(x)))"
   ]
  },
  {
   "cell_type": "code",
   "execution_count": 10,
   "metadata": {},
   "outputs": [
    {
     "name": "stdout",
     "output_type": "stream",
     "text": [
      "35\n",
      "35\n",
      "35\n",
      "35\n"
     ]
    }
   ],
   "source": [
    "def a():            #매개변수 X, 반환값 X\n",
    "    print(5*7)\n",
    "def b(x,y):         #매개변수 O, 반환값 X\n",
    "    print(x*y)\n",
    "def c():            #매개변수 X, 반환값 O\n",
    "    return(5*7)\n",
    "def d(x,y):         #매개변수 O, 반환값 O\n",
    "    return(x*y)\n",
    "\n",
    "a()\n",
    "b(5,7) \n",
    "print(c())\n",
    "print(d(5,7))"
   ]
  },
  {
   "cell_type": "code",
   "execution_count": 14,
   "metadata": {},
   "outputs": [
    {
     "name": "stdout",
     "output_type": "stream",
     "text": [
      "35\n",
      "None\n"
     ]
    }
   ],
   "source": [
    "res = a() \n",
    "print(res)"
   ]
  },
  {
   "cell_type": "code",
   "execution_count": 13,
   "metadata": {},
   "outputs": [
    {
     "name": "stdout",
     "output_type": "stream",
     "text": [
      "21\n"
     ]
    }
   ],
   "source": [
    "res = d(3,7) #매개변수가 있으면 값 저장 가능\n",
    "print(res)\n"
   ]
  },
  {
   "cell_type": "code",
   "execution_count": 17,
   "metadata": {},
   "outputs": [
    {
     "name": "stdout",
     "output_type": "stream",
     "text": [
      "9\n",
      "3\n"
     ]
    }
   ],
   "source": [
    "def f(x):\n",
    "    y = x\n",
    "    x = 5\n",
    "    return y * y\n",
    "\n",
    "x= 3\n",
    "print(f(x))\n",
    "print(x)"
   ]
  },
  {
   "cell_type": "code",
   "execution_count": 35,
   "metadata": {},
   "outputs": [
    {
     "name": "stdout",
     "output_type": "stream",
     "text": [
      "[0, 1]\n"
     ]
    }
   ],
   "source": [
    "def spam(eggs):\n",
    "    eggs.append(1)      #기존 객체의 주소값에 [1] 추가\n",
    "    \n",
    "    eggs = [2,3]#할당 연산자        #새로운 객체 생성\n",
    "\n",
    "ham = [0]\n",
    "spam(ham)\n",
    "print(ham)"
   ]
  },
  {
   "cell_type": "code",
   "execution_count": 51,
   "metadata": {},
   "outputs": [
    {
     "name": "stdout",
     "output_type": "stream",
     "text": [
      "10\n",
      "In function: 20\n",
      "In Main: 10\n"
     ]
    },
    {
     "ename": "NameError",
     "evalue": "name 't' is not defined",
     "output_type": "error",
     "traceback": [
      "\u001b[1;31m---------------------------------------------------------------------------\u001b[0m",
      "\u001b[1;31mNameError\u001b[0m                                 Traceback (most recent call last)",
      "Cell \u001b[1;32mIn [51], line 9\u001b[0m\n\u001b[0;32m      7\u001b[0m test(x)\n\u001b[0;32m      8\u001b[0m \u001b[39mprint\u001b[39m(\u001b[39m\"\u001b[39m\u001b[39mIn Main:\u001b[39m\u001b[39m\"\u001b[39m, x)\n\u001b[1;32m----> 9\u001b[0m \u001b[39mprint\u001b[39m(\u001b[39m\"\u001b[39m\u001b[39mIn Main:\u001b[39m\u001b[39m\"\u001b[39m, t)\n",
      "\u001b[1;31mNameError\u001b[0m: name 't' is not defined"
     ]
    }
   ],
   "source": [
    "def test(t):\n",
    "    print(x)\n",
    "    t = 20\n",
    "    print(\"In function:\",t)\n",
    "\n",
    "x = 10\n",
    "test(x)\n",
    "print(\"In Main:\", x)\n",
    "print(\"In Main:\", t)"
   ]
  },
  {
   "cell_type": "code",
   "execution_count": 54,
   "metadata": {},
   "outputs": [
    {
     "name": "stdout",
     "output_type": "stream",
     "text": [
      "I Love London!\n",
      "I Love Paris!\n"
     ]
    }
   ],
   "source": [
    "def f():\n",
    "    s = 'I Love London!'\n",
    "    print(s)\n",
    "\n",
    "s = \"I Love Paris!\"\n",
    "f()\n",
    "print(s)\n"
   ]
  },
  {
   "cell_type": "code",
   "execution_count": 57,
   "metadata": {},
   "outputs": [
    {
     "name": "stdout",
     "output_type": "stream",
     "text": [
      "I Love London!\n",
      "I Love London!\n"
     ]
    }
   ],
   "source": [
    "def f():\n",
    "    global s\n",
    "    s = 'I Love London!'\n",
    "    print(s)\n",
    "\n",
    "s = \"I Love Paris!\"\n",
    "f()\n",
    "print(s)\n"
   ]
  },
  {
   "cell_type": "code",
   "execution_count": 59,
   "metadata": {},
   "outputs": [
    {
     "name": "stdout",
     "output_type": "stream",
     "text": [
      "In program - 1\n",
      "a: 5 b: 7 a + b: 12\n",
      "In Function\n",
      "a: 5 b: 7 a + b: 12 total: 12\n",
      "After calculation\n",
      "Total: 0 Sum: 12\n"
     ]
    }
   ],
   "source": [
    "def calculate(x,y):\n",
    "    total = x + y\n",
    "    print(\"In Function\")\n",
    "    print(\"a:\", str(a), \"b:\", str(b), \"a + b:\", str(a + b), \"total:\", str(total))\n",
    "    return total\n",
    "a = 5\n",
    "b = 7\n",
    "total = 0\n",
    "print(\"In program - 1\")\n",
    "print(\"a:\", str(a), \"b:\", str(b), \"a + b:\", str(a + b))\n",
    "\n",
    "sum = calculate (a, b)\n",
    "print(\"After calculation\")\n",
    "print(\"Total:\",str(total), \"Sum:\", str(sum))"
   ]
  },
  {
   "cell_type": "code",
   "execution_count": 1,
   "metadata": {},
   "outputs": [
    {
     "name": "stdout",
     "output_type": "stream",
     "text": [
      "2\n"
     ]
    }
   ],
   "source": [
    "def factorial(n):\n",
    "    if n == 1:\n",
    "        return 1\n",
    "    else:\n",
    "        return n * factorial(n - 1)\n",
    "print(factorial(int(input(\"Input Number for Factorial Calculation:\"))))"
   ]
  },
  {
   "cell_type": "code",
   "execution_count": 2,
   "metadata": {},
   "outputs": [
    {
     "name": "stdout",
     "output_type": "stream",
     "text": [
      "Hello TEAMLAB,My name is Sungchul\n",
      "Hello TEAMLAB,My name is Sungchul\n"
     ]
    }
   ],
   "source": [
    "#keyword 인수\n",
    "def print_something(my_name, your_name):\n",
    "    print(\"Hello {0},My name is {1}\".format(your_name, my_name))\n",
    "\n",
    "print_something(\"Sungchul\", \"TEAMLAB\")\n",
    "print_something(your_name = \"TEAMLAB\", my_name = \"Sungchul\")"
   ]
  },
  {
   "cell_type": "code",
   "execution_count": null,
   "metadata": {},
   "outputs": [],
   "source": [
    "def print_something2(my_name, your_name = \"TEAMLAB\"):\n",
    "    print(\"Hello {0},My name is {1}\".format(your_name, my_name))\n",
    "\n",
    "print_something(\"Sungchul\", \"TEAMLAB\")\n",
    "print_something(your_name = \"TEAMLAB\", my_name = \"Sungchul\")"
   ]
  }
 ],
 "metadata": {
  "kernelspec": {
   "display_name": "Python 3.10.7 64-bit",
   "language": "python",
   "name": "python3"
  },
  "language_info": {
   "codemirror_mode": {
    "name": "ipython",
    "version": 3
   },
   "file_extension": ".py",
   "mimetype": "text/x-python",
   "name": "python",
   "nbconvert_exporter": "python",
   "pygments_lexer": "ipython3",
   "version": "3.10.7 (tags/v3.10.7:6cc6b13, Sep  5 2022, 14:08:36) [MSC v.1933 64 bit (AMD64)]"
  },
  "orig_nbformat": 4,
  "vscode": {
   "interpreter": {
    "hash": "e4e7ff5db89f8a8e6e10e1c907759fa6952b666623ba1e506d0fabd455586b03"
   }
  }
 },
 "nbformat": 4,
 "nbformat_minor": 2
}
