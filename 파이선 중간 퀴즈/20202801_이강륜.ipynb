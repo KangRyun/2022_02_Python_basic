{
 "cells": [
  {
   "cell_type": "markdown",
   "metadata": {},
   "source": [
    " `is` 연산자와 `==` 연산자의 차이점을 설명하시오\n",
    " 'is'는 값을 비교하는 연산이고 '=='는 메모리의 주소를 비교하는 연산이다"
   ]
  },
  {
   "cell_type": "markdown",
   "metadata": {},
   "source": [
    "2. 센티미터(cm)를 입력받아 인치(inch)로 변환하는 프로그램을 작성하시오. [3점]\n",
    " - 1 cm = 0.393701 inch\n"
   ]
  },
  {
   "cell_type": "code",
   "execution_count": 2,
   "metadata": {},
   "outputs": [
    {
     "name": "stdout",
     "output_type": "stream",
     "text": [
      "18.7007975 inch\n"
     ]
    }
   ],
   "source": [
    "cm = float(input('센티미터를 입력하세요:'))\n",
    "inch = cm*0.393701\n",
    "print(inch,'inch')\n"
   ]
  },
  {
   "cell_type": "code",
   "execution_count": 1,
   "metadata": {},
   "outputs": [
    {
     "name": "stdout",
     "output_type": "stream",
     "text": [
      "문자열을 입력하세요.:2022년 2학기 Python기초 퀴즈 1\n"
     ]
    },
    {
     "data": {
      "text/plain": [
       "'2022년2학기Python기초퀴즈1'"
      ]
     },
     "execution_count": 1,
     "metadata": {},
     "output_type": "execute_result"
    }
   ],
   "source": [
    "\n",
    "in_str = input(\"문자열을 입력하세요:\")\n",
    "out_str = \"\" \n",
    "for i in in_str:\n",
    "    if i !=\" \":\n",
    "        out_str += i\n",
    "print(\"문자열을 입력하세요.:\"+in_str)\n",
    "out_str"
   ]
  },
  {
   "cell_type": "code",
   "execution_count": 39,
   "metadata": {},
   "outputs": [
    {
     "name": "stdout",
     "output_type": "stream",
     "text": [
      "문자열을 입력하세요.:2022년 2학기 Python기초 퀴즈 1\n",
      "2022년2학기Python기초퀴즈1\n"
     ]
    }
   ],
   "source": [
    " in_str = input(\"문자열을 입력하세요\")\n",
    "def fn_ltirm(string):\n",
    "    str_out = \"\"\n",
    "    idx = 0\n",
    "    \n",
    "    for c in in_str:\n",
    "        if (not (c == \" \" and idx == 0)):\n",
    "            str_out = str_out + c\n",
    "            idx += 0\n",
    "    return str_out\n",
    "print(\"문자열을 입력하세요.:\"+in_str)\n",
    "print(fn_ltirm(in_str))"
   ]
  }
 ],
 "metadata": {
  "kernelspec": {
   "display_name": "Python 3.9.12 ('base')",
   "language": "python",
   "name": "python3"
  },
  "language_info": {
   "codemirror_mode": {
    "name": "ipython",
    "version": 3
   },
   "file_extension": ".py",
   "mimetype": "text/x-python",
   "name": "python",
   "nbconvert_exporter": "python",
   "pygments_lexer": "ipython3",
   "version": "3.9.12"
  },
  "orig_nbformat": 4,
  "vscode": {
   "interpreter": {
    "hash": "8b3629be9ed980525c440e67a589330ffd9df78daa9afc9f6e86a0d6af3b8f96"
   }
  }
 },
 "nbformat": 4,
 "nbformat_minor": 2
}
