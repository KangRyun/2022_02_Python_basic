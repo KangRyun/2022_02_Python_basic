{
 "cells": [
  {
   "cell_type": "code",
   "execution_count": 2,
   "metadata": {},
   "outputs": [],
   "source": [
    "f = open(\"dream.txt\", 'r')\n",
    "\n",
    "contents = f.read()\n",
    "\n",
    "f.close()"
   ]
  },
  {
   "cell_type": "code",
   "execution_count": 4,
   "metadata": {},
   "outputs": [
    {
     "data": {
      "text/plain": [
       "'I have a dream a song to sing\\nto help me cope with anything\\nif you see the wonder of a fairy tale\\nyou can take the future even\\nif you fail I believe in angels\\nsomething good in everything\\n'"
      ]
     },
     "execution_count": 4,
     "metadata": {},
     "output_type": "execute_result"
    }
   ],
   "source": [
    "contents"
   ]
  },
  {
   "cell_type": "code",
   "execution_count": 5,
   "metadata": {},
   "outputs": [],
   "source": [
    "with open(\"dream.txt\", \"r\") as f:\n",
    "    contents2 = f.read()"
   ]
  },
  {
   "cell_type": "code",
   "execution_count": 6,
   "metadata": {},
   "outputs": [
    {
     "data": {
      "text/plain": [
       "'I have a dream a song to sing\\nto help me cope with anything\\nif you see the wonder of a fairy tale\\nyou can take the future even\\nif you fail I believe in angels\\nsomething good in everything\\n'"
      ]
     },
     "execution_count": 6,
     "metadata": {},
     "output_type": "execute_result"
    }
   ],
   "source": [
    "contents2"
   ]
  },
  {
   "cell_type": "code",
   "execution_count": 8,
   "metadata": {},
   "outputs": [
    {
     "data": {
      "text/plain": [
       "['I have a dream a song to sing',\n",
       " 'to help me cope with anything',\n",
       " 'if you see the wonder of a fairy tale',\n",
       " 'you can take the future even',\n",
       " 'if you fail I believe in angels',\n",
       " 'something good in everything',\n",
       " '']"
      ]
     },
     "execution_count": 8,
     "metadata": {},
     "output_type": "execute_result"
    }
   ],
   "source": [
    "contents2.split('\\n')"
   ]
  },
  {
   "cell_type": "code",
   "execution_count": 1,
   "metadata": {},
   "outputs": [
    {
     "data": {
      "text/plain": [
       "['I have a dream a song to sing\\n',\n",
       " 'to help me cope with anything\\n',\n",
       " 'if you see the wonder of a fairy tale\\n',\n",
       " 'you can take the future even\\n',\n",
       " 'if you fail I believe in angels\\n',\n",
       " 'something good in everything\\n']"
      ]
     },
     "execution_count": 1,
     "metadata": {},
     "output_type": "execute_result"
    }
   ],
   "source": [
    "with open(\"dream.txt\", 'r') as f:\n",
    "    contents3 = f.readlines()\n",
    "contents3"
   ]
  },
  {
   "cell_type": "code",
   "execution_count": 10,
   "metadata": {},
   "outputs": [
    {
     "name": "stdout",
     "output_type": "stream",
     "text": [
      "I have a dream a song to sing\n",
      "\n",
      "to help me cope with anything\n",
      "\n",
      "if you see the wonder of a fairy tale\n",
      "\n"
     ]
    }
   ],
   "source": [
    "with open(\"dream.txt\", \"r\") as f: \n",
    "    print(f.readline())\n",
    "    print(f.readline())\n",
    "    print(f.readline())"
   ]
  },
  {
   "cell_type": "code",
   "execution_count": 11,
   "metadata": {},
   "outputs": [
    {
     "name": "stdout",
     "output_type": "stream",
     "text": [
      "I have a dream a song to sing\n",
      "\n",
      "to help me cope with anything\n",
      "\n",
      "if you see the wonder of a fairy tale\n",
      "\n",
      "you can take the future even\n",
      "\n",
      "if you fail I believe in angels\n",
      "\n",
      "something good in everything\n",
      "\n"
     ]
    }
   ],
   "source": [
    "with open(\"dream.txt\", \"r\") as f:\n",
    "    while True:\n",
    "        line = f.readline()\n",
    "        if not line:\n",
    "            break\n",
    "        print(line)\n",
    "        "
   ]
  },
  {
   "cell_type": "code",
   "execution_count": 17,
   "metadata": {},
   "outputs": [
    {
     "name": "stdout",
     "output_type": "stream",
     "text": [
      "1===I have a dream a song to sing\n",
      "\n",
      "2===to help me cope with anything\n",
      "\n",
      "3===if you see the wonder of a fairy tale\n",
      "\n",
      "4===you can take the future even\n",
      "\n",
      "5===if you fail I believe in angels\n",
      "\n",
      "6===something good in everything\n",
      "\n"
     ]
    }
   ],
   "source": [
    "with open(\"dream.txt\", \"r\") as f:\n",
    "    i = 0\n",
    "    while True:\n",
    "        line = f.readline()\n",
    "        if not line:\n",
    "            break\n",
    "        print(str(i+1) + '==='+line)\n",
    "        i += 1        "
   ]
  },
  {
   "cell_type": "code",
   "execution_count": 18,
   "metadata": {},
   "outputs": [
    {
     "data": {
      "text/plain": [
       "6"
      ]
     },
     "execution_count": 18,
     "metadata": {},
     "output_type": "execute_result"
    }
   ],
   "source": [
    "i"
   ]
  },
  {
   "cell_type": "code",
   "execution_count": 20,
   "metadata": {},
   "outputs": [
    {
     "name": "stdout",
     "output_type": "stream",
     "text": [
      "총 글자의 수: 188\n",
      "총 단어의 수: 35\n",
      "총 줄의 수: 7\n"
     ]
    }
   ],
   "source": [
    "with open(\"dream.txt\", 'r') as my_file:\n",
    "    contents = my_file.read()\n",
    "    word_list = contents.split(' ')\n",
    "    line_list = contents.split('\\n')\n",
    "    \n",
    "print(\"총 글자의 수:\", len(contents))\n",
    "print('총 단어의 수:', len(word_list))\n",
    "print('총 줄의 수:', len(line_list))"
   ]
  },
  {
   "cell_type": "code",
   "execution_count": 23,
   "metadata": {},
   "outputs": [],
   "source": [
    "with open('count_log.txt', 'w', encoding= 'utf8') as f:\n",
    "    data = '1번째 줄이다\\n'\n",
    "    f.write(data)\n",
    "    data = '2번째 줄이다'\n",
    "    f.write(data)    "
   ]
  },
  {
   "cell_type": "code",
   "execution_count": 32,
   "metadata": {},
   "outputs": [],
   "source": [
    "with open('count_log.txt', 'w', encoding= 'utf8') as f:\n",
    "    for i in range(10):\n",
    "        data = str(i+1) + '번째 줄이다\\n'\n",
    "        f.write(data)"
   ]
  },
  {
   "cell_type": "code",
   "execution_count": 35,
   "metadata": {},
   "outputs": [],
   "source": [
    "with open('count_log.txt', 'a', encoding= 'utf8') as f:\n",
    "    for i in range(10):\n",
    "        data = str(i+1) + '번째 줄이다\\n'\n",
    "        f.write(data)"
   ]
  },
  {
   "cell_type": "code",
   "execution_count": 36,
   "metadata": {},
   "outputs": [],
   "source": [
    "import os"
   ]
  },
  {
   "cell_type": "code",
   "execution_count": 39,
   "metadata": {},
   "outputs": [
    {
     "ename": "FileExistsError",
     "evalue": "[WinError 183] 파일이 이미 있으므로 만들 수 없습니다: 'log'",
     "output_type": "error",
     "traceback": [
      "\u001b[1;31m---------------------------------------------------------------------------\u001b[0m",
      "\u001b[1;31mFileExistsError\u001b[0m                           Traceback (most recent call last)",
      "Cell \u001b[1;32mIn [39], line 1\u001b[0m\n\u001b[1;32m----> 1\u001b[0m os\u001b[39m.\u001b[39mmkdir(\u001b[39m\"\u001b[39m\u001b[39mlog\u001b[39m\u001b[39m\"\u001b[39m)\n",
      "\u001b[1;31mFileExistsError\u001b[0m: [WinError 183] 파일이 이미 있으므로 만들 수 없습니다: 'log'"
     ]
    }
   ],
   "source": [
    "os.mkdir(\"log\")"
   ]
  },
  {
   "cell_type": "code",
   "execution_count": 40,
   "metadata": {},
   "outputs": [
    {
     "data": {
      "text/plain": [
       "True"
      ]
     },
     "execution_count": 40,
     "metadata": {},
     "output_type": "execute_result"
    }
   ],
   "source": [
    "os.path.isdir(\"log\") #존재여부 확인"
   ]
  },
  {
   "cell_type": "code",
   "execution_count": 41,
   "metadata": {},
   "outputs": [],
   "source": [
    "if not os.path.isdir('log'):\n",
    "    os.mkdir(\"log\")"
   ]
  },
  {
   "cell_type": "code",
   "execution_count": 43,
   "metadata": {},
   "outputs": [],
   "source": [
    "#r = 읽기\n",
    "#w = 쓰기"
   ]
  },
  {
   "cell_type": "code",
   "execution_count": null,
   "metadata": {},
   "outputs": [],
   "source": []
  }
 ],
 "metadata": {
  "kernelspec": {
   "display_name": "Python 3.10.7 64-bit",
   "language": "python",
   "name": "python3"
  },
  "language_info": {
   "codemirror_mode": {
    "name": "ipython",
    "version": 3
   },
   "file_extension": ".py",
   "mimetype": "text/x-python",
   "name": "python",
   "nbconvert_exporter": "python",
   "pygments_lexer": "ipython3",
   "version": "3.10.7 (tags/v3.10.7:6cc6b13, Sep  5 2022, 14:08:36) [MSC v.1933 64 bit (AMD64)]"
  },
  "orig_nbformat": 4,
  "vscode": {
   "interpreter": {
    "hash": "e4e7ff5db89f8a8e6e10e1c907759fa6952b666623ba1e506d0fabd455586b03"
   }
  }
 },
 "nbformat": 4,
 "nbformat_minor": 2
}
