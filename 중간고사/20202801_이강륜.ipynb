{
 "cells": [
  {
   "cell_type": "markdown",
   "metadata": {},
   "source": [
    "1.리스트의 값의 주소를 저장하기 때문이다"
   ]
  },
  {
   "cell_type": "code",
   "execution_count": 10,
   "metadata": {},
   "outputs": [
    {
     "name": "stdout",
     "output_type": "stream",
     "text": [
      "score = [14, 35, 51, 60, 62, 67, 81, 84, 95] \n",
      "Top3 = [81, 84, 95]\n"
     ]
    }
   ],
   "source": [
    "score = [95, 84, 62, 51, 35, 67, 81, 60 , 14]\n",
    "score.sort()\n",
    "score_top3 = score[6:]\n",
    "print('score =', score, '\\nTop3 =', score_top3)\n",
    "#score = [14, 35, 51, 60, 62, 67, 81, 84, 95]\n",
    "#Top3 = [95, 84, 81]\n"
   ]
  },
  {
   "cell_type": "code",
   "execution_count": 21,
   "metadata": {},
   "outputs": [
    {
     "name": "stdout",
     "output_type": "stream",
     "text": [
      "score = [95, 84, 62, 51, 35, 67, 81, 60, 14] \n",
      "Mean = 61.0\n"
     ]
    }
   ],
   "source": [
    "score = [95, 84, 62, 51, 35, 67, 81, 60 , 14]\n",
    "score_sum = 0\n",
    "score_mean = 0\n",
    "for i in score:\n",
    "    score_sum += i\n",
    "score_mean = score_sum/len(score)\n",
    "print('score =', score, '\\nMean =', score_mean)"
   ]
  },
  {
   "cell_type": "code",
   "execution_count": 34,
   "metadata": {},
   "outputs": [
    {
     "name": "stdout",
     "output_type": "stream",
     "text": [
      "숫자 = 9 \n",
      "결과 = O\n"
     ]
    }
   ],
   "source": [
    "import random\n",
    "num = random.randint(0, 9)\n",
    "\n",
    "\n",
    "num_user = int(input(\"0(짝수) 또는 1(홀수)를 입력하세요.\"))\n",
    "if num_user == 0: \n",
    "    if num % 2 == 0:\n",
    "        result='O'\n",
    "    else:\n",
    "        result='X'\n",
    "elif num_user == 1:\n",
    "    if num % 2 == 1:\n",
    "         result='O'\n",
    "    else:\n",
    "        result='X'\n",
    "print('숫자 =', num, '\\n결과 =', result)\n"
   ]
  },
  {
   "cell_type": "code",
   "execution_count": 147,
   "metadata": {},
   "outputs": [
    {
     "name": "stdout",
     "output_type": "stream",
     "text": [
      "파일 = 파이썬기초 중간고사.pdf \n",
      "이름 = 파이썬기초 중간고사\n"
     ]
    }
   ],
   "source": [
    "file_name = \"파이썬기초 중간고사.pdf\"\n",
    "result = ''\n",
    "for i in file_name:\n",
    "    if i == '.':\n",
    "        break\n",
    "    result += i\n",
    "print('파일 =', file_name, '\\n이름 =', result)\n",
    "\n"
   ]
  }
 ],
 "metadata": {
  "kernelspec": {
   "display_name": "Python 3.9.12 ('base')",
   "language": "python",
   "name": "python3"
  },
  "language_info": {
   "codemirror_mode": {
    "name": "ipython",
    "version": 3
   },
   "file_extension": ".py",
   "mimetype": "text/x-python",
   "name": "python",
   "nbconvert_exporter": "python",
   "pygments_lexer": "ipython3",
   "version": "3.9.12"
  },
  "orig_nbformat": 4,
  "vscode": {
   "interpreter": {
    "hash": "8b3629be9ed980525c440e67a589330ffd9df78daa9afc9f6e86a0d6af3b8f96"
   }
  }
 },
 "nbformat": 4,
 "nbformat_minor": 2
}
