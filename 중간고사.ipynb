{
 "cells": [
  {
   "cell_type": "code",
   "execution_count": 40,
   "metadata": {},
   "outputs": [
    {
     "name": "stdout",
     "output_type": "stream",
     "text": [
      "apple\n"
     ]
    }
   ],
   "source": [
    "fruit = 'apple'\n",
    "if fruit == 'Apple':\n",
    "    fruit == 'Apple'\n",
    "elif fruit == 'fruit':\n",
    "    fruit = 'fruit'\n",
    "else:\n",
    "    fruit = fruit\n",
    "print(fruit)"
   ]
  },
  {
   "cell_type": "code",
   "execution_count": 41,
   "metadata": {},
   "outputs": [
    {
     "name": "stdout",
     "output_type": "stream",
     "text": [
      "3\n"
     ]
    }
   ],
   "source": [
    "num = 0\n",
    "i = 1\n",
    "while i < 8:\n",
    "    if i % 3 == 0:\n",
    "        break\n",
    "    i += 1\n",
    "    num += i\n",
    "print(i)"
   ]
  },
  {
   "cell_type": "code",
   "execution_count": 42,
   "metadata": {},
   "outputs": [
    {
     "name": "stdout",
     "output_type": "stream",
     "text": [
      "-5\n"
     ]
    }
   ],
   "source": [
    "result = 0\n",
    "for i in range(5,-5,-2):\n",
    "    if i < -3:\n",
    "        result += 1\n",
    "    else:\n",
    "        result -= 1\n",
    "print(result)"
   ]
  },
  {
   "cell_type": "code",
   "execution_count": 43,
   "metadata": {},
   "outputs": [
    {
     "name": "stdout",
     "output_type": "stream",
     "text": [
      "0\n"
     ]
    }
   ],
   "source": [
    "first_value = 0\n",
    "second_value = 0\n",
    "for i in range(1,10):\n",
    "    if i == 5:\n",
    "        continue\n",
    "        first_value = i\n",
    "    if i == 10:\n",
    "        second_value = i\n",
    "print(first_value + second_value)"
   ]
  },
  {
   "cell_type": "code",
   "execution_count": 44,
   "metadata": {},
   "outputs": [
    {
     "name": "stdout",
     "output_type": "stream",
     "text": [
      "45\n"
     ]
    }
   ],
   "source": [
    "score_list = [5,10,15,20,25,30]\n",
    "sum_of_score = 0\n",
    "i = 0\n",
    "while i < len(score_list):\n",
    "    if i % 2==0:\n",
    "        sum_of_score += score_list[i]\n",
    "    i += 1\n",
    "print(sum_of_score)"
   ]
  },
  {
   "cell_type": "code",
   "execution_count": 45,
   "metadata": {},
   "outputs": [],
   "source": [
    "coupon = 0\n",
    "money = 200000\n",
    "coffee = 3500\n",
    "while money > coffee:\n",
    "    if coupon <4:\n",
    "        money = money - coffee\n",
    "        coupon += 1\n",
    "    else:\n",
    "        money += 2800\n",
    "        coupon = 0\n"
   ]
  },
  {
   "cell_type": "code",
   "execution_count": 47,
   "metadata": {},
   "outputs": [
    {
     "ename": "SyntaxError",
     "evalue": "invalid syntax (3557804475.py, line 11)",
     "output_type": "error",
     "traceback": [
      "\u001b[1;36m  Input \u001b[1;32mIn [47]\u001b[1;36m\u001b[0m\n\u001b[1;33m    elif:\u001b[0m\n\u001b[1;37m        ^\u001b[0m\n\u001b[1;31mSyntaxError\u001b[0m\u001b[1;31m:\u001b[0m invalid syntax\n"
     ]
    }
   ],
   "source": []
  },
  {
   "cell_type": "code",
   "execution_count": 56,
   "metadata": {},
   "outputs": [
    {
     "name": "stdout",
     "output_type": "stream",
     "text": [
      "I\n",
      " I\n",
      "l I\n",
      "ol I\n",
      "vol I\n",
      "evol I\n",
      " evol I\n",
      "y evol I\n",
      "oy evol I\n",
      "uoy evol I\n"
     ]
    }
   ],
   "source": [
    "sentence = 'I love you'\n",
    "reverse_sentense = ''\n",
    "for char in sentence:\n",
    "    reverse_sentense = char + reverse_sentense\n",
    "    print(reverse_sentense)"
   ]
  },
  {
   "cell_type": "code",
   "execution_count": 55,
   "metadata": {},
   "outputs": [
    {
     "name": "stdout",
     "output_type": "stream",
     "text": [
      "구구단 몇 단을 계산할까?\n",
      "1\n",
      "2\n",
      "3\n",
      "4\n",
      "5\n",
      "6\n",
      "7\n",
      "8\n",
      "9\n"
     ]
    }
   ],
   "source": [
    "print('구구단 몇 단을 계산할까?')\n",
    "gu=int(input(''))\n",
    "for i in range(1,10):\n",
    "    result =i * gu \n",
    "    print(result)"
   ]
  },
  {
   "cell_type": "code",
   "execution_count": 5,
   "metadata": {},
   "outputs": [
    {
     "name": "stdout",
     "output_type": "stream",
     "text": [
      "1 번째 학생은 합격입니다.\n",
      "2 번째 학생은 불합격입니다.\n",
      "3 번째 학생은 합격입니다.\n",
      "4 번째 학생은 불합격입니다.\n",
      "5 번째 학생은 합격입니다.\n"
     ]
    }
   ],
   "source": [
    "score = [90,25,67,45,80]\n",
    "number = 0\n",
    "for i in score:\n",
    "    number += 1\n",
    "    if i > 60:\n",
    "        print(number,'번째 학생은','합격입니다.')\n",
    "    else:\n",
    "        print(number,'번째 학생은','불합격입니다.')"
   ]
  },
  {
   "cell_type": "code",
   "execution_count": 1,
   "metadata": {},
   "outputs": [
    {
     "name": "stdout",
     "output_type": "stream",
     "text": [
      "5번의 게임을 시작합니다.\n",
      "Lose\n",
      "Tie\n",
      "Lose\n",
      "Lose\n",
      "Lose\n",
      "결과는...\n",
      "['Lose', 'Tie', 'Lose', 'Lose', 'Lose']\n"
     ]
    }
   ],
   "source": [
    "import random\n",
    "\n",
    "n = 5\n",
    "print(str(n)+\"번의 게임을 시작합니다.\")\n",
    "\n",
    "result_list = [] # 결과 저장 변수 생성\n",
    "\n",
    "for i in range(n):\n",
    "    user = int(input(\"가위(1), 바위(2), 보(3):\"))\n",
    "    com = random.randint(1,3)\n",
    "    \n",
    "    if user == com:\n",
    "        result = \"Tie\"\n",
    "    elif com==1 and user==2:\n",
    "        result = \"Win\"\n",
    "    elif com==2 and user==3:\n",
    "        result = \"Win\"\n",
    "    elif com==3 and user==1:\n",
    "        result = \"Win\"\n",
    "    else:\n",
    "        result = \"Lose\"\n",
    "    \n",
    "    print(result)\n",
    "    \n",
    "    result_list.append(result) # 결과 추가\n",
    "\n",
    "print(\"결과는...\") # 전체 결과 확인\n",
    "print(result_list)"
   ]
  },
  {
   "cell_type": "code",
   "execution_count": null,
   "metadata": {},
   "outputs": [],
   "source": []
  },
  {
   "cell_type": "code",
   "execution_count": 23,
   "metadata": {},
   "outputs": [
    {
     "name": "stdout",
     "output_type": "stream",
     "text": [
      "5번의 게임을 시작합니다.\n",
      "Win\n",
      "가위(1),바위(2),보(3): 2\n",
      "Win\n",
      "가위(1),바위(2),보(3): 3\n",
      "Win\n",
      "가위(1),바위(2),보(3): 1\n",
      "Win\n",
      "가위(1),바위(2),보(3): 2\n",
      "Lose\n",
      "가위(1),바위(2),보(3): 3\n",
      "['Win', 'Win', 'Win', 'Win', 'Lose']\n"
     ]
    }
   ],
   "source": [
    "import random\n",
    "print('5번의 게임을 시작합니다.')\n",
    "result2 = []\n",
    "for i in range(5):\n",
    "    user = int(input(\"가위(1), 바위(2), 보(3):\"))\n",
    "    com = random.randint(1,3)\n",
    "    if user==com:\n",
    "        result = \"Tie\"\n",
    "    elif com==1 and user==2:\n",
    "        result = \"Win\"\n",
    "    elif com==2 and user==3:\n",
    "        result = \"Win\"\n",
    "    elif com==3 and user==1:\n",
    "        result = \"Win\"\n",
    "    else:\n",
    "        result = \"Lose\"\n",
    "    result2.append(result)\n",
    "    print(result)\n",
    "    print('가위(1),바위(2),보(3):',user)\n",
    "print(result2)"
   ]
  },
  {
   "cell_type": "code",
   "execution_count": 4,
   "metadata": {},
   "outputs": [
    {
     "name": "stdout",
     "output_type": "stream",
     "text": [
      "2600\n"
     ]
    }
   ],
   "source": [
    "coupon = 0\n",
    "money = 200000\n",
    "coffee = 3500\n",
    "money_coupon = 0\n",
    "while money > coffee:\n",
    "    if coupon < 4:\n",
    "        money = money - coffee\n",
    "        coupon += 1\n",
    "    else:\n",
    "        money += 2800\n",
    "        coupon = 0\n",
    "        money_coupon += 2800\n",
    "print(money)"
   ]
  },
  {
   "cell_type": "code",
   "execution_count": 27,
   "metadata": {},
   "outputs": [
    {
     "name": "stdout",
     "output_type": "stream",
     "text": [
      "Tie\n",
      "가위(1),바위(2),보(3): 2\n",
      "Lose\n",
      "가위(1),바위(2),보(3): 3\n",
      "Lose\n",
      "가위(1),바위(2),보(3): 1\n",
      "Win\n",
      "가위(1),바위(2),보(3): 2\n",
      "Win\n",
      "가위(1),바위(2),보(3): 3\n",
      "['Tie', 'Lose', 'Lose', 'Win', 'Win']\n"
     ]
    }
   ],
   "source": [
    "import random\n",
    "result2 = []\n",
    "for i in range(5):\n",
    "    user = int(input(\"가위(1), 바위(2), 보(3):\"))\n",
    "    com = random.randint(1,3)\n",
    "    if user==com:\n",
    "        result = \"Tie\"\n",
    "    elif com==1 and user==2:\n",
    "        result = \"Win\"\n",
    "    elif com==2 and user==3:\n",
    "        result = \"Win\"\n",
    "    elif com==3 and user==1:\n",
    "        result = \"Win\"\n",
    "    else:\n",
    "        result = \"Lose\"\n",
    "    result2.append(result)\n",
    "    print(result)\n",
    "    print('가위(1),바위(2),보(3):',user)\n",
    "\n",
    "print(result2)"
   ]
  },
  {
   "cell_type": "code",
   "execution_count": 3,
   "metadata": {},
   "outputs": [
    {
     "name": "stdout",
     "output_type": "stream",
     "text": [
      "5번의 게임을 시작합니다\n",
      "Tie\n",
      "Win\n",
      "Tie\n",
      "Win\n",
      "Win\n",
      "['Tie', 'Win', 'Tie', 'Win', 'Win']\n"
     ]
    }
   ],
   "source": [
    "import random\n",
    "print('5번의 게임을 시작합니다')\n",
    "result_all = []\n",
    "for i in range(5):\n",
    "    user = int(input(\"가위(1), 바위(2), 보(3):\"))\n",
    "    com = random.randint(1,3)\n",
    "    if user==com:\n",
    "        result = \"Tie\"\n",
    "    elif com==1 and user==2:\n",
    "         result = \"Win\" \n",
    "    elif com==2 and user==3:\n",
    "        result = \"Win\"\n",
    "    elif com==3 and user==1:\n",
    "        result = \"Win\"\n",
    "    else:\n",
    "        result = \"Lose\"\n",
    "    result_all.append(result)\n",
    "    print(result)\n",
    "    print()\n",
    "print(result_all)"
   ]
  }
 ],
 "metadata": {
  "kernelspec": {
   "display_name": "Python 3.10.7 64-bit",
   "language": "python",
   "name": "python3"
  },
  "language_info": {
   "codemirror_mode": {
    "name": "ipython",
    "version": 3
   },
   "file_extension": ".py",
   "mimetype": "text/x-python",
   "name": "python",
   "nbconvert_exporter": "python",
   "pygments_lexer": "ipython3",
   "version": "3.10.7"
  },
  "orig_nbformat": 4,
  "vscode": {
   "interpreter": {
    "hash": "e4e7ff5db89f8a8e6e10e1c907759fa6952b666623ba1e506d0fabd455586b03"
   }
  }
 },
 "nbformat": 4,
 "nbformat_minor": 2
}
