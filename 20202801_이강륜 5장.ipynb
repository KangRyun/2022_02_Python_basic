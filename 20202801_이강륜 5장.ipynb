{
 "cells": [
  {
   "cell_type": "code",
   "execution_count": 2,
   "metadata": {},
   "outputs": [],
   "source": [
    "### 함수 선언(만들기)\n",
    "def fn_times_table(x):\n",
    "   # x = 3\n",
    "    for i in range(1,10):\n",
    "        print(str(x)+'x'+str(i)+'='+str(x*i))"
   ]
  },
  {
   "cell_type": "code",
   "execution_count": 5,
   "metadata": {},
   "outputs": [
    {
     "name": "stdout",
     "output_type": "stream",
     "text": [
      "3x1=3\n",
      "3x2=6\n",
      "3x3=9\n",
      "3x4=12\n",
      "3x5=15\n",
      "3x6=18\n",
      "3x7=21\n",
      "3x8=24\n",
      "3x9=27\n"
     ]
    }
   ],
   "source": [
    "### 함수 호출 (사용)\n",
    "fn_times_table(3)"
   ]
  },
  {
   "cell_type": "code",
   "execution_count": 1,
   "metadata": {},
   "outputs": [
    {
     "name": "stdout",
     "output_type": "stream",
     "text": [
      "사각형 x의 길이: 10\n",
      "사각형 y의 길이: 20\n",
      "사각형의 넓이: 200\n"
     ]
    }
   ],
   "source": [
    "def calculate_rectangle_area(x,y):\n",
    "    return x*y\n",
    "rectangle_x = 10\n",
    "rectangle_y = 20\n",
    "print('사각형 x의 길이:',rectangle_x)\n",
    "print('사각형 y의 길이:',rectangle_y)\n",
    "\n",
    "#넓이를 구하는 함수 호출\n",
    "print('사각형의 넓이:',calculate_rectangle_area(rectangle_x,rectangle_y))"
   ]
  },
  {
   "cell_type": "code",
   "execution_count": 10,
   "metadata": {},
   "outputs": [
    {
     "name": "stdout",
     "output_type": "stream",
     "text": [
      "151\n"
     ]
    }
   ],
   "source": [
    "###시험문제 가능성\n",
    "def f(x):\n",
    "    return 2*x+7\n",
    "def g(x):\n",
    "    return x**2\n",
    "x=2\n",
    "print(f(x)+g(x)+f(g(x))+g(f(x)))"
   ]
  },
  {
   "cell_type": "code",
   "execution_count": 13,
   "metadata": {},
   "outputs": [
    {
     "name": "stdout",
     "output_type": "stream",
     "text": [
      "35\n",
      "35\n",
      "35\n",
      "35\n"
     ]
    }
   ],
   "source": [
    "def a():            #매개변수 X, 반환값 X\n",
    "    print(5*7)\n",
    "def b(x,y):         #매개변수 O, 반환값 X\n",
    "    print(x*y)\n",
    "def c():            #매개변수 X, 반환값 O\n",
    "    return(5*7)\n",
    "def d(x,y):         #매개변수 O, 반환값 O\n",
    "    return(x*y)\n",
    "\n",
    "a()\n",
    "b(5,7)\n",
    "print(c())\n",
    "print(d(5,7))"
   ]
  },
  {
   "cell_type": "code",
   "execution_count": 26,
   "metadata": {},
   "outputs": [
    {
     "name": "stdout",
     "output_type": "stream",
     "text": [
      "35\n",
      "None\n"
     ]
    }
   ],
   "source": [
    "res = a() \n",
    "print(res)"
   ]
  },
  {
   "cell_type": "code",
   "execution_count": 31,
   "metadata": {},
   "outputs": [
    {
     "name": "stdout",
     "output_type": "stream",
     "text": [
      "21\n"
     ]
    }
   ],
   "source": [
    "res = d(3,7) #매개변수가 있으면 값 저장 가능\n",
    "print(res)\n"
   ]
  },
  {
   "cell_type": "code",
   "execution_count": 21,
   "metadata": {},
   "outputs": [
    {
     "name": "stdout",
     "output_type": "stream",
     "text": [
      "35\n"
     ]
    }
   ],
   "source": [
    "# print(c()) = 35 와 같다고 할 수있다"
   ]
  },
  {
   "cell_type": "code",
   "execution_count": 1,
   "metadata": {},
   "outputs": [
    {
     "name": "stdout",
     "output_type": "stream",
     "text": [
      "9\n",
      "3\n"
     ]
    }
   ],
   "source": [
    "def f(x):\n",
    "    y = x\n",
    "    x = 5\n",
    "    return y * y\n",
    "\n",
    "x= 3\n",
    "print(f(x))\n",
    "print(x)"
   ]
  },
  {
   "cell_type": "markdown",
   "metadata": {},
   "source": [
    "#값에 의한 호출"
   ]
  },
  {
   "cell_type": "markdown",
   "metadata": {},
   "source": [
    "함수의 인수를 넘길 때 값만 넘김"
   ]
  },
  {
   "cell_type": "markdown",
   "metadata": {},
   "source": [
    "함수 안의 인수값 변경 시,호출된 변수에 영향을 주지 않음"
   ]
  },
  {
   "cell_type": "markdown",
   "metadata": {},
   "source": [
    "#참조호출\n"
   ]
  },
  {
   "cell_type": "markdown",
   "metadata": {},
   "source": [
    "수에 인수를 넘길 때 메모리 주소를 넘김"
   ]
  },
  {
   "cell_type": "markdown",
   "metadata": {},
   "source": [
    "\n",
    "파이썬에서는 새로운 값을 할당하거나 해당 객체를 지울 때는 영향을 주지 않고, 단순히 해당 객체에 값을 추가할 때는 영향을 준다.\n"
   ]
  },
  {
   "cell_type": "code",
   "execution_count": 9,
   "metadata": {},
   "outputs": [
    {
     "name": "stdout",
     "output_type": "stream",
     "text": [
      "[0, 1]\n"
     ]
    }
   ],
   "source": [
    "def spam(eggs):\n",
    "    eggs.append(1)      #기존 객체의 주소값에 [1] 추가\n",
    "    \n",
    "    eggs = [2,3]#할당 연산자        #새로운 객체 생성\n",
    "\n",
    "ham = [0]\n",
    "spam(ham)\n",
    "print(ham)"
   ]
  },
  {
   "cell_type": "code",
   "execution_count": 10,
   "metadata": {},
   "outputs": [
    {
     "name": "stdout",
     "output_type": "stream",
     "text": [
      "10\n",
      "In Function: 20\n",
      "In Main: 10\n"
     ]
    },
    {
     "ename": "NameError",
     "evalue": "name 't' is not defined",
     "output_type": "error",
     "traceback": [
      "\u001b[1;31m---------------------------------------------------------------------------\u001b[0m",
      "\u001b[1;31mNameError\u001b[0m                                 Traceback (most recent call last)",
      "\u001b[1;32md:\\2022\\falls\\python 기초\\20202801_이강륜 5장.ipynb 셀 17\u001b[0m in \u001b[0;36m<cell line: 9>\u001b[1;34m()\u001b[0m\n\u001b[0;32m      <a href='vscode-notebook-cell:/d%3A/2022/falls/python%20%EA%B8%B0%EC%B4%88/20202801_%EC%9D%B4%EA%B0%95%EB%A5%9C%205%EC%9E%A5.ipynb#X25sZmlsZQ%3D%3D?line=6'>7</a>\u001b[0m test(x)\n\u001b[0;32m      <a href='vscode-notebook-cell:/d%3A/2022/falls/python%20%EA%B8%B0%EC%B4%88/20202801_%EC%9D%B4%EA%B0%95%EB%A5%9C%205%EC%9E%A5.ipynb#X25sZmlsZQ%3D%3D?line=7'>8</a>\u001b[0m \u001b[39mprint\u001b[39m(\u001b[39m'\u001b[39m\u001b[39mIn Main:\u001b[39m\u001b[39m'\u001b[39m,x)\n\u001b[1;32m----> <a href='vscode-notebook-cell:/d%3A/2022/falls/python%20%EA%B8%B0%EC%B4%88/20202801_%EC%9D%B4%EA%B0%95%EB%A5%9C%205%EC%9E%A5.ipynb#X25sZmlsZQ%3D%3D?line=8'>9</a>\u001b[0m \u001b[39mprint\u001b[39m(\u001b[39m'\u001b[39m\u001b[39mIn Main:\u001b[39m\u001b[39m'\u001b[39m,t)\n",
      "\u001b[1;31mNameError\u001b[0m: name 't' is not defined"
     ]
    }
   ],
   "source": [
    "def test(x):\n",
    "    print(x)\n",
    "    t = 20\n",
    "    print('In Function:',t)\n",
    "    \n",
    "x = 10\n",
    "test(x)\n",
    "print('In Main:',x)\n",
    "print('In Main:',t)"
   ]
  },
  {
   "cell_type": "code",
   "execution_count": 13,
   "metadata": {},
   "outputs": [
    {
     "name": "stdout",
     "output_type": "stream",
     "text": [
      "I love London!\n",
      "I love London!\n"
     ]
    }
   ],
   "source": [
    "def f():\n",
    "    global s\n",
    "    s = 'I love London!'\n",
    "    print(s)\n",
    "    \n",
    "s = 'I love Paris!'\n",
    "f()\n",
    "print(s)"
   ]
  },
  {
   "cell_type": "markdown",
   "metadata": {},
   "source": [
    "###재귀함수X"
   ]
  },
  {
   "cell_type": "code",
   "execution_count": 27,
   "metadata": {},
   "outputs": [
    {
     "data": {
      "text/plain": [
       "8"
      ]
     },
     "execution_count": 27,
     "metadata": {},
     "output_type": "execute_result"
    }
   ],
   "source": [
    "#키워드 인수 (반드시 입력한값 사용)\n",
    "def fn_power(x,y):\n",
    "    return x**y\n",
    "\n",
    "fn_power(2,3)\n",
    "\n"
   ]
  },
  {
   "cell_type": "code",
   "execution_count": 29,
   "metadata": {},
   "outputs": [
    {
     "ename": "TypeError",
     "evalue": "fn_power() missing 1 required positional argument: 'y'",
     "output_type": "error",
     "traceback": [
      "\u001b[1;31m---------------------------------------------------------------------------\u001b[0m",
      "\u001b[1;31mTypeError\u001b[0m                                 Traceback (most recent call last)",
      "\u001b[1;32md:\\2022\\falls\\python 기초\\20202801_이강륜 5장.ipynb 셀 21\u001b[0m in \u001b[0;36m<cell line: 1>\u001b[1;34m()\u001b[0m\n\u001b[1;32m----> <a href='vscode-notebook-cell:/d%3A/2022/falls/python%20%EA%B8%B0%EC%B4%88/20202801_%EC%9D%B4%EA%B0%95%EB%A5%9C%205%EC%9E%A5.ipynb#X43sZmlsZQ%3D%3D?line=0'>1</a>\u001b[0m fn_power(\u001b[39m2\u001b[39;49m)\n",
      "\u001b[1;31mTypeError\u001b[0m: fn_power() missing 1 required positional argument: 'y'"
     ]
    }
   ],
   "source": [
    "fn_power(2)#답을 하나만 입력하면 오류가 남"
   ]
  },
  {
   "cell_type": "code",
   "execution_count": 28,
   "metadata": {},
   "outputs": [
    {
     "data": {
      "text/plain": [
       "8"
      ]
     },
     "execution_count": 28,
     "metadata": {},
     "output_type": "execute_result"
    }
   ],
   "source": [
    "fn_power(x=2,y=3)"
   ]
  },
  {
   "cell_type": "code",
   "execution_count": 30,
   "metadata": {},
   "outputs": [
    {
     "data": {
      "text/plain": [
       "8"
      ]
     },
     "execution_count": 30,
     "metadata": {},
     "output_type": "execute_result"
    }
   ],
   "source": [
    "fn_power(y=3,x=2)"
   ]
  },
  {
   "cell_type": "code",
   "execution_count": 33,
   "metadata": {},
   "outputs": [],
   "source": [
    "### 디폴트 인수 - default arguments (값을 입력하면 입력한 값 사용, 입력하지 않으면 디폴트값 사용)\n",
    "def fn_power(x, y=2):\n",
    "    return x**y"
   ]
  },
  {
   "cell_type": "code",
   "execution_count": 34,
   "metadata": {},
   "outputs": [
    {
     "data": {
      "text/plain": [
       "8"
      ]
     },
     "execution_count": 34,
     "metadata": {},
     "output_type": "execute_result"
    }
   ],
   "source": [
    "fn_power(2,3)"
   ]
  },
  {
   "cell_type": "code",
   "execution_count": 36,
   "metadata": {},
   "outputs": [
    {
     "data": {
      "text/plain": [
       "4"
      ]
     },
     "execution_count": 36,
     "metadata": {},
     "output_type": "execute_result"
    }
   ],
   "source": [
    "fn_power(2)"
   ]
  },
  {
   "cell_type": "code",
   "execution_count": 38,
   "metadata": {},
   "outputs": [
    {
     "data": {
      "text/plain": [
       "8"
      ]
     },
     "execution_count": 38,
     "metadata": {},
     "output_type": "execute_result"
    }
   ],
   "source": [
    "fn_power(x=2,y=3)"
   ]
  },
  {
   "cell_type": "code",
   "execution_count": 39,
   "metadata": {},
   "outputs": [
    {
     "data": {
      "text/plain": [
       "8"
      ]
     },
     "execution_count": 39,
     "metadata": {},
     "output_type": "execute_result"
    }
   ],
   "source": [
    "fn_power(y=3,x=2)"
   ]
  },
  {
   "cell_type": "code",
   "execution_count": null,
   "metadata": {},
   "outputs": [],
   "source": [
    "fn_power"
   ]
  },
  {
   "cell_type": "code",
   "execution_count": null,
   "metadata": {},
   "outputs": [],
   "source": [
    "\n",
    "def print_something(my_name,your_name):\n",
    "    print('Hello {0},My name is {1}'.format(your_name,my_name))\n",
    "    \n",
    "print_something('Sungchul','TEAMLAB')\n",
    "print_something(your_name = 'TEAMLAB',my_name= 'Sungchul')"
   ]
  },
  {
   "cell_type": "code",
   "execution_count": null,
   "metadata": {},
   "outputs": [],
   "source": []
  }
 ],
 "metadata": {
  "kernelspec": {
   "display_name": "Python 3.10.7 64-bit",
   "language": "python",
   "name": "python3"
  },
  "language_info": {
   "codemirror_mode": {
    "name": "ipython",
    "version": 3
   },
   "file_extension": ".py",
   "mimetype": "text/x-python",
   "name": "python",
   "nbconvert_exporter": "python",
   "pygments_lexer": "ipython3",
   "version": "3.10.7 (tags/v3.10.7:6cc6b13, Sep  5 2022, 14:08:36) [MSC v.1933 64 bit (AMD64)]"
  },
  "orig_nbformat": 4,
  "vscode": {
   "interpreter": {
    "hash": "e4e7ff5db89f8a8e6e10e1c907759fa6952b666623ba1e506d0fabd455586b03"
   }
  }
 },
 "nbformat": 4,
 "nbformat_minor": 2
}
