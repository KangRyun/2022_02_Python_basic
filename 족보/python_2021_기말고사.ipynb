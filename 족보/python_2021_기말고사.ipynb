{
 "cells": [
  {
   "cell_type": "code",
   "execution_count": 1,
   "metadata": {},
   "outputs": [],
   "source": [
    "import pandas as pd\n",
    "import easygui\n",
    "from matplotlib import pyplot as plt"
   ]
  },
  {
   "attachments": {},
   "cell_type": "markdown",
   "metadata": {},
   "source": [
    "#### 1. images.txt 파일에는 사진 파일의 이름과 확장자가 저장되어 있다. images.txt   파일의 자료를 data 변수에 리스트로 저장하시오"
   ]
  },
  {
   "cell_type": "code",
   "execution_count": 2,
   "metadata": {},
   "outputs": [
    {
     "ename": "FileNotFoundError",
     "evalue": "[Errno 2] No such file or directory: 'images.txt'",
     "output_type": "error",
     "traceback": [
      "\u001b[1;31m---------------------------------------------------------------------------\u001b[0m",
      "\u001b[1;31mFileNotFoundError\u001b[0m                         Traceback (most recent call last)",
      "Cell \u001b[1;32mIn [2], line 1\u001b[0m\n\u001b[1;32m----> 1\u001b[0m f \u001b[39m=\u001b[39m \u001b[39mopen\u001b[39m(\u001b[39m\"\u001b[39m\u001b[39mimages.txt\u001b[39m\u001b[39m\"\u001b[39m, \u001b[39m\"\u001b[39m\u001b[39mr\u001b[39m\u001b[39m\"\u001b[39m)\n\u001b[0;32m      2\u001b[0m data \u001b[39m=\u001b[39m f\u001b[39m.\u001b[39mreadlines()\n\u001b[0;32m      3\u001b[0m \u001b[39mprint\u001b[39m(data)\n",
      "\u001b[1;31mFileNotFoundError\u001b[0m: [Errno 2] No such file or directory: 'images.txt'"
     ]
    }
   ],
   "source": [
    "f = open(\"images.txt\", \"r\")\n",
    "data = f.readlines()\n",
    "print(data)\n",
    "f.close()"
   ]
  },
  {
   "attachments": {},
   "cell_type": "markdown",
   "metadata": {},
   "source": [
    "### 2. 사진 파일명이 저장된 data 변수에서 파일 확장자(filename extension)만 추출하여 extension_list 변수에 저장하시오"
   ]
  },
  {
   "cell_type": "code",
   "execution_count": 3,
   "metadata": {},
   "outputs": [],
   "source": [
    "import os"
   ]
  },
  {
   "cell_type": "code",
   "execution_count": 4,
   "metadata": {},
   "outputs": [
    {
     "name": "stdout",
     "output_type": "stream",
     "text": [
      "jpg\n",
      "\n",
      "jpg\n",
      "\n",
      "jpg\n",
      "\n",
      "jpg\n",
      "\n",
      "PNG\n",
      "\n",
      "png\n",
      "\n",
      "jpg\n",
      "\n",
      "jpg\n",
      "\n",
      "jpg\n",
      "\n",
      "jpg\n",
      "\n",
      "jpg\n",
      "\n",
      "jpg\n",
      "\n",
      "png\n",
      "\n",
      "png\n",
      "\n",
      "jpg\n",
      "\n",
      "jpg\n",
      "\n",
      "png\n",
      "\n",
      "png\n",
      "\n",
      "jpg\n",
      "\n",
      "png\n",
      "\n",
      "jpg\n",
      "\n",
      "jpg\n",
      "\n",
      "png\n",
      "\n",
      "jpg\n",
      "\n",
      "png\n",
      "\n",
      "PNG\n",
      "\n",
      "jpg\n",
      "\n",
      "jpg\n",
      "\n",
      "png\n",
      "\n",
      "jpg\n",
      "\n",
      "jpg\n",
      "\n",
      "png\n",
      "\n",
      "jpg\n",
      "\n",
      "png\n",
      "\n",
      "png\n",
      "\n",
      "jpg\n",
      "\n",
      "jpg\n",
      "\n"
     ]
    }
   ],
   "source": [
    "for x in range(len(data)):\n",
    "    extension_list = data[x].split(\".\")[1]\n",
    "    print(extension_list)"
   ]
  },
  {
   "cell_type": "code",
   "execution_count": 76,
   "metadata": {},
   "outputs": [
    {
     "data": {
      "text/plain": [
       "'jpg\\n'"
      ]
     },
     "execution_count": 76,
     "metadata": {},
     "output_type": "execute_result"
    }
   ],
   "source": [
    "extension_list"
   ]
  },
  {
   "attachments": {},
   "cell_type": "markdown",
   "metadata": {},
   "source": [
    "### 3. extension_list 변수에 저장된 확장자를 소문자로 변환하여 extension_lower 변수에 저장하시오. (반복문 또는 리스트 컴프리헨션(list comprehension) 이용)\n"
   ]
  },
  {
   "cell_type": "code",
   "execution_count": 10,
   "metadata": {},
   "outputs": [
    {
     "name": "stdout",
     "output_type": "stream",
     "text": [
      "jpg\n",
      "\n",
      "jpg\n",
      "\n",
      "jpg\n",
      "\n",
      "jpg\n",
      "\n",
      "png\n",
      "\n",
      "png\n",
      "\n",
      "jpg\n",
      "\n",
      "jpg\n",
      "\n",
      "jpg\n",
      "\n",
      "jpg\n",
      "\n",
      "jpg\n",
      "\n",
      "jpg\n",
      "\n",
      "png\n",
      "\n",
      "png\n",
      "\n",
      "jpg\n",
      "\n",
      "jpg\n",
      "\n",
      "png\n",
      "\n",
      "png\n",
      "\n",
      "jpg\n",
      "\n",
      "png\n",
      "\n",
      "jpg\n",
      "\n",
      "jpg\n",
      "\n",
      "png\n",
      "\n",
      "jpg\n",
      "\n",
      "png\n",
      "\n",
      "png\n",
      "\n",
      "jpg\n",
      "\n",
      "jpg\n",
      "\n",
      "png\n",
      "\n",
      "jpg\n",
      "\n",
      "jpg\n",
      "\n",
      "png\n",
      "\n",
      "jpg\n",
      "\n",
      "png\n",
      "\n",
      "png\n",
      "\n",
      "jpg\n",
      "\n",
      "jpg\n",
      "\n"
     ]
    }
   ],
   "source": [
    "extension_lower = []\n",
    "for x in range(len(data)):\n",
    "    extension_list = data[x].split(\".\")[1]\n",
    "    extension_lower = extension_list.lower()\n",
    "    print(extension_lower)"
   ]
  },
  {
   "attachments": {},
   "cell_type": "markdown",
   "metadata": {},
   "source": [
    "### 4. extension_lower 변수에서 확장자가 'jpg', 'png'인 자료의 개수를 구하시오"
   ]
  },
  {
   "cell_type": "code",
   "execution_count": 104,
   "metadata": {},
   "outputs": [
    {
     "name": "stdout",
     "output_type": "stream",
     "text": [
      "jpg: 1\n",
      "png: 1\n"
     ]
    }
   ],
   "source": [
    "for x in range(len(data)):\n",
    "    extension_lower = extension_list.lower()\n",
    "    extension_type = extension_lower.count('jpg')\n",
    "    extension_type2 = extension_lower.count('png')\n",
    "print(\"jpg:\",len(str(extension_type)))\n",
    "print(\"png:\",len(str(extension_type2)))"
   ]
  },
  {
   "cell_type": "code",
   "execution_count": 45,
   "metadata": {},
   "outputs": [
    {
     "name": "stdout",
     "output_type": "stream",
     "text": [
      "jpg: 1\n",
      "png: 1\n",
      "jpg: 1\n",
      "png: 1\n",
      "jpg: 1\n",
      "png: 1\n",
      "jpg: 1\n",
      "png: 1\n",
      "jpg: 1\n",
      "png: 1\n",
      "jpg: 1\n",
      "png: 1\n",
      "jpg: 1\n",
      "png: 1\n",
      "jpg: 1\n",
      "png: 1\n",
      "jpg: 1\n",
      "png: 1\n",
      "jpg: 1\n",
      "png: 1\n",
      "jpg: 1\n",
      "png: 1\n",
      "jpg: 1\n",
      "png: 1\n",
      "jpg: 1\n",
      "png: 1\n",
      "jpg: 1\n",
      "png: 1\n",
      "jpg: 1\n",
      "png: 1\n",
      "jpg: 1\n",
      "png: 1\n",
      "jpg: 1\n",
      "png: 1\n",
      "jpg: 1\n",
      "png: 1\n",
      "jpg: 1\n",
      "png: 1\n",
      "jpg: 1\n",
      "png: 1\n",
      "jpg: 1\n",
      "png: 1\n",
      "jpg: 1\n",
      "png: 1\n",
      "jpg: 1\n",
      "png: 1\n",
      "jpg: 1\n",
      "png: 1\n",
      "jpg: 1\n",
      "png: 1\n",
      "jpg: 1\n",
      "png: 1\n",
      "jpg: 1\n",
      "png: 1\n",
      "jpg: 1\n",
      "png: 1\n",
      "jpg: 1\n",
      "png: 1\n",
      "jpg: 1\n",
      "png: 1\n",
      "jpg: 1\n",
      "png: 1\n",
      "jpg: 1\n",
      "png: 1\n",
      "jpg: 1\n",
      "png: 1\n",
      "jpg: 1\n",
      "png: 1\n",
      "jpg: 1\n",
      "png: 1\n",
      "jpg: 1\n",
      "png: 1\n",
      "jpg: 1\n",
      "png: 1\n"
     ]
    }
   ],
   "source": [
    "for x in range(len(data)):\n",
    "    extension_lower = extension_list.lower()\n",
    "    extension_type = extension_lower.count('jpg')\n",
    "    extension_type2 = extension_lower.count('png')\n",
    "    print(\"jpg:\",len(str(extension_type)))\n",
    "    print(\"png:\",len(str(extension_type2)))"
   ]
  },
  {
   "cell_type": "code",
   "execution_count": 46,
   "metadata": {},
   "outputs": [
    {
     "data": {
      "text/plain": [
       "36"
      ]
     },
     "execution_count": 46,
     "metadata": {},
     "output_type": "execute_result"
    }
   ],
   "source": [
    "x"
   ]
  },
  {
   "attachments": {},
   "cell_type": "markdown",
   "metadata": {},
   "source": [
    "### 5. pandas package를 사용하여 images.csv 파일의 자료를 df 변수에 DataFrame으로 저장하시오"
   ]
  },
  {
   "cell_type": "code",
   "execution_count": 52,
   "metadata": {},
   "outputs": [],
   "source": [
    "data_file = easygui.fileopenbox()"
   ]
  },
  {
   "cell_type": "code",
   "execution_count": 54,
   "metadata": {},
   "outputs": [
    {
     "data": {
      "text/html": [
       "<div>\n",
       "<style scoped>\n",
       "    .dataframe tbody tr th:only-of-type {\n",
       "        vertical-align: middle;\n",
       "    }\n",
       "\n",
       "    .dataframe tbody tr th {\n",
       "        vertical-align: top;\n",
       "    }\n",
       "\n",
       "    .dataframe thead th {\n",
       "        text-align: right;\n",
       "    }\n",
       "</style>\n",
       "<table border=\"1\" class=\"dataframe\">\n",
       "  <thead>\n",
       "    <tr style=\"text-align: right;\">\n",
       "      <th></th>\n",
       "      <th>name</th>\n",
       "      <th>extension</th>\n",
       "    </tr>\n",
       "  </thead>\n",
       "  <tbody>\n",
       "    <tr>\n",
       "      <th>0</th>\n",
       "      <td>180828_EDF_002(2)_003_00010</td>\n",
       "      <td>jpg</td>\n",
       "    </tr>\n",
       "    <tr>\n",
       "      <th>1</th>\n",
       "      <td>201608212057986994_1</td>\n",
       "      <td>jpg</td>\n",
       "    </tr>\n",
       "    <tr>\n",
       "      <th>2</th>\n",
       "      <td>3_2</td>\n",
       "      <td>jpg</td>\n",
       "    </tr>\n",
       "    <tr>\n",
       "      <th>3</th>\n",
       "      <td>3664949_5RF</td>\n",
       "      <td>jpg</td>\n",
       "    </tr>\n",
       "    <tr>\n",
       "      <th>4</th>\n",
       "      <td>4</td>\n",
       "      <td>PNG</td>\n",
       "    </tr>\n",
       "  </tbody>\n",
       "</table>\n",
       "</div>"
      ],
      "text/plain": [
       "                          name extension\n",
       "0  180828_EDF_002(2)_003_00010       jpg\n",
       "1         201608212057986994_1       jpg\n",
       "2                          3_2       jpg\n",
       "3                  3664949_5RF       jpg\n",
       "4                            4       PNG"
      ]
     },
     "execution_count": 54,
     "metadata": {},
     "output_type": "execute_result"
    }
   ],
   "source": [
    "df = pd.read_csv(data_file)\n",
    "df.head()"
   ]
  },
  {
   "attachments": {},
   "cell_type": "markdown",
   "metadata": {},
   "source": [
    "### 6. df 자료의 행과 열의 수를 rows, cols 변수에 저장하시오"
   ]
  },
  {
   "cell_type": "code",
   "execution_count": 68,
   "metadata": {},
   "outputs": [],
   "source": [
    "rows = len(df)"
   ]
  },
  {
   "cell_type": "code",
   "execution_count": 69,
   "metadata": {},
   "outputs": [
    {
     "data": {
      "text/plain": [
       "37"
      ]
     },
     "execution_count": 69,
     "metadata": {},
     "output_type": "execute_result"
    }
   ],
   "source": [
    "rows"
   ]
  },
  {
   "cell_type": "code",
   "execution_count": 70,
   "metadata": {},
   "outputs": [],
   "source": [
    "cols = len(df.columns)"
   ]
  },
  {
   "cell_type": "code",
   "execution_count": 71,
   "metadata": {},
   "outputs": [
    {
     "data": {
      "text/plain": [
       "2"
      ]
     },
     "execution_count": 71,
     "metadata": {},
     "output_type": "execute_result"
    }
   ],
   "source": [
    "cols"
   ]
  },
  {
   "cell_type": "code",
   "execution_count": 73,
   "metadata": {},
   "outputs": [
    {
     "name": "stdout",
     "output_type": "stream",
     "text": [
      "자료: 37 \n",
      "변수: 2\n"
     ]
    }
   ],
   "source": [
    "print(\"자료:\", rows, \"\\n변수:\", cols)"
   ]
  },
  {
   "cell_type": "code",
   "execution_count": 83,
   "metadata": {},
   "outputs": [
    {
     "data": {
      "text/html": [
       "<div>\n",
       "<style scoped>\n",
       "    .dataframe tbody tr th:only-of-type {\n",
       "        vertical-align: middle;\n",
       "    }\n",
       "\n",
       "    .dataframe tbody tr th {\n",
       "        vertical-align: top;\n",
       "    }\n",
       "\n",
       "    .dataframe thead th {\n",
       "        text-align: right;\n",
       "    }\n",
       "</style>\n",
       "<table border=\"1\" class=\"dataframe\">\n",
       "  <thead>\n",
       "    <tr style=\"text-align: right;\">\n",
       "      <th></th>\n",
       "      <th>name</th>\n",
       "      <th>extension</th>\n",
       "    </tr>\n",
       "  </thead>\n",
       "  <tbody>\n",
       "    <tr>\n",
       "      <th>0</th>\n",
       "      <td>180828_EDF_002(2)_003_00010</td>\n",
       "      <td>jpg</td>\n",
       "    </tr>\n",
       "    <tr>\n",
       "      <th>1</th>\n",
       "      <td>201608212057986994_1</td>\n",
       "      <td>jpg</td>\n",
       "    </tr>\n",
       "    <tr>\n",
       "      <th>2</th>\n",
       "      <td>3_2</td>\n",
       "      <td>jpg</td>\n",
       "    </tr>\n",
       "    <tr>\n",
       "      <th>3</th>\n",
       "      <td>3664949_5RF</td>\n",
       "      <td>jpg</td>\n",
       "    </tr>\n",
       "    <tr>\n",
       "      <th>4</th>\n",
       "      <td>4</td>\n",
       "      <td>PNG</td>\n",
       "    </tr>\n",
       "    <tr>\n",
       "      <th>5</th>\n",
       "      <td>5-Figure7-1</td>\n",
       "      <td>png</td>\n",
       "    </tr>\n",
       "    <tr>\n",
       "      <th>6</th>\n",
       "      <td>54_0639</td>\n",
       "      <td>jpg</td>\n",
       "    </tr>\n",
       "    <tr>\n",
       "      <th>7</th>\n",
       "      <td>56_1927</td>\n",
       "      <td>jpg</td>\n",
       "    </tr>\n",
       "    <tr>\n",
       "      <th>8</th>\n",
       "      <td>709_2019_1426_Fig1_HTML</td>\n",
       "      <td>jpg</td>\n",
       "    </tr>\n",
       "    <tr>\n",
       "      <th>9</th>\n",
       "      <td>A4</td>\n",
       "      <td>jpg</td>\n",
       "    </tr>\n",
       "    <tr>\n",
       "      <th>10</th>\n",
       "      <td>apple</td>\n",
       "      <td>jpg</td>\n",
       "    </tr>\n",
       "    <tr>\n",
       "      <th>11</th>\n",
       "      <td>Aquarium</td>\n",
       "      <td>jpg</td>\n",
       "    </tr>\n",
       "    <tr>\n",
       "      <th>12</th>\n",
       "      <td>balloons_median_news</td>\n",
       "      <td>png</td>\n",
       "    </tr>\n",
       "    <tr>\n",
       "      <th>13</th>\n",
       "      <td>bbox</td>\n",
       "      <td>png</td>\n",
       "    </tr>\n",
       "    <tr>\n",
       "      <th>14</th>\n",
       "      <td>card</td>\n",
       "      <td>jpg</td>\n",
       "    </tr>\n",
       "    <tr>\n",
       "      <th>15</th>\n",
       "      <td>chicken</td>\n",
       "      <td>jpg</td>\n",
       "    </tr>\n",
       "    <tr>\n",
       "      <th>16</th>\n",
       "      <td>coins</td>\n",
       "      <td>png</td>\n",
       "    </tr>\n",
       "    <tr>\n",
       "      <th>17</th>\n",
       "      <td>contour_test</td>\n",
       "      <td>png</td>\n",
       "    </tr>\n",
       "    <tr>\n",
       "      <th>18</th>\n",
       "      <td>d</td>\n",
       "      <td>jpg</td>\n",
       "    </tr>\n",
       "    <tr>\n",
       "      <th>19</th>\n",
       "      <td>ex</td>\n",
       "      <td>png</td>\n",
       "    </tr>\n",
       "    <tr>\n",
       "      <th>20</th>\n",
       "      <td>Frecce_Tricolori_RIAT_2011</td>\n",
       "      <td>jpg</td>\n",
       "    </tr>\n",
       "    <tr>\n",
       "      <th>21</th>\n",
       "      <td>gray_gradient</td>\n",
       "      <td>jpg</td>\n",
       "    </tr>\n",
       "    <tr>\n",
       "      <th>22</th>\n",
       "      <td>horse_r</td>\n",
       "      <td>png</td>\n",
       "    </tr>\n",
       "    <tr>\n",
       "      <th>23</th>\n",
       "      <td>lane</td>\n",
       "      <td>jpg</td>\n",
       "    </tr>\n",
       "    <tr>\n",
       "      <th>24</th>\n",
       "      <td>lena_color</td>\n",
       "      <td>png</td>\n",
       "    </tr>\n",
       "    <tr>\n",
       "      <th>25</th>\n",
       "      <td>mask</td>\n",
       "      <td>PNG</td>\n",
       "    </tr>\n",
       "    <tr>\n",
       "      <th>26</th>\n",
       "      <td>Meisje_met_de_parel</td>\n",
       "      <td>jpg</td>\n",
       "    </tr>\n",
       "    <tr>\n",
       "      <th>27</th>\n",
       "      <td>memo</td>\n",
       "      <td>jpg</td>\n",
       "    </tr>\n",
       "    <tr>\n",
       "      <th>28</th>\n",
       "      <td>noisy2</td>\n",
       "      <td>png</td>\n",
       "    </tr>\n",
       "    <tr>\n",
       "      <th>29</th>\n",
       "      <td>paper</td>\n",
       "      <td>jpg</td>\n",
       "    </tr>\n",
       "    <tr>\n",
       "      <th>30</th>\n",
       "      <td>pc5</td>\n",
       "      <td>jpg</td>\n",
       "    </tr>\n",
       "    <tr>\n",
       "      <th>31</th>\n",
       "      <td>sample-color</td>\n",
       "      <td>png</td>\n",
       "    </tr>\n",
       "    <tr>\n",
       "      <th>32</th>\n",
       "      <td>stars</td>\n",
       "      <td>jpg</td>\n",
       "    </tr>\n",
       "    <tr>\n",
       "      <th>33</th>\n",
       "      <td>strawberry_leaf_surface</td>\n",
       "      <td>png</td>\n",
       "    </tr>\n",
       "    <tr>\n",
       "      <th>34</th>\n",
       "      <td>sudoku</td>\n",
       "      <td>png</td>\n",
       "    </tr>\n",
       "    <tr>\n",
       "      <th>35</th>\n",
       "      <td>tunnel</td>\n",
       "      <td>jpg</td>\n",
       "    </tr>\n",
       "    <tr>\n",
       "      <th>36</th>\n",
       "      <td>watermelon</td>\n",
       "      <td>jpg</td>\n",
       "    </tr>\n",
       "  </tbody>\n",
       "</table>\n",
       "</div>"
      ],
      "text/plain": [
       "                           name extension\n",
       "0   180828_EDF_002(2)_003_00010       jpg\n",
       "1          201608212057986994_1       jpg\n",
       "2                           3_2       jpg\n",
       "3                   3664949_5RF       jpg\n",
       "4                             4       PNG\n",
       "5                   5-Figure7-1       png\n",
       "6                       54_0639       jpg\n",
       "7                       56_1927       jpg\n",
       "8       709_2019_1426_Fig1_HTML       jpg\n",
       "9                            A4       jpg\n",
       "10                        apple       jpg\n",
       "11                     Aquarium       jpg\n",
       "12         balloons_median_news       png\n",
       "13                         bbox       png\n",
       "14                         card       jpg\n",
       "15                      chicken       jpg\n",
       "16                        coins       png\n",
       "17                 contour_test       png\n",
       "18                            d       jpg\n",
       "19                           ex       png\n",
       "20   Frecce_Tricolori_RIAT_2011       jpg\n",
       "21                gray_gradient       jpg\n",
       "22                      horse_r       png\n",
       "23                         lane       jpg\n",
       "24                   lena_color       png\n",
       "25                         mask       PNG\n",
       "26          Meisje_met_de_parel       jpg\n",
       "27                         memo       jpg\n",
       "28                       noisy2       png\n",
       "29                        paper       jpg\n",
       "30                          pc5       jpg\n",
       "31                 sample-color       png\n",
       "32                        stars       jpg\n",
       "33      strawberry_leaf_surface       png\n",
       "34                       sudoku       png\n",
       "35                       tunnel       jpg\n",
       "36                   watermelon       jpg"
      ]
     },
     "execution_count": 83,
     "metadata": {},
     "output_type": "execute_result"
    }
   ],
   "source": [
    "df"
   ]
  },
  {
   "attachments": {},
   "cell_type": "markdown",
   "metadata": {},
   "source": [
    "### 7. df의 extension에 대한 원그래프(pie chart)를 그리시오."
   ]
  },
  {
   "cell_type": "code",
   "execution_count": 91,
   "metadata": {},
   "outputs": [
    {
     "data": {
      "text/html": [
       "<div>\n",
       "<style scoped>\n",
       "    .dataframe tbody tr th:only-of-type {\n",
       "        vertical-align: middle;\n",
       "    }\n",
       "\n",
       "    .dataframe tbody tr th {\n",
       "        vertical-align: top;\n",
       "    }\n",
       "\n",
       "    .dataframe thead th {\n",
       "        text-align: right;\n",
       "    }\n",
       "</style>\n",
       "<table border=\"1\" class=\"dataframe\">\n",
       "  <thead>\n",
       "    <tr style=\"text-align: right;\">\n",
       "      <th></th>\n",
       "      <th>Freq</th>\n",
       "    </tr>\n",
       "    <tr>\n",
       "      <th>extension</th>\n",
       "      <th></th>\n",
       "    </tr>\n",
       "  </thead>\n",
       "  <tbody>\n",
       "    <tr>\n",
       "      <th>PNG</th>\n",
       "      <td>2</td>\n",
       "    </tr>\n",
       "    <tr>\n",
       "      <th>jpg</th>\n",
       "      <td>23</td>\n",
       "    </tr>\n",
       "    <tr>\n",
       "      <th>png</th>\n",
       "      <td>12</td>\n",
       "    </tr>\n",
       "  </tbody>\n",
       "</table>\n",
       "</div>"
      ],
      "text/plain": [
       "           Freq\n",
       "extension      \n",
       "PNG           2\n",
       "jpg          23\n",
       "png          12"
      ]
     },
     "execution_count": 91,
     "metadata": {},
     "output_type": "execute_result"
    }
   ],
   "source": [
    "tb =pd.crosstab(df['extension'], 'Freq', colnames = [''])\n",
    "tb"
   ]
  },
  {
   "cell_type": "code",
   "execution_count": 94,
   "metadata": {},
   "outputs": [
    {
     "data": {
      "image/png": "[encoded data removed]",
      "text/plain": [
       "<Figure size 432x432 with 1 Axes>"
      ]
     },
     "metadata": {},
     "output_type": "display_data"
    }
   ],
   "source": [
    "ax = tb.plot.pie(y = 'Freq' ,legend = False, figsize = (6, 6), textprops = dict(size = 15, color = 'white'))"
   ]
  },
  {
   "attachments": {},
   "cell_type": "markdown",
   "metadata": {},
   "source": [
    "### 8. df의 extension 값이 'jpg'인 자료만 추출하여 df_jpg 변수에 DataFrame으로 저장하시오."
   ]
  },
  {
   "cell_type": "code",
   "execution_count": 95,
   "metadata": {},
   "outputs": [],
   "source": [
    "df_jpg = df.loc[df['extension'] == \"jpg\"] "
   ]
  },
  {
   "cell_type": "code",
   "execution_count": 98,
   "metadata": {},
   "outputs": [],
   "source": [
    "df_jpg.to_csv('df_jpg.csv', index = False)"
   ]
  },
  {
   "cell_type": "code",
   "execution_count": 99,
   "metadata": {},
   "outputs": [],
   "source": [
    "data_jpg = easygui.fileopenbox()"
   ]
  },
  {
   "cell_type": "code",
   "execution_count": 100,
   "metadata": {},
   "outputs": [],
   "source": [
    "df_jpg = pd.read_csv(data_jpg)"
   ]
  },
  {
   "cell_type": "code",
   "execution_count": 102,
   "metadata": {},
   "outputs": [
    {
     "data": {
      "text/html": [
       "<div>\n",
       "<style scoped>\n",
       "    .dataframe tbody tr th:only-of-type {\n",
       "        vertical-align: middle;\n",
       "    }\n",
       "\n",
       "    .dataframe tbody tr th {\n",
       "        vertical-align: top;\n",
       "    }\n",
       "\n",
       "    .dataframe thead th {\n",
       "        text-align: right;\n",
       "    }\n",
       "</style>\n",
       "<table border=\"1\" class=\"dataframe\">\n",
       "  <thead>\n",
       "    <tr style=\"text-align: right;\">\n",
       "      <th></th>\n",
       "      <th>name</th>\n",
       "      <th>extension</th>\n",
       "    </tr>\n",
       "  </thead>\n",
       "  <tbody>\n",
       "    <tr>\n",
       "      <th>0</th>\n",
       "      <td>180828_EDF_002(2)_003_00010</td>\n",
       "      <td>jpg</td>\n",
       "    </tr>\n",
       "    <tr>\n",
       "      <th>1</th>\n",
       "      <td>201608212057986994_1</td>\n",
       "      <td>jpg</td>\n",
       "    </tr>\n",
       "    <tr>\n",
       "      <th>2</th>\n",
       "      <td>3_2</td>\n",
       "      <td>jpg</td>\n",
       "    </tr>\n",
       "    <tr>\n",
       "      <th>3</th>\n",
       "      <td>3664949_5RF</td>\n",
       "      <td>jpg</td>\n",
       "    </tr>\n",
       "    <tr>\n",
       "      <th>4</th>\n",
       "      <td>54_0639</td>\n",
       "      <td>jpg</td>\n",
       "    </tr>\n",
       "  </tbody>\n",
       "</table>\n",
       "</div>"
      ],
      "text/plain": [
       "                          name extension\n",
       "0  180828_EDF_002(2)_003_00010       jpg\n",
       "1         201608212057986994_1       jpg\n",
       "2                          3_2       jpg\n",
       "3                  3664949_5RF       jpg\n",
       "4                      54_0639       jpg"
      ]
     },
     "execution_count": 102,
     "metadata": {},
     "output_type": "execute_result"
    }
   ],
   "source": [
    "df_jpg.head()"
   ]
  }
 ],
 "metadata": {
  "kernelspec": {
   "display_name": "Python 3",
   "language": "python",
   "name": "python3"
  },
  "language_info": {
   "codemirror_mode": {
    "name": "ipython",
    "version": 3
   },
   "file_extension": ".py",
   "mimetype": "text/x-python",
   "name": "python",
   "nbconvert_exporter": "python",
   "pygments_lexer": "ipython3",
   "version": "3.10.7"
  },
  "orig_nbformat": 4,
  "vscode": {
   "interpreter": {
    "hash": "e4e7ff5db89f8a8e6e10e1c907759fa6952b666623ba1e506d0fabd455586b03"
   }
  }
 },
 "nbformat": 4,
 "nbformat_minor": 2
}
