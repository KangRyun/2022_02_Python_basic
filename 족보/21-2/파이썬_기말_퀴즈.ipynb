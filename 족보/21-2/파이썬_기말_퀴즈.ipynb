{
 "cells": [
  {
   "cell_type": "code",
   "execution_count": 16,
   "id": "4dba951d",
   "metadata": {},
   "outputs": [],
   "source": [
    "#학번 : 20181599         이름 : 김민규"
   ]
  },
  {
   "cell_type": "code",
   "execution_count": 1,
   "id": "8c823b40",
   "metadata": {},
   "outputs": [],
   "source": [
    "#1\n",
    "f = open(\"link.txt\",'r')\n",
    "link = f.readlines()\n",
    "f.close()"
   ]
  },
  {
   "cell_type": "code",
   "execution_count": 2,
   "id": "0c7a5c67",
   "metadata": {},
   "outputs": [
    {
     "data": {
      "text/plain": [
       "['https://www.opentutorials.org/course/2991\\n',\n",
       " 'https://www.inflearn.com/course/%ED%8C%8C%EC%9D%B4%EC%8D%AC-%EC%9E%85%EB%AC%B8-hello-coding\\n',\n",
       " 'https://taling.me/vod/view/31196\\n',\n",
       " 'https://wikidocs.net/43\\n',\n",
       " 'https://www.inflearn.com/course/%ED%94%84%EB%A1%9C%EA%B7%B8%EB%9E%98%EB%B0%8D-%ED%8C%8C%EC%9D%B4%EC%8D%AC-%EC%9E%85%EB%AC%B8-%EC%9D%B8%ED%94%84%EB%9F%B0-%EC%98%A4%EB%A6%AC%EC%A7%80%EB%84%90\\n',\n",
       " 'https://datascienceschool.net/01%20python/02.05%20%ED%8C%8C%EC%9D%B4%EC%8D%AC%20%EC%A1%B0%EA%B1%B4%EB%AC%B8%20%EA%B8%B0%EC%B4%88.html\\n',\n",
       " 'https://www.fun-coding.org/python-question4-answer.html\\n',\n",
       " 'https://wikidocs.net/book/1\\n',\n",
       " 'https://wikidocs.net/book/1637\\n',\n",
       " 'https://compmath.korea.ac.kr/compmath/Basics.html\\n']"
      ]
     },
     "execution_count": 2,
     "metadata": {},
     "output_type": "execute_result"
    }
   ],
   "source": [
    "link"
   ]
  },
  {
   "cell_type": "code",
   "execution_count": 19,
   "id": "b0d7c4e8",
   "metadata": {},
   "outputs": [],
   "source": [
    "domain_list = []\n",
    "i = 0\n",
    "for i in range(len(link)):\n",
    "    domain_list1 = link[i].split('/')\n",
    "    domain_list.append(domain_list1[2])"
   ]
  },
  {
   "cell_type": "code",
   "execution_count": 20,
   "id": "b3fdaf4c",
   "metadata": {},
   "outputs": [
    {
     "data": {
      "text/plain": [
       "['www.opentutorials.org',\n",
       " 'www.inflearn.com',\n",
       " 'taling.me',\n",
       " 'wikidocs.net',\n",
       " 'www.inflearn.com',\n",
       " 'datascienceschool.net',\n",
       " 'www.fun-coding.org',\n",
       " 'wikidocs.net',\n",
       " 'wikidocs.net',\n",
       " 'compmath.korea.ac.kr']"
      ]
     },
     "execution_count": 20,
     "metadata": {},
     "output_type": "execute_result"
    }
   ],
   "source": [
    "domain_list"
   ]
  },
  {
   "cell_type": "code",
   "execution_count": 8,
   "id": "9f38e5aa",
   "metadata": {},
   "outputs": [],
   "source": [
    "#2\n",
    "import pandas as pd\n",
    "df = pd.read_csv(\"link.csv\",encoding='utf8')"
   ]
  },
  {
   "cell_type": "code",
   "execution_count": 9,
   "id": "7aedd67a",
   "metadata": {},
   "outputs": [
    {
     "data": {
      "text/html": [
       "<div>\n",
       "<style scoped>\n",
       "    .dataframe tbody tr th:only-of-type {\n",
       "        vertical-align: middle;\n",
       "    }\n",
       "\n",
       "    .dataframe tbody tr th {\n",
       "        vertical-align: top;\n",
       "    }\n",
       "\n",
       "    .dataframe thead th {\n",
       "        text-align: right;\n",
       "    }\n",
       "</style>\n",
       "<table border=\"1\" class=\"dataframe\">\n",
       "  <thead>\n",
       "    <tr style=\"text-align: right;\">\n",
       "      <th></th>\n",
       "      <th>domain</th>\n",
       "    </tr>\n",
       "  </thead>\n",
       "  <tbody>\n",
       "    <tr>\n",
       "      <th>0</th>\n",
       "      <td>www.opentutorials.org</td>\n",
       "    </tr>\n",
       "    <tr>\n",
       "      <th>1</th>\n",
       "      <td>www.inflearn.com</td>\n",
       "    </tr>\n",
       "    <tr>\n",
       "      <th>2</th>\n",
       "      <td>taling.me</td>\n",
       "    </tr>\n",
       "    <tr>\n",
       "      <th>3</th>\n",
       "      <td>wikidocs.net</td>\n",
       "    </tr>\n",
       "    <tr>\n",
       "      <th>4</th>\n",
       "      <td>www.inflearn.com</td>\n",
       "    </tr>\n",
       "    <tr>\n",
       "      <th>5</th>\n",
       "      <td>datascienceschool.net</td>\n",
       "    </tr>\n",
       "    <tr>\n",
       "      <th>6</th>\n",
       "      <td>www.fun-coding.org</td>\n",
       "    </tr>\n",
       "    <tr>\n",
       "      <th>7</th>\n",
       "      <td>wikidocs.net</td>\n",
       "    </tr>\n",
       "    <tr>\n",
       "      <th>8</th>\n",
       "      <td>wikidocs.net</td>\n",
       "    </tr>\n",
       "    <tr>\n",
       "      <th>9</th>\n",
       "      <td>compmath.korea.ac.kr</td>\n",
       "    </tr>\n",
       "  </tbody>\n",
       "</table>\n",
       "</div>"
      ],
      "text/plain": [
       "                  domain\n",
       "0  www.opentutorials.org\n",
       "1       www.inflearn.com\n",
       "2              taling.me\n",
       "3           wikidocs.net\n",
       "4       www.inflearn.com\n",
       "5  datascienceschool.net\n",
       "6     www.fun-coding.org\n",
       "7           wikidocs.net\n",
       "8           wikidocs.net\n",
       "9   compmath.korea.ac.kr"
      ]
     },
     "execution_count": 9,
     "metadata": {},
     "output_type": "execute_result"
    }
   ],
   "source": [
    "df"
   ]
  },
  {
   "cell_type": "code",
   "execution_count": 13,
   "id": "1f84db3e",
   "metadata": {},
   "outputs": [
    {
     "data": {
      "text/html": [
       "<div>\n",
       "<style scoped>\n",
       "    .dataframe tbody tr th:only-of-type {\n",
       "        vertical-align: middle;\n",
       "    }\n",
       "\n",
       "    .dataframe tbody tr th {\n",
       "        vertical-align: top;\n",
       "    }\n",
       "\n",
       "    .dataframe thead th {\n",
       "        text-align: right;\n",
       "    }\n",
       "</style>\n",
       "<table border=\"1\" class=\"dataframe\">\n",
       "  <thead>\n",
       "    <tr style=\"text-align: right;\">\n",
       "      <th></th>\n",
       "      <th>Freq</th>\n",
       "    </tr>\n",
       "    <tr>\n",
       "      <th>domain</th>\n",
       "      <th></th>\n",
       "    </tr>\n",
       "  </thead>\n",
       "  <tbody>\n",
       "    <tr>\n",
       "      <th>compmath.korea.ac.kr</th>\n",
       "      <td>1</td>\n",
       "    </tr>\n",
       "    <tr>\n",
       "      <th>datascienceschool.net</th>\n",
       "      <td>1</td>\n",
       "    </tr>\n",
       "    <tr>\n",
       "      <th>taling.me</th>\n",
       "      <td>1</td>\n",
       "    </tr>\n",
       "    <tr>\n",
       "      <th>wikidocs.net</th>\n",
       "      <td>3</td>\n",
       "    </tr>\n",
       "    <tr>\n",
       "      <th>www.fun-coding.org</th>\n",
       "      <td>1</td>\n",
       "    </tr>\n",
       "    <tr>\n",
       "      <th>www.inflearn.com</th>\n",
       "      <td>2</td>\n",
       "    </tr>\n",
       "    <tr>\n",
       "      <th>www.opentutorials.org</th>\n",
       "      <td>1</td>\n",
       "    </tr>\n",
       "  </tbody>\n",
       "</table>\n",
       "</div>"
      ],
      "text/plain": [
       "                       Freq\n",
       "domain                     \n",
       "compmath.korea.ac.kr      1\n",
       "datascienceschool.net     1\n",
       "taling.me                 1\n",
       "wikidocs.net              3\n",
       "www.fun-coding.org        1\n",
       "www.inflearn.com          2\n",
       "www.opentutorials.org     1"
      ]
     },
     "execution_count": 13,
     "metadata": {},
     "output_type": "execute_result"
    }
   ],
   "source": [
    "tb = pd.crosstab(df['domain'],'Freq',colnames=[''])\n",
    "tb"
   ]
  },
  {
   "cell_type": "code",
   "execution_count": 15,
   "id": "f9c3e911",
   "metadata": {},
   "outputs": [
    {
     "data": {
      "image/png": "[encoded data removed]",
      "text/plain": [
       "<Figure size 432x288 with 1 Axes>"
      ]
     },
     "metadata": {
      "needs_background": "light"
     },
     "output_type": "display_data"
    }
   ],
   "source": [
    "ax = tb.plot.bar()"
   ]
  }
 ],
 "metadata": {
  "kernelspec": {
   "display_name": "Python 3",
   "language": "python",
   "name": "python3"
  },
  "language_info": {
   "codemirror_mode": {
    "name": "ipython",
    "version": 3
   },
   "file_extension": ".py",
   "mimetype": "text/x-python",
   "name": "python",
   "nbconvert_exporter": "python",
   "pygments_lexer": "ipython3",
   "version": "3.8.8"
  }
 },
 "nbformat": 4,
 "nbformat_minor": 5
}
