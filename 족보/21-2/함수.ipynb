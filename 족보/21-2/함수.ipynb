{
 "cells": [
  {
   "cell_type": "markdown",
   "id": "751fd6e3",
   "metadata": {},
   "source": [
    "## 01 함수기초"
   ]
  },
  {
   "cell_type": "markdown",
   "id": "ac3b8c04",
   "metadata": {},
   "source": [
    "함수(function): 어떤 일을 수행하는 코드의 덩어리, 또는 코드의 묶음"
   ]
  },
  {
   "cell_type": "code",
   "execution_count": 11,
   "id": "b67a4fbd",
   "metadata": {},
   "outputs": [
    {
     "name": "stdout",
     "output_type": "stream",
     "text": [
      "사각형 x의 길이: 10\n",
      "사각형 y의 길이: 20\n",
      "사각형의 넓이: 200\n"
     ]
    }
   ],
   "source": [
    "#코드 5-1\n",
    "def calculate_rectang_area(x,y):\n",
    "    return x*y\n",
    "\n",
    "rectangle_x = 10\n",
    "rectangle_y = 20\n",
    "print(\"사각형 x의 길이:\",rectangle_x)\n",
    "print(\"사각형 y의 길이:\",rectangle_y)\n",
    "\n",
    "print(\"사각형의 넓이:\",calculate_rectang_area(rectangle_x,rectangle_y))"
   ]
  },
  {
   "cell_type": "code",
   "execution_count": 12,
   "id": "5ffa1c5f",
   "metadata": {},
   "outputs": [
    {
     "name": "stdout",
     "output_type": "stream",
     "text": [
      "151\n"
     ]
    }
   ],
   "source": [
    "#코드 5-2\n",
    "def f(x):\n",
    "    return 2*x+7\n",
    "def g(x):\n",
    "    return x**2\n",
    "x=2\n",
    "print(f(x)+g(x)+f(g(x))+g(f(x)))"
   ]
  },
  {
   "cell_type": "code",
   "execution_count": 13,
   "id": "6529b0aa",
   "metadata": {},
   "outputs": [
    {
     "name": "stdout",
     "output_type": "stream",
     "text": [
      "11\n"
     ]
    }
   ],
   "source": [
    "#코드 5-3\n",
    "def f(x):\n",
    "    return 2*x+7\n",
    "print(f(2))"
   ]
  },
  {
   "cell_type": "code",
   "execution_count": 14,
   "id": "1ac5d328",
   "metadata": {},
   "outputs": [
    {
     "name": "stdout",
     "output_type": "stream",
     "text": [
      "35\n",
      "35\n",
      "35\n",
      "35\n"
     ]
    }
   ],
   "source": [
    "#코드 5-4\n",
    "def abcd1():\n",
    "    print(5*7)\n",
    "def abcd2(x,y):\n",
    "    print(x*y)\n",
    "def abcd3():\n",
    "    return(5*7)\n",
    "def abcd4(x,y):\n",
    "    return(x*y)\n",
    "\n",
    "abcd1()\n",
    "abcd2(5,7)\n",
    "print(abcd3())\n",
    "print(abcd4(5,7))"
   ]
  },
  {
   "cell_type": "markdown",
   "id": "9b31a60a",
   "metadata": {},
   "source": [
    "## 02 함수 심화"
   ]
  },
  {
   "cell_type": "code",
   "execution_count": 16,
   "id": "2119b3ad",
   "metadata": {},
   "outputs": [
    {
     "name": "stdout",
     "output_type": "stream",
     "text": [
      "9\n",
      "3\n"
     ]
    }
   ],
   "source": [
    "#코드 5-5\n",
    "def f(x):\n",
    "    y=x\n",
    "    x=5\n",
    "    return y*y\n",
    "\n",
    "x=3\n",
    "print(f(x))\n",
    "print(x)"
   ]
  },
  {
   "cell_type": "code",
   "execution_count": 18,
   "id": "97df241c",
   "metadata": {},
   "outputs": [
    {
     "name": "stdout",
     "output_type": "stream",
     "text": [
      "[0, 1]\n"
     ]
    }
   ],
   "source": [
    "#코드 5-6\n",
    "def spam(eggs):\n",
    "    eggs.append(1) #기존 객체의 주소값에 [1] 추가\n",
    "    eggs = [2,3] #새로운 객체 생성\n",
    "ham=[0]\n",
    "spam(ham)\n",
    "print(ham)"
   ]
  },
  {
   "cell_type": "code",
   "execution_count": 2,
   "id": "b771e945",
   "metadata": {
    "scrolled": true
   },
   "outputs": [
    {
     "name": "stdout",
     "output_type": "stream",
     "text": [
      "10\n",
      "In Function: 20\n",
      "In main: 10\n"
     ]
    },
    {
     "ename": "NameError",
     "evalue": "name 't' is not defined",
     "output_type": "error",
     "traceback": [
      "\u001b[1;31m---------------------------------------------------------------------------\u001b[0m",
      "\u001b[1;31mNameError\u001b[0m                                 Traceback (most recent call last)",
      "\u001b[1;32m<ipython-input-2-668cbe2f448e>\u001b[0m in \u001b[0;36m<module>\u001b[1;34m\u001b[0m\n\u001b[0;32m      7\u001b[0m \u001b[0mtest\u001b[0m\u001b[1;33m(\u001b[0m\u001b[0mx\u001b[0m\u001b[1;33m)\u001b[0m\u001b[1;33m\u001b[0m\u001b[1;33m\u001b[0m\u001b[0m\n\u001b[0;32m      8\u001b[0m \u001b[0mprint\u001b[0m\u001b[1;33m(\u001b[0m\u001b[1;34m\"In main:\"\u001b[0m\u001b[1;33m,\u001b[0m\u001b[0mx\u001b[0m\u001b[1;33m)\u001b[0m\u001b[1;33m\u001b[0m\u001b[1;33m\u001b[0m\u001b[0m\n\u001b[1;32m----> 9\u001b[1;33m \u001b[0mprint\u001b[0m\u001b[1;33m(\u001b[0m\u001b[1;34m\"In main:\"\u001b[0m\u001b[1;33m,\u001b[0m\u001b[0mt\u001b[0m\u001b[1;33m)\u001b[0m\u001b[1;33m\u001b[0m\u001b[1;33m\u001b[0m\u001b[0m\n\u001b[0m",
      "\u001b[1;31mNameError\u001b[0m: name 't' is not defined"
     ]
    }
   ],
   "source": [
    "#코드 5-7\n",
    "def test(t):\n",
    "    print(x)\n",
    "    t = 20\n",
    "    print(\"In Function:\",t)\n",
    "    \n",
    "x = 10\n",
    "test(x)\n",
    "print(\"In main:\",x)\n",
    "print(\"In main:\",t)"
   ]
  },
  {
   "cell_type": "code",
   "execution_count": 3,
   "id": "39ec009c",
   "metadata": {},
   "outputs": [
    {
     "name": "stdout",
     "output_type": "stream",
     "text": [
      "I love London!\n",
      "I love Paris!\n"
     ]
    }
   ],
   "source": [
    "#코드 5-8\n",
    "def f():\n",
    "    s = \"I love London!\"\n",
    "    print(s)\n",
    "\n",
    "s = \"I love Paris!\"\n",
    "f()\n",
    "print(s)"
   ]
  },
  {
   "cell_type": "code",
   "execution_count": 4,
   "id": "ca136e7c",
   "metadata": {},
   "outputs": [
    {
     "name": "stdout",
     "output_type": "stream",
     "text": [
      "I love London!\n",
      "I love London!\n"
     ]
    }
   ],
   "source": [
    "#코드 5-9\n",
    "def f():\n",
    "    global s\n",
    "    s = \"I love London!\"\n",
    "    print(s)\n",
    "\n",
    "s = \"I love Paris!\"\n",
    "f()\n",
    "print(s)"
   ]
  },
  {
   "cell_type": "code",
   "execution_count": 6,
   "id": "ba3e1f42",
   "metadata": {
    "scrolled": true
   },
   "outputs": [
    {
     "name": "stdout",
     "output_type": "stream",
     "text": [
      "In Program -1\n",
      "a: 5 b: 7 a+b 12 total: 0\n",
      "In Function\n",
      "a: 5 b: 7 a+b 12 total: 12\n",
      "After Calculation\n",
      "Total: 0 Sum: 12\n"
     ]
    }
   ],
   "source": [
    "#코드 5-10\n",
    "def calculate(x,y):\n",
    "    total = x+y\n",
    "    print(\"In Function\")\n",
    "    print(\"a:\",str(a),\"b:\",str(b),\"a+b\",str(a+b),\"total:\",str(total))\n",
    "    return total\n",
    "\n",
    "a=5\n",
    "b=7\n",
    "total=0\n",
    "print(\"In Program -1\")\n",
    "print(\"a:\",str(a),\"b:\",str(b),\"a+b\",str(a+b),\"total:\",str(total))\n",
    "\n",
    "sum = calculate(a,b)\n",
    "print(\"After Calculation\")\n",
    "print(\"Total:\",str(total),\"Sum:\",str(sum))"
   ]
  },
  {
   "cell_type": "markdown",
   "id": "a5e24138",
   "metadata": {},
   "source": [
    "## 03 함수의 인수"
   ]
  },
  {
   "cell_type": "code",
   "execution_count": 8,
   "id": "ad330020",
   "metadata": {},
   "outputs": [
    {
     "name": "stdout",
     "output_type": "stream",
     "text": [
      "Hello TEAMLAB,My name is Sungchul\n"
     ]
    }
   ],
   "source": [
    "#코드 5-12\n",
    "def print_something(my_name,your_name):\n",
    "    print(\"Hello {0},My name is {1}\".format(your_name,my_name))\n",
    "\n",
    "print_something(\"Sungchul\",\"TEAMLAB\")"
   ]
  },
  {
   "cell_type": "code",
   "execution_count": 9,
   "id": "5858cb05",
   "metadata": {},
   "outputs": [
    {
     "name": "stdout",
     "output_type": "stream",
     "text": [
      "Hello TEAMLAB,My name is Sungchul\n",
      "Hello TEAMLAB,My name is Sungchul\n"
     ]
    }
   ],
   "source": [
    "#코드 5-13\n",
    "def print_something(my_name,your_name = \"TEAMLAB\"):\n",
    "    print(\"Hello {0},My name is {1}\".format(your_name,my_name))\n",
    "\n",
    "print_something(\"Sungchul\",\"TEAMLAB\")\n",
    "print_something(\"Sungchul\")"
   ]
  },
  {
   "cell_type": "code",
   "execution_count": 9,
   "id": "581a1caa",
   "metadata": {},
   "outputs": [
    {
     "name": "stdout",
     "output_type": "stream",
     "text": [
      "15\n"
     ]
    }
   ],
   "source": [
    "#코드 5-14\n",
    "def asterisk_test(a,b,*args):\n",
    "    return a + b + sum(args)\n",
    "\n",
    "print(asterisk_test(1,2,3,4,5))"
   ]
  },
  {
   "cell_type": "code",
   "execution_count": 6,
   "id": "e66322e1",
   "metadata": {},
   "outputs": [
    {
     "name": "stdout",
     "output_type": "stream",
     "text": [
      "(3, 4, 5)\n",
      "None\n"
     ]
    }
   ],
   "source": [
    "#코드 5-15\n",
    "def asterisk_test(a,b,*c):\n",
    "    print(c)\n",
    "\n",
    "print(asterisk_test(1,2,3,4,5))"
   ]
  },
  {
   "cell_type": "code",
   "execution_count": 1,
   "id": "294d3e4e",
   "metadata": {},
   "outputs": [
    {
     "name": "stdout",
     "output_type": "stream",
     "text": [
      "(3, 4, 5)\n"
     ]
    }
   ],
   "source": [
    "#코드 5-16\n",
    "def asterisk_test_2(*args):\n",
    "    x,y,z = args\n",
    "    return x,y,z\n",
    "\n",
    "print(asterisk_test_2(3,4,5))"
   ]
  },
  {
   "cell_type": "code",
   "execution_count": 3,
   "id": "1eaf8c7c",
   "metadata": {},
   "outputs": [
    {
     "name": "stdout",
     "output_type": "stream",
     "text": [
      "(3, 4, [5, 10, 20])\n"
     ]
    }
   ],
   "source": [
    "#코드 5-17\n",
    "def asterisk_test_2(*args):\n",
    "    x,y,*z = args\n",
    "    return x,y,z\n",
    "\n",
    "print(asterisk_test_2(3,4,5,10,20))"
   ]
  },
  {
   "cell_type": "markdown",
   "id": "80ec6b76",
   "metadata": {},
   "source": [
    "## 04 좋은 코드를 작성하는 방법"
   ]
  }
 ],
 "metadata": {
  "kernelspec": {
   "display_name": "Python 3",
   "language": "python",
   "name": "python3"
  },
  "language_info": {
   "codemirror_mode": {
    "name": "ipython",
    "version": 3
   },
   "file_extension": ".py",
   "mimetype": "text/x-python",
   "name": "python",
   "nbconvert_exporter": "python",
   "pygments_lexer": "ipython3",
   "version": "3.8.8"
  }
 },
 "nbformat": 4,
 "nbformat_minor": 5
}
