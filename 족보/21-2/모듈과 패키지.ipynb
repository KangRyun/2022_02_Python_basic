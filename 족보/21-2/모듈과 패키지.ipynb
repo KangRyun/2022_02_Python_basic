{
 "cells": [
  {
   "cell_type": "markdown",
   "id": "4a516510",
   "metadata": {},
   "source": [
    "## 모듈과 패키지의 이해"
   ]
  },
  {
   "cell_type": "markdown",
   "id": "b24194d4",
   "metadata": {},
   "source": [
    "프로그래밍에서의 모듈은 작은 프로그램 조각을 뜻한다."
   ]
  },
  {
   "cell_type": "code",
   "execution_count": 1,
   "id": "fbbe9894",
   "metadata": {},
   "outputs": [
    {
     "data": {
      "text/plain": [
       "230"
      ]
     },
     "execution_count": 1,
     "metadata": {},
     "output_type": "execute_result"
    }
   ],
   "source": [
    "import random\n",
    "random.randint(1,1000)"
   ]
  },
  {
   "cell_type": "markdown",
   "id": "c43068d5",
   "metadata": {},
   "source": [
    "## 모듈 만들기"
   ]
  },
  {
   "cell_type": "code",
   "execution_count": null,
   "id": "33ecab4d",
   "metadata": {},
   "outputs": [],
   "source": []
  },
  {
   "cell_type": "markdown",
   "id": "4be8337e",
   "metadata": {},
   "source": [
    "## 패키지 만들기"
   ]
  },
  {
   "cell_type": "code",
   "execution_count": null,
   "id": "c9922b90",
   "metadata": {},
   "outputs": [],
   "source": []
  },
  {
   "cell_type": "markdown",
   "id": "0d9cb5a7",
   "metadata": {},
   "source": [
    "## 가상환경 사용하기"
   ]
  },
  {
   "cell_type": "code",
   "execution_count": null,
   "id": "c83abcf5",
   "metadata": {},
   "outputs": [],
   "source": []
  }
 ],
 "metadata": {
  "kernelspec": {
   "display_name": "Python 3",
   "language": "python",
   "name": "python3"
  },
  "language_info": {
   "codemirror_mode": {
    "name": "ipython",
    "version": 3
   },
   "file_extension": ".py",
   "mimetype": "text/x-python",
   "name": "python",
   "nbconvert_exporter": "python",
   "pygments_lexer": "ipython3",
   "version": "3.8.8"
  }
 },
 "nbformat": 4,
 "nbformat_minor": 5
}
