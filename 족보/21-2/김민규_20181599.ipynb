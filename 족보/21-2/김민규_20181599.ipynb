{
 "cells": [
  {
   "cell_type": "code",
   "execution_count": 64,
   "id": "5b8cf44e",
   "metadata": {
    "scrolled": true
   },
   "outputs": [
    {
     "name": "stdout",
     "output_type": "stream",
     "text": [
      "가위(1), 바위(2), 보(3):3\n",
      "Win\n",
      "가위(1), 바위(2), 보(3):1\n",
      "Win\n",
      "가위(1), 바위(2), 보(3):1\n",
      "Tie\n",
      "가위(1), 바위(2), 보(3):3\n",
      "Lose\n",
      "가위(1), 바위(2), 보(3):3\n",
      "Tie\n",
      "가위(1), 바위(2), 보(3):2\n",
      "Tie\n",
      "가위(1), 바위(2), 보(3):2\n",
      "Win\n",
      "가위(1), 바위(2), 보(3):1\n",
      "Lose\n",
      "가위(1), 바위(2), 보(3):3\n",
      "Win\n",
      "가위(1), 바위(2), 보(3):3\n",
      "Lose\n",
      "가위(1), 바위(2), 보(3):2\n",
      "Win\n",
      "승률= 0.45454545454545453\n"
     ]
    }
   ],
   "source": [
    "### 1 \n",
    "import random\n",
    "result_win = 0\n",
    "result_h = 0\n",
    "for i in range(100):\n",
    "    if result_win == 5:\n",
    "        break\n",
    "    user = int(input(\"가위(1), 바위(2), 보(3):\"))\n",
    "    com = random.randint(1,3)\n",
    "    if user==com:\n",
    "        result = \"Tie\"\n",
    "        result_h +=1\n",
    "    elif com==1 and user==2:\n",
    "        result = \"Win\"\n",
    "        result_win += 1\n",
    "        result_h += 1\n",
    "    elif com==2 and user==3:\n",
    "        result = \"Win\"\n",
    "        result_win += 1\n",
    "        result_h += 1\n",
    "    elif com==3 and user==1:\n",
    "        result = \"Win\"\n",
    "        result_win += 1\n",
    "        result_h += 1\n",
    "    else:\n",
    "        result = \"Lose\"\n",
    "        result_h += 1\n",
    "    print(result)\n",
    "print(\"승률=\",result_win/result_h)"
   ]
  },
  {
   "cell_type": "code",
   "execution_count": 15,
   "id": "8df63fdd",
   "metadata": {},
   "outputs": [
    {
     "name": "stdout",
     "output_type": "stream",
     "text": [
      "문자열을 입력하세요   파이썬 기초\n",
      "입력한 문자열은 '   파이썬 기초'입니다.\n",
      "수정된 문자열은 '파이썬 기초'입니다.\n"
     ]
    }
   ],
   "source": [
    "### 2\n",
    "string_input = input(\"문자열을 입력하세요\")\n",
    "def fn_ltirm(string):\n",
    "    str_out = \"\"\n",
    "    idx = 0\n",
    "    \n",
    "    for c in string:\n",
    "        if (not (c == ' ' and idx == 0)):\n",
    "            str_out = str_out + c\n",
    "            idx += 1\n",
    "    return str_out\n",
    "print(\"입력한 문자열은 '\"+string_input+\"'입니다.\")\n",
    "print(\"수정된 문자열은 '\"+fn_ltirm(string_input)+\"'입니다.\")"
   ]
  },
  {
   "cell_type": "code",
   "execution_count": 1,
   "id": "fa630d81",
   "metadata": {},
   "outputs": [
    {
     "name": "stdout",
     "output_type": "stream",
     "text": [
      "3자리 숫자 입력:123\n",
      "Strike: 0 Ball: 1\n",
      "3자리 숫자 입력:456\n",
      "Strike: 0 Ball: 1\n",
      "3자리 숫자 입력:789\n",
      "Strike: 0 Ball: 1\n",
      "3자리 숫자 입력:145\n",
      "Strike: 0 Ball: 1\n",
      "3자리 숫자 입력:167\n",
      "Strike: 0 Ball: 0\n",
      "3자리 숫자 입력:216\n",
      "Strike: 0 Ball: 0\n",
      "3자리 숫자 입력:125\n",
      "Strike: 0 Ball: 0\n",
      "3자리 숫자 입력:349\n",
      "Strike: 1 Ball: 2\n",
      "3자리 숫자 입력:394\n",
      "Strike: 3 Ball: 0\n"
     ]
    }
   ],
   "source": [
    "### 3\n",
    "from random import sample\n",
    "n = 3\n",
    "a = ''.join(sample('0123456789', n))\n",
    "b=\"\"\n",
    "while a != b:\n",
    "\n",
    "    b = input(str(n)+\"자리 숫자 입력:\")\n",
    "\n",
    "    strike = 0\n",
    "    ball = 0\n",
    "\n",
    "    for number in a:\n",
    "        if b.count(number)  == 1:\n",
    "            if b.find(number) == a.find(number):\n",
    "                strike += 1\n",
    "            else:\n",
    "                ball += 1\n",
    "\n",
    "    print(\"Strike:\", strike, \"Ball:\", ball)\n",
    "else:\n",
    "    print('정답!')\n",
    "    print('게임종료')"
   ]
  },
  {
   "cell_type": "code",
   "execution_count": 39,
   "id": "c2517802",
   "metadata": {},
   "outputs": [],
   "source": [
    "### 4\n",
    "def calculator(N):\n",
    "    if N % 2 == 0:\n",
    "        result = 1\n",
    "        for i in range(1, N+1):\n",
    "            result = result * i\n",
    "    else:\n",
    "        result = 0\n",
    "        for i in range(1, N+1):\n",
    "            result = result + i\n",
    "    return result"
   ]
  },
  {
   "cell_type": "code",
   "execution_count": 42,
   "id": "17aed488",
   "metadata": {},
   "outputs": [
    {
     "data": {
      "text/plain": [
       "(15, 24)"
      ]
     },
     "execution_count": 42,
     "metadata": {},
     "output_type": "execute_result"
    }
   ],
   "source": [
    "calculator(5),calculator(4)"
   ]
  }
 ],
 "metadata": {
  "kernelspec": {
   "display_name": "Python 3",
   "language": "python",
   "name": "python3"
  },
  "language_info": {
   "codemirror_mode": {
    "name": "ipython",
    "version": 3
   },
   "file_extension": ".py",
   "mimetype": "text/x-python",
   "name": "python",
   "nbconvert_exporter": "python",
   "pygments_lexer": "ipython3",
   "version": "3.8.8"
  }
 },
 "nbformat": 4,
 "nbformat_minor": 5
}
