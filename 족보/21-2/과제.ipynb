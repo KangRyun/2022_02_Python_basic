{
 "cells": [
  {
   "cell_type": "code",
   "execution_count": 2,
   "id": "c39aae4d",
   "metadata": {},
   "outputs": [],
   "source": [
    "import pandas as pd\n",
    "from matplotlib import pyplot as plt\n",
    "plt.rcParams['font.family'] = 'Gulim'"
   ]
  },
  {
   "cell_type": "code",
   "execution_count": 3,
   "id": "f564b168",
   "metadata": {},
   "outputs": [],
   "source": [
    "df = pd.read_csv(\"TCS_C4_04_02_818628.csv\",encoding = \"cp949\")"
   ]
  },
  {
   "cell_type": "code",
   "execution_count": 4,
   "id": "5a2d32d7",
   "metadata": {},
   "outputs": [
    {
     "data": {
      "text/plain": [
       "(949468, 16)"
      ]
     },
     "execution_count": 4,
     "metadata": {},
     "output_type": "execute_result"
    }
   ],
   "source": [
    "# 1. 파일의 행과 열의 수\n",
    "# 행 949468, 열 16\n",
    "df.shape"
   ]
  },
  {
   "cell_type": "code",
   "execution_count": 5,
   "id": "70292121",
   "metadata": {},
   "outputs": [
    {
     "data": {
      "text/html": [
       "<div>\n",
       "<style scoped>\n",
       "    .dataframe tbody tr th:only-of-type {\n",
       "        vertical-align: middle;\n",
       "    }\n",
       "\n",
       "    .dataframe tbody tr th {\n",
       "        vertical-align: top;\n",
       "    }\n",
       "\n",
       "    .dataframe thead th {\n",
       "        text-align: right;\n",
       "    }\n",
       "</style>\n",
       "<table border=\"1\" class=\"dataframe\">\n",
       "  <thead>\n",
       "    <tr style=\"text-align: right;\">\n",
       "      <th></th>\n",
       "      <th>집계일자</th>\n",
       "      <th>출발영업소코드</th>\n",
       "      <th>도착영업소코드</th>\n",
       "      <th>도착지방향1종교통량</th>\n",
       "      <th>도착지방향2종교통량</th>\n",
       "      <th>도착지방향3종교통량</th>\n",
       "      <th>도착지방향4종교통량</th>\n",
       "      <th>도착지방향5종교통량</th>\n",
       "      <th>도착지방향6종교통량</th>\n",
       "      <th>도착지방향총교통량</th>\n",
       "    </tr>\n",
       "  </thead>\n",
       "  <tbody>\n",
       "    <tr>\n",
       "      <th>count</th>\n",
       "      <td>9.494680e+05</td>\n",
       "      <td>949468.000000</td>\n",
       "      <td>949468.000000</td>\n",
       "      <td>949468.000000</td>\n",
       "      <td>949468.000000</td>\n",
       "      <td>949468.000000</td>\n",
       "      <td>949468.000000</td>\n",
       "      <td>949468.000000</td>\n",
       "      <td>949468.000000</td>\n",
       "      <td>949468.000000</td>\n",
       "    </tr>\n",
       "    <tr>\n",
       "      <th>mean</th>\n",
       "      <td>2.018082e+07</td>\n",
       "      <td>392.000000</td>\n",
       "      <td>445.615385</td>\n",
       "      <td>1.156331</td>\n",
       "      <td>0.041047</td>\n",
       "      <td>0.059515</td>\n",
       "      <td>0.047746</td>\n",
       "      <td>0.063204</td>\n",
       "      <td>0.064630</td>\n",
       "      <td>1.432473</td>\n",
       "    </tr>\n",
       "    <tr>\n",
       "      <th>std</th>\n",
       "      <td>8.944277e+00</td>\n",
       "      <td>219.653371</td>\n",
       "      <td>532.131748</td>\n",
       "      <td>24.061904</td>\n",
       "      <td>0.903705</td>\n",
       "      <td>1.640595</td>\n",
       "      <td>0.937136</td>\n",
       "      <td>1.582020</td>\n",
       "      <td>1.590919</td>\n",
       "      <td>28.898425</td>\n",
       "    </tr>\n",
       "    <tr>\n",
       "      <th>min</th>\n",
       "      <td>2.018080e+07</td>\n",
       "      <td>107.000000</td>\n",
       "      <td>101.000000</td>\n",
       "      <td>0.000000</td>\n",
       "      <td>0.000000</td>\n",
       "      <td>0.000000</td>\n",
       "      <td>0.000000</td>\n",
       "      <td>0.000000</td>\n",
       "      <td>0.000000</td>\n",
       "      <td>0.000000</td>\n",
       "    </tr>\n",
       "    <tr>\n",
       "      <th>25%</th>\n",
       "      <td>2.018081e+07</td>\n",
       "      <td>179.500000</td>\n",
       "      <td>202.000000</td>\n",
       "      <td>0.000000</td>\n",
       "      <td>0.000000</td>\n",
       "      <td>0.000000</td>\n",
       "      <td>0.000000</td>\n",
       "      <td>0.000000</td>\n",
       "      <td>0.000000</td>\n",
       "      <td>0.000000</td>\n",
       "    </tr>\n",
       "    <tr>\n",
       "      <th>50%</th>\n",
       "      <td>2.018082e+07</td>\n",
       "      <td>521.500000</td>\n",
       "      <td>503.000000</td>\n",
       "      <td>0.000000</td>\n",
       "      <td>0.000000</td>\n",
       "      <td>0.000000</td>\n",
       "      <td>0.000000</td>\n",
       "      <td>0.000000</td>\n",
       "      <td>0.000000</td>\n",
       "      <td>0.000000</td>\n",
       "    </tr>\n",
       "    <tr>\n",
       "      <th>75%</th>\n",
       "      <td>2.018082e+07</td>\n",
       "      <td>572.250000</td>\n",
       "      <td>605.000000</td>\n",
       "      <td>0.000000</td>\n",
       "      <td>0.000000</td>\n",
       "      <td>0.000000</td>\n",
       "      <td>0.000000</td>\n",
       "      <td>0.000000</td>\n",
       "      <td>0.000000</td>\n",
       "      <td>0.000000</td>\n",
       "    </tr>\n",
       "    <tr>\n",
       "      <th>max</th>\n",
       "      <td>2.018083e+07</td>\n",
       "      <td>796.000000</td>\n",
       "      <td>9999.000000</td>\n",
       "      <td>4477.000000</td>\n",
       "      <td>195.000000</td>\n",
       "      <td>414.000000</td>\n",
       "      <td>173.000000</td>\n",
       "      <td>440.000000</td>\n",
       "      <td>224.000000</td>\n",
       "      <td>5248.000000</td>\n",
       "    </tr>\n",
       "  </tbody>\n",
       "</table>\n",
       "</div>"
      ],
      "text/plain": [
       "               집계일자        출발영업소코드        도착영업소코드     도착지방향1종교통량  \\\n",
       "count  9.494680e+05  949468.000000  949468.000000  949468.000000   \n",
       "mean   2.018082e+07     392.000000     445.615385       1.156331   \n",
       "std    8.944277e+00     219.653371     532.131748      24.061904   \n",
       "min    2.018080e+07     107.000000     101.000000       0.000000   \n",
       "25%    2.018081e+07     179.500000     202.000000       0.000000   \n",
       "50%    2.018082e+07     521.500000     503.000000       0.000000   \n",
       "75%    2.018082e+07     572.250000     605.000000       0.000000   \n",
       "max    2.018083e+07     796.000000    9999.000000    4477.000000   \n",
       "\n",
       "          도착지방향2종교통량     도착지방향3종교통량     도착지방향4종교통량     도착지방향5종교통량  \\\n",
       "count  949468.000000  949468.000000  949468.000000  949468.000000   \n",
       "mean        0.041047       0.059515       0.047746       0.063204   \n",
       "std         0.903705       1.640595       0.937136       1.582020   \n",
       "min         0.000000       0.000000       0.000000       0.000000   \n",
       "25%         0.000000       0.000000       0.000000       0.000000   \n",
       "50%         0.000000       0.000000       0.000000       0.000000   \n",
       "75%         0.000000       0.000000       0.000000       0.000000   \n",
       "max       195.000000     414.000000     173.000000     440.000000   \n",
       "\n",
       "          도착지방향6종교통량      도착지방향총교통량  \n",
       "count  949468.000000  949468.000000  \n",
       "mean        0.064630       1.432473  \n",
       "std         1.590919      28.898425  \n",
       "min         0.000000       0.000000  \n",
       "25%         0.000000       0.000000  \n",
       "50%         0.000000       0.000000  \n",
       "75%         0.000000       0.000000  \n",
       "max       224.000000    5248.000000  "
      ]
     },
     "execution_count": 5,
     "metadata": {},
     "output_type": "execute_result"
    }
   ],
   "source": [
    "# 2. 기술통계량\n",
    "df.describe()"
   ]
  },
  {
   "cell_type": "code",
   "execution_count": 6,
   "id": "31ad3b70",
   "metadata": {},
   "outputs": [
    {
     "data": {
      "text/plain": [
       "(40539, 16)"
      ]
     },
     "execution_count": 6,
     "metadata": {},
     "output_type": "execute_result"
    }
   ],
   "source": [
    "# 3. 도착지방향총교통량이 0보다 큰 자료를 df_0에 저장하고, 관측값의 수와 변수의 수를 구하시오.\n",
    "# 행 40539, 열 16\n",
    "df_0 = df.loc[df.도착지방향총교통량>0]\n",
    "df_0.shape"
   ]
  },
  {
   "cell_type": "code",
   "execution_count": 7,
   "id": "6c4f3499",
   "metadata": {},
   "outputs": [
    {
     "data": {
      "image/png": "[encoded data removed]",
      "text/plain": [
       "<Figure size 576x432 with 1 Axes>"
      ]
     },
     "metadata": {
      "needs_background": "light"
     },
     "output_type": "display_data"
    }
   ],
   "source": [
    "# 4. df_0 자료에 대해 집계일자 막대 그래프\n",
    "tb = pd.crosstab(df_0['집계일자'],'Freq',colnames=[''])\n",
    "ax = tb.plot.bar(figsize=(8,6),rot=0)"
   ]
  },
  {
   "cell_type": "code",
   "execution_count": 8,
   "id": "29df704f",
   "metadata": {},
   "outputs": [
    {
     "data": {
      "text/plain": [
       "(13820, 16)"
      ]
     },
     "execution_count": 8,
     "metadata": {},
     "output_type": "execute_result"
    }
   ],
   "source": [
    "# 5. 8월 2일 자료만 추출하여 df_8_2에 저장하고, 관측값의 수와 변수의 수를 구하시오.\n",
    "# 행 13820, 열 16\n",
    "df_8_2 = df_0.loc[df_0.집계일자 == 20180802]\n",
    "df_8_2.shape"
   ]
  },
  {
   "cell_type": "code",
   "execution_count": 9,
   "id": "023188ec",
   "metadata": {},
   "outputs": [
    {
     "data": {
      "text/plain": [
       "(252, 16)"
      ]
     },
     "execution_count": 9,
     "metadata": {},
     "output_type": "execute_result"
    }
   ],
   "source": [
    "# 6. 출발영업소명이 안성인 자료만 추출하여 df_as에 저장하고, 관측값의 수와 변수의 수를 구하시오.\n",
    "# 행 252, 열 16\n",
    "df_as = df_8_2.loc[df_8_2.출발영업소명 == '안성']\n",
    "df_as.shape"
   ]
  },
  {
   "cell_type": "code",
   "execution_count": 23,
   "id": "76ca60ae",
   "metadata": {},
   "outputs": [
    {
     "data": {
      "text/plain": [
       "count     252.000000\n",
       "mean       70.337302\n",
       "std       317.146606\n",
       "min         1.000000\n",
       "25%         2.000000\n",
       "50%         4.000000\n",
       "75%        20.000000\n",
       "max      4001.000000\n",
       "Name: 도착지방향총교통량, dtype: float64"
      ]
     },
     "execution_count": 23,
     "metadata": {},
     "output_type": "execute_result"
    }
   ],
   "source": [
    "# 7. df_as 자료에서 도착지방향총교통량에 대한 기술통계량\n",
    "df_as['도착지방향총교통량'].describe()"
   ]
  },
  {
   "cell_type": "code",
   "execution_count": 35,
   "id": "c1331298",
   "metadata": {},
   "outputs": [
    {
     "data": {
      "text/plain": [
       "(62, 16)"
      ]
     },
     "execution_count": 35,
     "metadata": {},
     "output_type": "execute_result"
    }
   ],
   "source": [
    "# 8. df_as 자료에서 도착지방향총교통량이 20보다 큰 자료를 추출하여 df_as_20에 저장하고, 관측값의 수와 변수의 수를 구하시오.\n",
    "# 행 62, 열 16\n",
    "df_as_20 = df_as.loc[df_as.도착지방향총교통량 > 20]\n",
    "df_as_20.shape"
   ]
  },
  {
   "cell_type": "code",
   "execution_count": 37,
   "id": "ae490dde",
   "metadata": {},
   "outputs": [
    {
     "data": {
      "image/png": "[encoded data removed]",
      "text/plain": [
       "<Figure size 432x288 with 1 Axes>"
      ]
     },
     "metadata": {
      "needs_background": "light"
     },
     "output_type": "display_data"
    }
   ],
   "source": [
    "# 9. df_as_20 자료에서 도착지방향총교통량에 대한 히스토그램을 그리시오.\n",
    "ax = df_as_20['도착지방향총교통량'].plot.hist()"
   ]
  },
  {
   "cell_type": "code",
   "execution_count": 38,
   "id": "56b18a65",
   "metadata": {},
   "outputs": [
    {
     "data": {
      "image/png": "[encoded data removed]",
      "text/plain": [
       "<Figure size 432x288 with 1 Axes>"
      ]
     },
     "metadata": {
      "needs_background": "light"
     },
     "output_type": "display_data"
    }
   ],
   "source": [
    "# 10. df_as_20 자료에서 도착지방향총교통량에 대한 상자그림을 그리시오.\n",
    "ax = df_as_20['도착지방향총교통량'].plot.box()"
   ]
  },
  {
   "cell_type": "code",
   "execution_count": 39,
   "id": "11469406",
   "metadata": {},
   "outputs": [
    {
     "data": {
      "image/png": "[encoded data removed]",
      "text/plain": [
       "<Figure size 432x288 with 1 Axes>"
      ]
     },
     "metadata": {
      "needs_background": "light"
     },
     "output_type": "display_data"
    }
   ],
   "source": [
    "# 11. df_as_20 자료에서 도착지방향총교통량에 대한 산점도를 그리시오. \n",
    "ax = df_as_20.plot.scatter(x=\"도착지방향1종교통량\",y='도착지방향2종교통량',c='darkblue')"
   ]
  }
 ],
 "metadata": {
  "kernelspec": {
   "display_name": "Python 3",
   "language": "python",
   "name": "python3"
  },
  "language_info": {
   "codemirror_mode": {
    "name": "ipython",
    "version": 3
   },
   "file_extension": ".py",
   "mimetype": "text/x-python",
   "name": "python",
   "nbconvert_exporter": "python",
   "pygments_lexer": "ipython3",
   "version": "3.8.8"
  }
 },
 "nbformat": 4,
 "nbformat_minor": 5
}
