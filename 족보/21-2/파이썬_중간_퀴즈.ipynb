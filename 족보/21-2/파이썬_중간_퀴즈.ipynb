{
 "cells": [
  {
   "cell_type": "code",
   "execution_count": 6,
   "id": "365990ec",
   "metadata": {},
   "outputs": [
    {
     "name": "stdout",
     "output_type": "stream",
     "text": [
      "가위(1), 바위(2), 보(3):3\n",
      "Win\n",
      "가위(1), 바위(2), 보(3):3\n",
      "Lose\n",
      "가위(1), 바위(2), 보(3):3\n",
      "Tie\n",
      "가위(1), 바위(2), 보(3):3\n",
      "Tie\n",
      "가위(1), 바위(2), 보(3):3\n",
      "Win\n",
      "['Win', 'Lose', 'Tie', 'Tie', 'Win']\n"
     ]
    }
   ],
   "source": [
    "import random\n",
    "result2 = []\n",
    "for i in range(5):\n",
    "    user = int(input(\"가위(1), 바위(2), 보(3):\"))\n",
    "    com = random.randint(1,3)\n",
    "    if user==com:\n",
    "        result = \"Tie\"\n",
    "    elif com==1 and user==2:\n",
    "        result = \"Win\"\n",
    "    elif com==2 and user==3:\n",
    "        result = \"Win\"\n",
    "    elif com==3 and user==1:\n",
    "        result = \"Win\"\n",
    "    else:\n",
    "        result = \"Lose\"\n",
    "    result2.append(result)\n",
    "    print(result)\n",
    "print(result2)"
   ]
  },
  {
   "cell_type": "code",
   "execution_count": 67,
   "id": "ddb75bc3",
   "metadata": {},
   "outputs": [
    {
     "name": "stdout",
     "output_type": "stream",
     "text": [
      "47600\n"
     ]
    }
   ],
   "source": [
    "#2번문제\n",
    "coupon = 0\n",
    "money = 200000\n",
    "coffee = 3500\n",
    "money_coupon = 0\n",
    "while money > coffee:\n",
    "    if coupon < 4:\n",
    "        money = money - coffee\n",
    "        coupon += 1\n",
    "    else:\n",
    "        money += 2800\n",
    "        coupon = 0\n",
    "        money_coupon += 2800\n",
    "print(money_coupon)"
   ]
  },
  {
   "cell_type": "code",
   "execution_count": null,
   "id": "e85b246c",
   "metadata": {},
   "outputs": [],
   "source": []
  }
 ],
 "metadata": {
  "kernelspec": {
   "display_name": "Python 3",
   "language": "python",
   "name": "python3"
  },
  "language_info": {
   "codemirror_mode": {
    "name": "ipython",
    "version": 3
   },
   "file_extension": ".py",
   "mimetype": "text/x-python",
   "name": "python",
   "nbconvert_exporter": "python",
   "pygments_lexer": "ipython3",
   "version": "3.8.8"
  }
 },
 "nbformat": 4,
 "nbformat_minor": 5
}
