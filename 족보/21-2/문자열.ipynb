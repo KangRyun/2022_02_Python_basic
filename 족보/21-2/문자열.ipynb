{
 "cells": [
  {
   "cell_type": "markdown",
   "id": "c556f7bf",
   "metadata": {},
   "source": [
    "## 문자열의 이해"
   ]
  },
  {
   "cell_type": "markdown",
   "id": "57ceb5bb",
   "metadata": {},
   "source": [
    "문자열은 시퀀스 자료형(sequence data type)이다."
   ]
  },
  {
   "cell_type": "code",
   "execution_count": 1,
   "id": "a478f478",
   "metadata": {},
   "outputs": [
    {
     "name": "stdout",
     "output_type": "stream",
     "text": [
      "50 51 52 76\n"
     ]
    }
   ],
   "source": [
    "import sys\n",
    "print(sys.getsizeof(\"a\"),sys.getsizeof(\"ab\"),sys.getsizeof(\"abc\"),sys.getsizeof(\"가\"))"
   ]
  },
  {
   "cell_type": "code",
   "execution_count": 3,
   "id": "bdc4736f",
   "metadata": {},
   "outputs": [
    {
     "name": "stdout",
     "output_type": "stream",
     "text": [
      "a e\n",
      "e a\n"
     ]
    }
   ],
   "source": [
    "a = \"abcde\"\n",
    "print(a[0],a[4])\n",
    "print(a[-1],a[-5])"
   ]
  },
  {
   "cell_type": "code",
   "execution_count": 5,
   "id": "8ac66c5f",
   "metadata": {
    "scrolled": true
   },
   "outputs": [
    {
     "name": "stdout",
     "output_type": "stream",
     "text": [
      "TEAMLA AND ME Python\n",
      "TEAMLAB MOOC AWESOME Python\n",
      "TEAMLAB MOOC AWESOME Python\n",
      "TALBMO WSM yhn AND nohtyP EMOSEWA COOM BALMAET\n"
     ]
    }
   ],
   "source": [
    "a = \"TEAMLAB MOOC AWESOME Python\"\n",
    "print(a[0:6],\"AND\",a[-9:])\n",
    "print(a[:])\n",
    "print(a[-50:50])\n",
    "print(a[::2],\"AND\",a[::-1])"
   ]
  },
  {
   "cell_type": "code",
   "execution_count": 8,
   "id": "de44183d",
   "metadata": {},
   "outputs": [
    {
     "name": "stdout",
     "output_type": "stream",
     "text": [
      "TEAM LAB\n",
      "TEAMTEAM LABLAB\n",
      "TEAM\n"
     ]
    }
   ],
   "source": [
    "a = \"TEAM\"\n",
    "b = \"LAB\"\n",
    "print(a + \" \"+b)\n",
    "print(a*2+\" \"+b*2)\n",
    "if 'A' in a:\n",
    "    print(a)\n",
    "else:\n",
    "    print(b)"
   ]
  },
  {
   "cell_type": "code",
   "execution_count": 2,
   "id": "90d40c1d",
   "metadata": {
    "scrolled": true
   },
   "outputs": [
    {
     "ename": "TypeError",
     "evalue": "can only concatenate str (not \"int\") to str",
     "output_type": "error",
     "traceback": [
      "\u001b[1;31m---------------------------------------------------------------------------\u001b[0m",
      "\u001b[1;31mTypeError\u001b[0m                                 Traceback (most recent call last)",
      "\u001b[1;32m<ipython-input-2-eaf59c4a897d>\u001b[0m in \u001b[0;36m<module>\u001b[1;34m\u001b[0m\n\u001b[0;32m      1\u001b[0m \u001b[0mint_value\u001b[0m \u001b[1;33m=\u001b[0m \u001b[1;36m2\u001b[0m\u001b[1;33m\u001b[0m\u001b[1;33m\u001b[0m\u001b[0m\n\u001b[1;32m----> 2\u001b[1;33m \u001b[0mprint\u001b[0m\u001b[1;33m(\u001b[0m\u001b[1;34m\"결과는\"\u001b[0m\u001b[1;33m+\u001b[0m\u001b[0mint_value\u001b[0m\u001b[1;33m)\u001b[0m\u001b[1;33m\u001b[0m\u001b[1;33m\u001b[0m\u001b[0m\n\u001b[0m",
      "\u001b[1;31mTypeError\u001b[0m: can only concatenate str (not \"int\") to str"
     ]
    }
   ],
   "source": [
    "int_value = 2\n",
    "print(\"결과는\"+int_value)"
   ]
  },
  {
   "cell_type": "code",
   "execution_count": 19,
   "id": "3b383191",
   "metadata": {},
   "outputs": [
    {
     "data": {
      "text/plain": [
       "False"
      ]
     },
     "execution_count": 19,
     "metadata": {},
     "output_type": "execute_result"
    }
   ],
   "source": [
    "title = \"TEAMLAB X Inflearn\"\n",
    "#대문자 변환\n",
    "title.upper()\n",
    "#소문자 변환\n",
    "title.lower()\n",
    "#각 단어의 앞글자만 대문자 변환\n",
    "title.title()\n",
    "#첫 번째 글자만 대문자 변환\n",
    "title.capitalize()\n",
    "#개수 반환\n",
    "title.count(\"a\")\n",
    "#대문자로 변환하고 개수 반환\n",
    "title.upper().count(\"a\")\n",
    "#문자열이 숫자인지 반환\n",
    "title.isdigit()\n",
    "#특정 문자로 시작하는지 반환\n",
    "title.startswith(\"a\")"
   ]
  },
  {
   "cell_type": "markdown",
   "id": "94b1fafa",
   "metadata": {},
   "source": [
    "## Lab: 단어 카운팅"
   ]
  },
  {
   "cell_type": "code",
   "execution_count": 2,
   "id": "a9a1e08e",
   "metadata": {},
   "outputs": [],
   "source": [
    "### 코드 6-1\n",
    "#파일을 열어주고 open\n",
    "f = open(\"yesterday.txt\",'r')\n",
    "yesterday_lyric = f.readlines()\n",
    "#파일을 닫아준다 close\n",
    "f.close()"
   ]
  },
  {
   "cell_type": "code",
   "execution_count": 3,
   "id": "89155d2a",
   "metadata": {
    "scrolled": true
   },
   "outputs": [
    {
     "data": {
      "text/plain": [
       "['Yesterday all my troubles\\n',\n",
       " 'seemed so far away.\\n',\n",
       " 'Now it looks\\n',\n",
       " \"as though they're here to stay.\\n\",\n",
       " 'Oh, I believe in yesterday.\\n',\n",
       " '\\n',\n",
       " \"Suddenly I'm not half\\n\",\n",
       " 'the man I used to be.\\n',\n",
       " \"There's a shadow hanging over me.\\n\",\n",
       " 'Oh, yesterday came suddenly.\\n',\n",
       " '\\n',\n",
       " 'Why she had to go,\\n',\n",
       " \"I don't know,\\n\",\n",
       " \"she wouldn't say.\\n\",\n",
       " 'I said something wrong,\\n',\n",
       " 'now I long for yesterday.\\n',\n",
       " '\\n',\n",
       " 'Yesterday love was\\n',\n",
       " 'such an easy game to play.\\n',\n",
       " 'Now I need a place to hide away.\\n',\n",
       " 'Oh, I believe in yesterday.\\n',\n",
       " '\\n',\n",
       " 'Why she had to go,\\n',\n",
       " \"I don't know,\\n\",\n",
       " \"she wouldn't say.\\n\",\n",
       " 'I said something wrong,\\n',\n",
       " 'now I long for yesterday.\\n',\n",
       " '\\n',\n",
       " 'Yesterday love was\\n',\n",
       " 'such an easy game to play.\\n',\n",
       " 'Now I need a place to hide away.\\n',\n",
       " 'Oh, I believe in yesterday.\\n',\n",
       " '\\n',\n",
       " 'Mm mm mm mm mm mm mm\\n']"
      ]
     },
     "execution_count": 3,
     "metadata": {},
     "output_type": "execute_result"
    }
   ],
   "source": [
    "yesterday_lyric"
   ]
  },
  {
   "cell_type": "code",
   "execution_count": 4,
   "id": "98786b10",
   "metadata": {},
   "outputs": [
    {
     "data": {
      "text/plain": [
       "34"
      ]
     },
     "execution_count": 4,
     "metadata": {},
     "output_type": "execute_result"
    }
   ],
   "source": [
    "len(yesterday_lyric)"
   ]
  },
  {
   "cell_type": "code",
   "execution_count": 6,
   "id": "bdeaf536",
   "metadata": {},
   "outputs": [
    {
     "data": {
      "text/plain": [
       "\"Yesterday all my troublesseemed so far away.Now it looksas though they're here to stay.Oh, I believe in yesterday.Suddenly I'm not halfthe man I used to be.There's a shadow hanging over me.Oh, yesterday came suddenly.Why she had to go,I don't know,she wouldn't say.I said something wrong,now I long for yesterday.Yesterday love wassuch an easy game to play.Now I need a place to hide away.Oh, I believe in yesterday.Why she had to go,I don't know,she wouldn't say.I said something wrong,now I long for yesterday.Yesterday love wassuch an easy game to play.Now I need a place to hide away.Oh, I believe in yesterday.Mm mm mm mm mm mm mm\""
      ]
     },
     "execution_count": 6,
     "metadata": {},
     "output_type": "execute_result"
    }
   ],
   "source": [
    "contents = \"\"\n",
    "for line in yesterday_lyric:\n",
    "    contents = contents + line.strip()\n",
    "contents"
   ]
  },
  {
   "cell_type": "code",
   "execution_count": 46,
   "id": "614873c8",
   "metadata": {},
   "outputs": [
    {
     "data": {
      "text/plain": [
       "6"
      ]
     },
     "execution_count": 46,
     "metadata": {},
     "output_type": "execute_result"
    }
   ],
   "source": [
    "contents.count(\"yesterday\")"
   ]
  },
  {
   "cell_type": "code",
   "execution_count": 41,
   "id": "349e4b6b",
   "metadata": {},
   "outputs": [
    {
     "name": "stdout",
     "output_type": "stream",
     "text": [
      "Number of a Word 'Yesterday' 9\n"
     ]
    }
   ],
   "source": [
    "n_of_yesterday = contents.upper().count(\"YESTERDAY\")\n",
    "print(\"Number of a Word 'Yesterday'\",n_of_yesterday)"
   ]
  },
  {
   "cell_type": "code",
   "execution_count": 7,
   "id": "fb1e747c",
   "metadata": {},
   "outputs": [],
   "source": [
    "## 예제 1 - 무인단속카메라\n",
    "#1) 무인단속카메라의 수 구하기\n",
    "#2) 대덕구에 설치된 무인단속카메라의 수 구하기\n",
    "\n",
    "# 파일 자료를 리스트로 저장 - 값 구분은 '\\n'\n",
    "f = open(\"무인단속카메라.txt\",\"r\")\n",
    "data = f.readlines()\n",
    "f.close()"
   ]
  },
  {
   "cell_type": "code",
   "execution_count": 8,
   "id": "6b3832d5",
   "metadata": {},
   "outputs": [
    {
     "data": {
      "text/plain": [
       "['대전광역시 중구 중촌동 396-14\\n',\n",
       " '대전광역시 중구 계백로 1686번길 16\\n',\n",
       " '대전광역시 중구 대둔산로 460\\n',\n",
       " '대전광역시 유성구 원신흥동 149-5\\n',\n",
       " '대전광역시 동구 대전로 799-1\\n']"
      ]
     },
     "execution_count": 8,
     "metadata": {},
     "output_type": "execute_result"
    }
   ],
   "source": [
    "#처음 5개 자료 확인\n",
    "data[0:5]"
   ]
  },
  {
   "cell_type": "code",
   "execution_count": 9,
   "id": "c1c2ed1b",
   "metadata": {},
   "outputs": [
    {
     "data": {
      "text/plain": [
       "369"
      ]
     },
     "execution_count": 9,
     "metadata": {},
     "output_type": "execute_result"
    }
   ],
   "source": [
    "#1) 무인단속카메라의 수 = 자료의 수 = 행의 수 = 리스트 원소의 수\n",
    "len(data)"
   ]
  },
  {
   "cell_type": "code",
   "execution_count": 16,
   "id": "873d6eff",
   "metadata": {},
   "outputs": [],
   "source": [
    "# 리스트의 값을 하나의 문자열로 저장\n",
    "addr = \"\"\n",
    "for line in data:\n",
    "    addr = addr + line.strip() + \",\""
   ]
  },
  {
   "cell_type": "code",
   "execution_count": 19,
   "id": "7bdf54b0",
   "metadata": {},
   "outputs": [
    {
     "data": {
      "text/plain": [
       "['대전광역시 중구 중촌동 396-14',\n",
       " '대전광역시 중구 계백로 1686번길 16',\n",
       " '대전광역시 중구 대둔산로 460',\n",
       " '대전광역시 유성구 원신흥동 149-5',\n",
       " '대전광역시 동구 대전로 799-1',\n",
       " '대전광역시 서구 도안동로 177',\n",
       " '대전광역시 동구 옥천로 421',\n",
       " '대전광역시 서구 도안동 1563',\n",
       " '대전광역시 대덕구 중리동 126-8',\n",
       " '대전광역시 대덕구 신대동 491-21',\n",
       " '대전광역시 서구 월평동 1529',\n",
       " '대전광역시 유성구 장대동 339',\n",
       " '대전광역시 서구 둔산동 1535',\n",
       " '대전광역시 서구 도안동 1512',\n",
       " '대전광역시 유성구 노은동 552-1',\n",
       " '대전광역시 중구 대종로 111번길 4',\n",
       " '대전광역시 중구 대종로 226',\n",
       " '대전광역시 서구 계백로 1271',\n",
       " '대전광역시 서구 도안동 1472',\n",
       " '대전광역시 유성구 구암동 629-5',\n",
       " '대전광역시 서구 둔산동 1382',\n",
       " '대전광역시 서구 월평동 1172',\n",
       " '대전광역시 유성구 유성대로1307',\n",
       " '대전광역시 유성구 원신흥동 487',\n",
       " '대전광역시 동구 계족로 447',\n",
       " '대전광역시 대덕구 신탄진로 200',\n",
       " '대전광역시 유성구 방동 690-1',\n",
       " '대전광역시 유성구 구암동 693',\n",
       " '대전광역시 유성구 덕명동 527',\n",
       " '대전광역시 중구 대종로 675',\n",
       " '대전광역시 중구 문화동 284-168',\n",
       " '대전광역시 동구 계족로 251',\n",
       " '대전광역시 동구 동대전로 161',\n",
       " '대전광역시 서구 도마동 99-1',\n",
       " '대전광역시 대덕구 문평동 43-1',\n",
       " '대전광역시 대덕구 계족로 761번길 24',\n",
       " '대전광역시 유성구 궁동 27-2',\n",
       " '대전광역시 유성구 반석동 679',\n",
       " '대전광역시 동구 세천동 549-7',\n",
       " '대전광역시 동구 동부로 170',\n",
       " '대전광역시 유성구 한밭대로 458',\n",
       " '대전광역시 유성구 안산동 300-1',\n",
       " '대전광역시 중구 대둔산로 262',\n",
       " '대전광역시 동구 성남동 528',\n",
       " '대전광역시 유성구 구암동 613-9',\n",
       " '대전광역시 중구 대종로 331',\n",
       " '대전광역시 동구 판암동 294-10',\n",
       " '대전광역시 대덕구 신탄진로 347',\n",
       " '대전광역시 유성구 동서대로 695',\n",
       " '대전광역시 중구 보문산로 306번길',\n",
       " '대전광역시 동구 옥천로 71',\n",
       " '대전광역시 동구 대학로 62',\n",
       " '대전광역시 서구 신갈마로 19',\n",
       " '대전광역시 대덕구 평촌동 534-23',\n",
       " '대전광역시 대덕구 산업단지로 92-16',\n",
       " '대전광역시 서구 월평동 218-1',\n",
       " '대전광역시 유성구 교촌동 616',\n",
       " '대전광역시 유성구 상대동 467-9',\n",
       " '대전광역시 유성구 대덕대로 665',\n",
       " '대전광역시 유성구 월드컵대로 322',\n",
       " '대전광역시 유성구 화암동 940',\n",
       " '대전광역시 유성구 화암동 940',\n",
       " '대전광역시 유성구 전민동 461-13',\n",
       " '대전광역시 유성구 둔곡동 산32-5',\n",
       " '대전광역시 서구 구봉로 419',\n",
       " '대전광역시 서구 괴곡길 42',\n",
       " '대전광역시 중구 사정동 산52-1',\n",
       " '대전광역시 서구 벌곡로 390',\n",
       " '대전광역시 서구 벌곡로 379',\n",
       " '대전광역시 중구 대둔산로 150',\n",
       " '대전광역시 서구 괴곡동889',\n",
       " '대전광역시 유성구 지족로 240',\n",
       " '대전광역시 중구 동서대로 1255',\n",
       " '대전광역시 대덕구 한밭대로 1095',\n",
       " '대전광역시 대덕구 대전로 1356',\n",
       " '대전광역시 서구 월평동 301',\n",
       " '대전광역시 유성구 신성동 223-25',\n",
       " '대전광역시 유성구 유성대로 875',\n",
       " '대전광역시 유성구 지족동 1004',\n",
       " '대전광역시 유성구 장대동 17-1',\n",
       " '대전광역시 동구 구도동 164-18',\n",
       " '대전광역시 서구 흑석동 110-3',\n",
       " '대전광역시 유성구 원신흥동 46-3',\n",
       " '대전광역시 대덕구 읍내동 523',\n",
       " '대전광역시 대덕구 대덕대로 1448번길 50',\n",
       " '대전광역시 서구 둔산동 1694',\n",
       " '대전광역시 서구 탄방동 1460',\n",
       " '대전광역시 유성구 엑스포로 434',\n",
       " '대전광역시 유성구 구성동 275-1',\n",
       " '대전광역시 유성구 가정로 76',\n",
       " '대전광역시 유성구 봉명동 1019-8',\n",
       " '대전광역시 동구 천동 186-3',\n",
       " '대전광역시 중구 대둔산로 332',\n",
       " '대전광역시 중구 대종로 684',\n",
       " '대전광역시 중구 목동로 69',\n",
       " '대전광역시 중구 태평로 21',\n",
       " '대전광역시 중구 선화로 17',\n",
       " '대전광역시 중구 유천로 117',\n",
       " '대전광역시 동구 대전로 396',\n",
       " '대전광역시 동구 가양로 61',\n",
       " '대전광역시 서구 벌곡로 1358',\n",
       " '대전광역시 서구 관저중로 61',\n",
       " '대전광역시 서구 관저로 75',\n",
       " '대전광역시 서구 동서대로 1063번길 13',\n",
       " '대전광역시 서구 복수동로 26',\n",
       " '대전광역시 대덕구 대청로 63',\n",
       " '대전광역시 대덕구 석봉로 3번길 50',\n",
       " '대전광역시 서구 월평서로 22',\n",
       " '대전광역시 서구 문정로 180',\n",
       " '대전광역시 서구 만년로 3',\n",
       " '대전광역시 서구 갈마역로 139',\n",
       " '대전광역시 유성구 문화원로 19번길 16',\n",
       " '대전광역시 유성구 노은서로 238',\n",
       " '대전광역시 유성구 원신흥남로 20',\n",
       " '대전광역시 유성구 과학로 200',\n",
       " '대전광역시 동구 구도동 313-36',\n",
       " '대전광역시 동구 동대전로 305',\n",
       " '대전광역시 서구 벌곡로 647',\n",
       " '대전광역시 서구 신갈마로 66-17',\n",
       " '대전광역시 유성구 방동 666-3',\n",
       " '대전광역시 유성구 탑립동 234-2',\n",
       " '대전광역시 중구 대흥동 532-15',\n",
       " '대전광역시 대덕구 한밭대로 988',\n",
       " '대전광역시 유성구 방동 산20-9',\n",
       " '대전광역시 유성구 관평동 1344',\n",
       " '대전광역시 중구 보문산로 291',\n",
       " '대전광역시 중구 동서대로 1194',\n",
       " '대전광역시 서구 계백로 1278',\n",
       " '대전광역시 서구 계룡로 639',\n",
       " '대전광역시 서구 둔산동 2281',\n",
       " '대전광역시 서구 둔산동 950',\n",
       " '대전광역시 서구 둔산동 911',\n",
       " '대전광역시 서구 계룡로 318',\n",
       " '대전광역시 서구 계룡로 510',\n",
       " '대전광역시 유성구 계룡로 지하 97',\n",
       " '대전광역시 유성구 구암동 692',\n",
       " '대전광역시 동구 동부로 23',\n",
       " '대전광역시 대덕구 신탄진로 546',\n",
       " '대전광역시 유성구 문지로 132',\n",
       " '대전광역시 유성구 북유성대로 87',\n",
       " '대전광역시 중구 대종로 578',\n",
       " '대전광역시 동구 동서대로 1689',\n",
       " '대전광역시 서구 계룡로 357',\n",
       " '대전광역시 서구 계백로 1161',\n",
       " '대전광역시 유성구 둔곡동 산10-5 (시점)',\n",
       " '대전광역시 대덕구 신일동 18-2 (종점)',\n",
       " '대전광역시 서구 배재로 172번길 3',\n",
       " '대전광역시 중구 보문산로 155',\n",
       " '대전광역시 중구 충무로 138',\n",
       " '대전광역시 동구 계족로 300',\n",
       " '대전광역시 동구 동대전로 278',\n",
       " '대전광역시 동구 새울로 13',\n",
       " '대전광역시 서구 계백로 1432',\n",
       " '대전광역시 서구 구봉산북로 52',\n",
       " '대전광역시 대덕구 신탄진로 830',\n",
       " '대전광역시 대덕구 계족로 577',\n",
       " '대전광역시 대덕구 우암로 460',\n",
       " '대전광역시 서구 청사로 136',\n",
       " '대전광역시 서구 대덕대로 203',\n",
       " '대전광역시 서구 월평중로 50',\n",
       " '대전광역시 유성구 유성대로 교촌동 118-53',\n",
       " '대전광역시 유성구 유성대로 복용동 175-6',\n",
       " '대전광역시 유성구 테크노2로 139',\n",
       " '대전광역시 중구 문창로 56',\n",
       " '대전광역시 중구 수침로 123',\n",
       " '대전광역시 동구 산내로 1295',\n",
       " '대전광역시 동구 옥천로 607',\n",
       " '대전광역시 동구 성남로 32번길 5',\n",
       " '대전광역시 서구 원도안로 191',\n",
       " '대전광역시 서구 관저로 196',\n",
       " '대전광역시 중구 대둔산로 332',\n",
       " '대전광역시 중구 수침로 138',\n",
       " '대전광역시 중구 태평로 149',\n",
       " '대전광역시 중구 평촌로 19',\n",
       " '대전광역시 중구 계룡로 918번길 97',\n",
       " '대전광역시 중구 문화로 114',\n",
       " '대전광역시 중구 태평로 26',\n",
       " '대전광역시 중구 오류로 41',\n",
       " '대전광역시 동구 계족로 140번길 33',\n",
       " '대전광역시 서구 관저북로 14',\n",
       " '대전광역시 서구 변동중로 84',\n",
       " '대전광역시 서구 관저로 196',\n",
       " '대전광역시 서구 복수동로 26',\n",
       " '대전광역시 대덕구 쌍청당로 45',\n",
       " '대전광역시 대덕구 신탄진동로 48',\n",
       " '대전광역시 서구 월평서로 13',\n",
       " '대전광역시 서구 탄방로 16',\n",
       " '대전광역시 유성구 반석로 23',\n",
       " '대전광역시 유성구 송강로 42번길 6',\n",
       " '대전광역시 유성구 와룡로 29',\n",
       " '대전광역시 유성구 원신흥로 55번길 37',\n",
       " '대전광역시 유성구 문화원로 19번길 16',\n",
       " '대전광역시 유성구 상대서로 46',\n",
       " '대전광역시 유성구 상대서로 46',\n",
       " '대전광역시 유성구 송림로 41',\n",
       " '대전광역시 중구 오류로 46',\n",
       " '대전광역시 중구 유천로 117',\n",
       " '대전광역시 중구 수도산로 28-1',\n",
       " '대전광역시 중구 수도산로 12',\n",
       " '대전광역시 중구 선화로 160-1',\n",
       " '대전광역시 중구 평촌로 9',\n",
       " '대전광역시 중구 목동로 29',\n",
       " '대전광역시 중구 목중로 19번길 75',\n",
       " '대전광역시 중구 선화서로 70',\n",
       " '대전광역시 중구 보문산로 388번길 3',\n",
       " '대전광역시 중구 송리로 5-1',\n",
       " '대전광역시 중구 송리로 16',\n",
       " '대전광역시 중구 보문산로 177번안길 50',\n",
       " '대전광역시 중구 선화서로 3',\n",
       " '대전광역시 중구 평촌로 104-1',\n",
       " '대전광역시 중구 문화로 123',\n",
       " '대전광역시 중구 문화로 196',\n",
       " '대전광역시 중구 서문로 86',\n",
       " '대전광역시 중구 당디로 52',\n",
       " '대전광역시 중구 보문로 88',\n",
       " '대전광역시 중구 보문로 75',\n",
       " '대전광역시 중구 선화로 17',\n",
       " '대전광역시 중구 대종로 201',\n",
       " '대전광역시 중구 모암로 33',\n",
       " '대전광역시 중구 산서로 387',\n",
       " '대전광역시 중구 목동로 72',\n",
       " '대전광역시 중구 계룡로 918번길 67',\n",
       " '대전광역시 동구 동대전로 46번길 76',\n",
       " '대전광역시 동구 동대전로 46번길 120',\n",
       " '대전광역시 동구 우암로 90',\n",
       " '대전광역시 동구 대전로 882',\n",
       " '대전광역시 동구 새울로 96',\n",
       " '대전광역시 동구 산내로 509',\n",
       " '대전광역시 동구 대동초등2길 19',\n",
       " '대전광역시 동구 계족로 122',\n",
       " '대전광역시 동구 백룡로 123',\n",
       " '대전광역시 동구 동부로 56-7',\n",
       " '대전광역시 동구 백룡로 14번길 6',\n",
       " '대전광역시 동구 흥룡로 66',\n",
       " '대전광역시 동구 홍도로 101',\n",
       " '대전광역시 동구 동대전로 108',\n",
       " '대전광역시 동구 현암로 15',\n",
       " '대전광역시 동구 동대전로 248번길 19',\n",
       " '대전광역시 동구 우암로 283',\n",
       " '대전광역시 동구 옥천로 186',\n",
       " '대전광역시 동구 대청호수로 563',\n",
       " '대전광역시 동구 신기로 112',\n",
       " '대전광역시 동구 태전로 133',\n",
       " '대전광역시 동구 은어송로 95',\n",
       " '대전광역시 동구 은어송로 111',\n",
       " '대전광역시 동구 천동초등동길 60',\n",
       " '대전광역시 동구 계족로 32',\n",
       " '대전광역시 동구 동구청로 35',\n",
       " '대전광역시 동구 동구청로 66',\n",
       " '대전광역시 동구 대전로 387',\n",
       " '대전광역시 동구 우암로 210',\n",
       " '대전광역시 서구 제비네1길 67',\n",
       " '대전광역시 서구 정림동로 1',\n",
       " '대전광역시 서구 정림로 11',\n",
       " '대전광역시 서구 복수중로 29',\n",
       " '대전광역시 서구 가장로 149',\n",
       " '대전광역시 서구 도산로 341번길 98',\n",
       " '대전광역시 서구 계백로 1059',\n",
       " '대전광역시 서구 변동로 110',\n",
       " '대전광역시 서구 중반5길 120',\n",
       " '대전광역시 서구 매노동 229-3',\n",
       " '대전광역시 서구 도솔로 18',\n",
       " '대전광역시 서구 배재로 266-1',\n",
       " '대전광역시 서구 관저로 47',\n",
       " '대전광역시 서구 관저로 37',\n",
       " '대전광역시 서구 관저로 75',\n",
       " '대전광역시 서구 관저중로 61',\n",
       " '대전광역시 서구 관저중로 72',\n",
       " '대전광역시 서구 관저북로 87',\n",
       " '대전광역시 서구 관저로 196',\n",
       " '대전광역시 서구 원도안로 80',\n",
       " '대전광역시 서구 관저남로 60',\n",
       " '대전광역시 서구 계백로 1095',\n",
       " '대전광역시 서구 계백로 1095',\n",
       " '대전광역시 서구 도안동 1363',\n",
       " '대전광역시 서구 가장로 15',\n",
       " '대전광역시 대덕구 중리동로 65',\n",
       " '대전광역시 대덕구 한밭대로 1024번길 20',\n",
       " '대전광역시 대덕구 한남로 150번길 27',\n",
       " '대전광역시 대덕구 한남로 67번길 87',\n",
       " '대전광역시 대덕구 대청로 65',\n",
       " '대전광역시 대덕구 대청로 65',\n",
       " '대전광역시 대덕구 석봉로 3번길 50',\n",
       " '대전광역시 대덕구 덕암로 130',\n",
       " '대전광역시 대덕구 쌍청당로 45',\n",
       " '대전광역시 대덕구 선비마을로 155',\n",
       " '대전광역시 대덕구 계족산로 124',\n",
       " '대전광역시 대덕구 계족산로 130',\n",
       " '대전광역시 대덕구 계족로 664번길 74',\n",
       " '대전광역시 대덕구 대화로 242-31',\n",
       " '대전광역시 대덕구 중리동로 85',\n",
       " '대전광역시 대덕구 중리북로 20',\n",
       " '대전광역시 대덕구 신탄진로 213',\n",
       " '대전광역시 대덕구 장동 359-6',\n",
       " '대전광역시 대덕구 신탄진남로 20',\n",
       " '대전광역시 대덕구 송촌로 67',\n",
       " '대전광역시 대덕구 대덕대로 1486번길 117',\n",
       " '대전광역시 대덕구 우암로 492번길 65',\n",
       " '대전광역시 대덕구 우암로 492번길 65',\n",
       " '대전광역시 대덕구 대덕대로 1585',\n",
       " '대전광역시 대덕구 오정로 75번길 26',\n",
       " '대전광역시 서구 청사로 27',\n",
       " '대전광역시 서구 둔산로 74번길 20',\n",
       " '대전광역시 서구 갈마역로 125',\n",
       " '대전광역시 서구 청사로 282',\n",
       " '대전광역시 서구 월평서로 22',\n",
       " '대전광역시 서구 신갈마로 142-5',\n",
       " '대전광역시 서구 문정로 221',\n",
       " '대전광역시 서구 문정로 221',\n",
       " '대전광역시 서구 만년로 20',\n",
       " '대전광역시 서구 만년남로 14',\n",
       " '대전광역시 서구 대덕대로 390',\n",
       " '대전광역시 서구 신갈마로 232',\n",
       " '대전광역시 서구 월평동로 21',\n",
       " '대전광역시 서구 둔산북로 232-11',\n",
       " '대전광역시 서구 탄방로 15',\n",
       " '대전광역시 서구 둔산로 206',\n",
       " '대전광역시 서구 유등로 879',\n",
       " '대전광역시 유성구 계백로 87',\n",
       " '대전광역시 유성구 진잠로 90',\n",
       " '대전광역시 유성구 대정로 28번길 55',\n",
       " '대전광역시 유성구 학하남로 1',\n",
       " '대전광역시 유성구 상대서로 46',\n",
       " '대전광역시 유성구 월드컵대로 316번길 29',\n",
       " '대전광역시 유성구 계룡로 132번길 55',\n",
       " '대전광역시 유성구 계룡로 132번길 62',\n",
       " '대전광역시 유성구 원신흥로 55번길 48',\n",
       " '대전광역시 유성구 원신흥남로 27번길 3',\n",
       " '대전광역시 유성구 구룡달전로 345',\n",
       " '대전광역시 유성구 송강로 42번길 6',\n",
       " '대전광역시 유성구 와룡로 37',\n",
       " '대전광역시 유성구 배울2로 8',\n",
       " '대전광역시 유성구 테크노4로 132',\n",
       " '대전광역시 유성구 관평2로 43',\n",
       " '대전광역시 유성구 용산2로 77',\n",
       " '대전광역시 유성구 엑스포로 463',\n",
       " '대전광역시 유성구 대덕대로 587',\n",
       " '대전광역시 유성구 대덕대로 594',\n",
       " '대전광역시 유성구 엑스포로 123번길 55',\n",
       " '대전광역시 유성구 용산2로 16-21',\n",
       " '대전광역시 유성구 대학로 127',\n",
       " '대전광역시 유성구 유성대로 768',\n",
       " '대전광역시 유성구 덕명동 520-3',\n",
       " '대전광역시 유성구 노은서로 77',\n",
       " '대전광역시 유성구 노은동로 99번길 35',\n",
       " '대전광역시 유성구 지족로 168',\n",
       " '대전광역시 유성구 반석동로 34',\n",
       " '대전광역시 유성구 반석동로 63',\n",
       " '대전광역시 유성구 하기동 550',\n",
       " '대전광역시 유성구 신성로 72번길 5',\n",
       " '대전광역시 유성구 노은동로 219',\n",
       " '대전광역시 유성구 은구비로 72',\n",
       " '대전광역시 유성구 노은동로 165',\n",
       " '대전광역시 유성구 죽동로 52',\n",
       " '대전광역시 유성구 죽동로 52',\n",
       " '대전광역시 유성구 농대로 46',\n",
       " '대전광역시 유성구 송림로 20',\n",
       " '대전광역시 유성구 자운로 97번길 380',\n",
       " '대전광역시 유성구 유성대로 1722',\n",
       " '대전광역시 유성구 배울2로 101',\n",
       " '대전광역시 유성구 진잠로 149번길 42',\n",
       " '대전광역시 유성구 진잠옛로 165',\n",
       " '대전광역시 유성구 테크노중앙로 130',\n",
       " '대전광역시 유성구 테크노7로 32-9',\n",
       " '대전광역시 유성구 구즉로 108',\n",
       " '대전광역시 서구 계룡로 376',\n",
       " '대전광역시 서구 대덕대로 270',\n",
       " '대전광역시 서구 한밭대로 둔산동 2155',\n",
       " '대전광역시 유성구 유성대로 811번길 8',\n",
       " '']"
      ]
     },
     "execution_count": 19,
     "metadata": {},
     "output_type": "execute_result"
    }
   ],
   "source": [
    "\n",
    "addr1 = addr.split(',')\n",
    "addr1"
   ]
  },
  {
   "cell_type": "code",
   "execution_count": 10,
   "id": "649a3402",
   "metadata": {},
   "outputs": [
    {
     "data": {
      "text/plain": [
       "'대전광역시 중구 중촌동 396-14,대전광역시 중구 계백로 1686번길 16,대전광역시 중구 대둔산로 460,대전광역시 유성구 원신흥동 149-5,대전광역시 동구 대전로 799-1'"
      ]
     },
     "execution_count": 10,
     "metadata": {},
     "output_type": "execute_result"
    }
   ],
   "source": [
    "# 처음 100글자 확인\n",
    "addr[0:100]"
   ]
  },
  {
   "cell_type": "code",
   "execution_count": 11,
   "id": "e43681ae",
   "metadata": {},
   "outputs": [
    {
     "data": {
      "text/plain": [
       "47"
      ]
     },
     "execution_count": 11,
     "metadata": {},
     "output_type": "execute_result"
    }
   ],
   "source": [
    "# 대덕구의 카메라 수 = 주소에서 '대덕구'의 수\n",
    "addr.count(\"대덕구\")"
   ]
  },
  {
   "cell_type": "code",
   "execution_count": 12,
   "id": "b35f7518",
   "metadata": {},
   "outputs": [],
   "source": [
    "## 예제2\n",
    "# 동구, 중구, 서구, 유성구, 대덕구의 카메라의 수"
   ]
  },
  {
   "cell_type": "code",
   "execution_count": 13,
   "id": "b207edc7",
   "metadata": {},
   "outputs": [
    {
     "name": "stdout",
     "output_type": "stream",
     "text": [
      "57 62 100 105 47\n"
     ]
    }
   ],
   "source": [
    "print(addr.count(\"동구\"),\n",
    "    addr.count(\"중구\"),\n",
    "    addr.count(\"서구\"),\n",
    "    addr.count(\"유성구\"),\n",
    "    addr.count(\"대덕구\"))"
   ]
  },
  {
   "cell_type": "code",
   "execution_count": 14,
   "id": "628cc6ff",
   "metadata": {
    "scrolled": true
   },
   "outputs": [
    {
     "name": "stdout",
     "output_type": "stream",
     "text": [
      "동구 : 57\n",
      "중구 : 62\n",
      "서구 : 100\n",
      "유성구 : 105\n",
      "대덕구 : 47\n"
     ]
    }
   ],
   "source": [
    "# 구별 개수 구하기 - 반복문\n",
    "gu_list = ['동구','중구','서구','유성구','대덕구']\n",
    "for i in gu_list:\n",
    "    print(i,\":\",addr.count(i))"
   ]
  },
  {
   "cell_type": "code",
   "execution_count": 16,
   "id": "170f0f71",
   "metadata": {},
   "outputs": [
    {
     "name": "stdout",
     "output_type": "stream",
     "text": [
      "동구 : 57\n",
      "중구 : 62\n",
      "서구 : 100\n",
      "유성구 : 105\n",
      "대덕구 : 47\n",
      "===============\n",
      "전체 : 371\n"
     ]
    }
   ],
   "source": [
    "gu_list = ['동구','중구','서구','유성구','대덕구']\n",
    "gu_sum = 0\n",
    "for i in gu_list:\n",
    "    cnt = addr.count(i)\n",
    "    print(i,\":\",addr.count(i))\n",
    "    gu_sum += cnt\n",
    "print(\"=\"*15)\n",
    "#대전광역시 동구 동구청로 중복\n",
    "print(\"전체\",\":\",gu_sum)"
   ]
  },
  {
   "cell_type": "code",
   "execution_count": 33,
   "id": "feabab23",
   "metadata": {},
   "outputs": [
    {
     "data": {
      "text/plain": [
       "'유성구'"
      ]
     },
     "execution_count": 33,
     "metadata": {},
     "output_type": "execute_result"
    }
   ],
   "source": [
    "### 예제3\n",
    "#주소에서 구만 저장\n",
    "data[0].split(\" \")\n",
    "addr_split=data[3].split()\n",
    "addr_split[1]"
   ]
  },
  {
   "cell_type": "code",
   "execution_count": 5,
   "id": "82e96906",
   "metadata": {},
   "outputs": [],
   "source": [
    "gu = []\n",
    "i = 0\n",
    "for i in range(len(data)):\n",
    "    addr_split = data[i].split()\n",
    "    gu.append(addr_split[1])"
   ]
  },
  {
   "cell_type": "code",
   "execution_count": 6,
   "id": "1eb934fa",
   "metadata": {},
   "outputs": [],
   "source": [
    "addr = \"\"\n",
    "for line in gu:\n",
    "    addr = addr + line.strip() + \",\""
   ]
  },
  {
   "cell_type": "code",
   "execution_count": 7,
   "id": "66997ad5",
   "metadata": {},
   "outputs": [
    {
     "name": "stdout",
     "output_type": "stream",
     "text": [
      "동구 : 55\n",
      "중구 : 62\n",
      "서구 : 100\n",
      "유성구 : 105\n",
      "대덕구 : 47\n",
      "===============\n",
      "전체 : 369\n"
     ]
    }
   ],
   "source": [
    "gu_list = ['동구','중구','서구','유성구','대덕구']\n",
    "gu_sum = 0\n",
    "for i in gu_list:\n",
    "    cnt = addr.count(i)\n",
    "    print(i,\":\",addr.count(i))\n",
    "    gu_sum += cnt\n",
    "print(\"=\"*15)\n",
    "print(\"전체\",\":\",gu_sum)"
   ]
  },
  {
   "cell_type": "code",
   "execution_count": 44,
   "id": "06c70b5b",
   "metadata": {},
   "outputs": [],
   "source": [
    "## 예제4\n",
    "# 구를 저장한 gu 리스트에서 중복 제거\n",
    "gu_unique = []\n",
    "for i in gu:\n",
    "    if i not in gu_unique:\n",
    "        gu_unique.append(i)"
   ]
  },
  {
   "cell_type": "code",
   "execution_count": 45,
   "id": "55e0bf7a",
   "metadata": {},
   "outputs": [
    {
     "data": {
      "text/plain": [
       "['중구', '유성구', '동구', '서구', '대덕구']"
      ]
     },
     "execution_count": 45,
     "metadata": {},
     "output_type": "execute_result"
    }
   ],
   "source": [
    "gu_unique"
   ]
  },
  {
   "cell_type": "code",
   "execution_count": 46,
   "id": "f00fd9d3",
   "metadata": {},
   "outputs": [],
   "source": [
    "def fn_unique(x):\n",
    "    x_unique = []\n",
    "    for i in x:\n",
    "        if i not in x_unique:\n",
    "            x_unique.append(i)\n",
    "    return x_unique"
   ]
  },
  {
   "cell_type": "code",
   "execution_count": 49,
   "id": "79ecc02d",
   "metadata": {},
   "outputs": [
    {
     "data": {
      "text/plain": [
       "['중구', '유성구', '동구', '서구', '대덕구']"
      ]
     },
     "execution_count": 49,
     "metadata": {},
     "output_type": "execute_result"
    }
   ],
   "source": [
    "u = fn_unique(gu)\n",
    "u"
   ]
  },
  {
   "cell_type": "markdown",
   "id": "5e2a96d4",
   "metadata": {},
   "source": [
    "## 문자열 서식 지정"
   ]
  },
  {
   "cell_type": "code",
   "execution_count": null,
   "id": "20345386",
   "metadata": {},
   "outputs": [],
   "source": []
  }
 ],
 "metadata": {
  "kernelspec": {
   "display_name": "Python 3",
   "language": "python",
   "name": "python3"
  },
  "language_info": {
   "codemirror_mode": {
    "name": "ipython",
    "version": 3
   },
   "file_extension": ".py",
   "mimetype": "text/x-python",
   "name": "python",
   "nbconvert_exporter": "python",
   "pygments_lexer": "ipython3",
   "version": "3.8.8"
  }
 },
 "nbformat": 4,
 "nbformat_minor": 5
}
