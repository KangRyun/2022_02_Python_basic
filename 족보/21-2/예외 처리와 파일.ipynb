{
 "cells": [
  {
   "cell_type": "markdown",
   "id": "4cc3ad86",
   "metadata": {},
   "source": [
    "## 예외 처리"
   ]
  },
  {
   "cell_type": "markdown",
   "id": "49a3c66d",
   "metadata": {},
   "source": [
    "예외 처리 구문  : try - except 문"
   ]
  },
  {
   "cell_type": "code",
   "execution_count": 1,
   "id": "c682fa1b",
   "metadata": {},
   "outputs": [
    {
     "name": "stdout",
     "output_type": "stream",
     "text": [
      "Not divided by 0\n",
      "10.0\n",
      "5.0\n",
      "3.3333333333333335\n",
      "2.5\n",
      "2.0\n",
      "1.6666666666666667\n",
      "1.4285714285714286\n",
      "1.25\n",
      "1.1111111111111112\n"
     ]
    }
   ],
   "source": [
    "#코드 12-1\n",
    "for i in range(10):\n",
    "    try:\n",
    "        print(10/i)\n",
    "    except ZeroDivisionError:\n",
    "        print(\"Not divided by 0\")"
   ]
  },
  {
   "cell_type": "markdown",
   "id": "6fc8ad72",
   "metadata": {},
   "source": [
    "예외 처리 구문  : try - except - else 문"
   ]
  },
  {
   "cell_type": "markdown",
   "id": "96b91b40",
   "metadata": {},
   "source": [
    "예외 처리 구문  : try - except - finally 문"
   ]
  },
  {
   "cell_type": "markdown",
   "id": "9f812c5c",
   "metadata": {},
   "source": [
    "예외 처리 구문  : raise 문"
   ]
  },
  {
   "cell_type": "markdown",
   "id": "f2f2c111",
   "metadata": {},
   "source": [
    "예외 처리 구문  : assert 문"
   ]
  },
  {
   "cell_type": "markdown",
   "id": "bfeff4b7",
   "metadata": {},
   "source": [
    "## 파일 다루기"
   ]
  },
  {
   "cell_type": "code",
   "execution_count": 2,
   "id": "0b442e93",
   "metadata": {},
   "outputs": [
    {
     "name": "stdout",
     "output_type": "stream",
     "text": [
      "I have a dream a song to sing\n",
      "to help me cope with anything\n",
      "if you see the wonder of a fairy tale\n",
      "you can take the future even\n",
      "if you fail I believe in angels\n",
      "something good in everything\n",
      "\n"
     ]
    }
   ],
   "source": [
    "###코드 12-7\n",
    "f = open(\"dream.txt\",\"r\")\n",
    "contents = f.read()\n",
    "print(contents)\n",
    "f.close()"
   ]
  },
  {
   "cell_type": "code",
   "execution_count": 4,
   "id": "f839474b",
   "metadata": {},
   "outputs": [
    {
     "name": "stdout",
     "output_type": "stream",
     "text": [
      "<class 'str'>\n",
      "I have a dream a song to sing\n",
      "to help me cope with anything\n",
      "if you see the wonder of a fairy tale\n",
      "you can take the future even\n",
      "if you fail I believe in angels\n",
      "something good in everything\n",
      "\n"
     ]
    }
   ],
   "source": [
    "###코드 12-8\n",
    "with open(\"dream.txt\",\"r\") as my_file:\n",
    "    contents_list = my_file.read()\n",
    "    print(type(contents_list))\n",
    "    print(contents_list)"
   ]
  },
  {
   "cell_type": "code",
   "execution_count": 5,
   "id": "14ed1aaf",
   "metadata": {},
   "outputs": [
    {
     "name": "stdout",
     "output_type": "stream",
     "text": [
      "<class 'list'>\n",
      "['I have a dream a song to sing\\n', 'to help me cope with anything\\n', 'if you see the wonder of a fairy tale\\n', 'you can take the future even\\n', 'if you fail I believe in angels\\n', 'something good in everything\\n']\n"
     ]
    }
   ],
   "source": [
    "###코드 12-9\n",
    "with open(\"dream.txt\",\"r\") as my_file:\n",
    "    contents_list = my_file.readlines()\n",
    "    print(type(contents_list))\n",
    "    print(contents_list)"
   ]
  },
  {
   "cell_type": "code",
   "execution_count": 6,
   "id": "709c9bbf",
   "metadata": {},
   "outputs": [
    {
     "name": "stdout",
     "output_type": "stream",
     "text": [
      "0===I have a dream a song to sing\n",
      "1===to help me cope with anything\n",
      "2===if you see the wonder of a fairy tale\n",
      "3===you can take the future even\n",
      "4===if you fail I believe in angels\n",
      "5===something good in everything\n"
     ]
    }
   ],
   "source": [
    "###코드 12-10\n",
    "with open(\"dream.txt\",\"r\") as my_file:\n",
    "    i=0\n",
    "    while 1:\n",
    "        line = my_file.readline()\n",
    "        if not line:\n",
    "            break\n",
    "        print(str(i)+\"===\"+line.replace(\"\\n\",\"\"))\n",
    "        i = i+1"
   ]
  },
  {
   "cell_type": "code",
   "execution_count": 8,
   "id": "f826e1ee",
   "metadata": {},
   "outputs": [
    {
     "name": "stdout",
     "output_type": "stream",
     "text": [
      "총 글자의 수: 188\n",
      "총 단어의 수: 35\n",
      "총 줄의 수: 7\n"
     ]
    }
   ],
   "source": [
    "###코드 12-11\n",
    "with open(\"dream.txt\",\"r\") as my_file:\n",
    "    contents = my_file.read()\n",
    "    word_list = contents.split(\" \")\n",
    "    line_list = contents.split(\"\\n\")\n",
    "\n",
    "print(\"총 글자의 수:\", len(contents))\n",
    "print(\"총 단어의 수:\", len(word_list))\n",
    "print(\"총 줄의 수:\", len(line_list))"
   ]
  },
  {
   "cell_type": "code",
   "execution_count": 8,
   "id": "267162f2",
   "metadata": {},
   "outputs": [
    {
     "data": {
      "text/plain": [
       "<function TextIOWrapper.close()>"
      ]
     },
     "execution_count": 8,
     "metadata": {},
     "output_type": "execute_result"
    }
   ],
   "source": [
    "###코드 12-12\n",
    "f = open('count_log.txt','w',encoding = \"utf8\")\n",
    "for i in range(1,11):\n",
    "    data = \"%d번째 줄이다.\\n\"%(i+100)\n",
    "    f.write(data)\n",
    "f.close"
   ]
  },
  {
   "cell_type": "code",
   "execution_count": 9,
   "id": "1e475e97",
   "metadata": {},
   "outputs": [],
   "source": [
    "###코드 12-13\n",
    "with open('count_log.txt','a',encoding = \"utf8\") as f:\n",
    "    for i in range(1,11):\n",
    "        data = \"%d번째 줄이다.\\n\"%i\n",
    "        f.write(data)"
   ]
  },
  {
   "cell_type": "code",
   "execution_count": 10,
   "id": "2af4d9ec",
   "metadata": {},
   "outputs": [],
   "source": [
    "###코드 12-14\n",
    "import os\n",
    "os.mkdir(\"log\")"
   ]
  },
  {
   "cell_type": "code",
   "execution_count": 11,
   "id": "7008b4ca",
   "metadata": {},
   "outputs": [
    {
     "data": {
      "text/plain": [
       "True"
      ]
     },
     "execution_count": 11,
     "metadata": {},
     "output_type": "execute_result"
    }
   ],
   "source": [
    "#폴더가 있는지 확인 유무\n",
    "os.path.isdir(\"log\")"
   ]
  },
  {
   "cell_type": "code",
   "execution_count": 14,
   "id": "ca4b0459",
   "metadata": {},
   "outputs": [],
   "source": [
    "###코드 12-15\n",
    "if not os.path.isdir(\"log\"):\n",
    "    os.mkdir(\"log\")"
   ]
  }
 ],
 "metadata": {
  "kernelspec": {
   "display_name": "Python 3",
   "language": "python",
   "name": "python3"
  },
  "language_info": {
   "codemirror_mode": {
    "name": "ipython",
    "version": 3
   },
   "file_extension": ".py",
   "mimetype": "text/x-python",
   "name": "python",
   "nbconvert_exporter": "python",
   "pygments_lexer": "ipython3",
   "version": "3.8.8"
  }
 },
 "nbformat": 4,
 "nbformat_minor": 5
}
