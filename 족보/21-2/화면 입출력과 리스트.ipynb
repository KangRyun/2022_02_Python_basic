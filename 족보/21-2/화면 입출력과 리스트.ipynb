{
 "cells": [
  {
   "cell_type": "markdown",
   "id": "371849e7",
   "metadata": {},
   "source": [
    "# 01파이썬 프로그래밍 환경_0914"
   ]
  },
  {
   "cell_type": "markdown",
   "id": "12a8fcba",
   "metadata": {},
   "source": [
    "컴퓨터에 명령을 입력할 때 사용하는 환경을 사용자 인터페이스(user interface)라고 한다.\n",
    "사용자 인터페이스 (GUI, CLI)"
   ]
  },
  {
   "cell_type": "markdown",
   "id": "9e34267e",
   "metadata": {},
   "source": [
    "# 02화면 입출력"
   ]
  },
  {
   "cell_type": "markdown",
   "id": "2c40e5e2",
   "metadata": {},
   "source": [
    "input()함수 : 표준 입력 함수로, 사용자가 문자열로 콘솔 창에 입력할 수 있게 해준다. = 문자"
   ]
  },
  {
   "cell_type": "markdown",
   "id": "636913e3",
   "metadata": {},
   "source": [
    "float() : 문자형을 숫자형으로 변환"
   ]
  },
  {
   "cell_type": "code",
   "execution_count": 11,
   "id": "955eece2",
   "metadata": {
    "scrolled": true
   },
   "outputs": [
    {
     "name": "stdout",
     "output_type": "stream",
     "text": [
      "Enter your name:\n",
      "mingyu\n",
      "Hi mingyu How are you today?\n"
     ]
    }
   ],
   "source": [
    "### Code 3-1 input\n",
    "print(\"Enter your name:\")\n",
    "\n",
    "#콘솔 창에서 입력한 값을 somebody에 저장\n",
    "somebody = input()\n",
    "\n",
    "print(\"Hi\",somebody,\"How are you today?\")"
   ]
  },
  {
   "cell_type": "markdown",
   "id": "3c4ccbba",
   "metadata": {},
   "source": [
    "print()함수:표준 출력 함수로, 결과를 화면에 출력하는 함수이다."
   ]
  },
  {
   "cell_type": "code",
   "execution_count": 14,
   "id": "bb7be94d",
   "metadata": {},
   "outputs": [
    {
     "name": "stdout",
     "output_type": "stream",
     "text": [
      "Hello world! Hello Again!!!\n"
     ]
    }
   ],
   "source": [
    "print(\"Hello world!\",\"Hello Again!!!\")"
   ]
  },
  {
   "cell_type": "code",
   "execution_count": 16,
   "id": "e3c2d2da",
   "metadata": {},
   "outputs": [
    {
     "name": "stdout",
     "output_type": "stream",
     "text": [
      "온도를 입력하세요:12\n",
      "12.0\n"
     ]
    }
   ],
   "source": [
    "### Code 3-2 print\n",
    "temperature = float(input(\"온도를 입력하세요:\"))\n",
    "print(temperature)"
   ]
  },
  {
   "cell_type": "markdown",
   "id": "3c0c5e4b",
   "metadata": {},
   "source": [
    "# 03Lab: 화씨온도 변환기_0916"
   ]
  },
  {
   "cell_type": "code",
   "execution_count": 4,
   "id": "a3ce81e7",
   "metadata": {},
   "outputs": [
    {
     "name": "stdout",
     "output_type": "stream",
     "text": [
      "본 프로그램은 섭씨온도를 화씨온도로 변환하는 프로그램입니다.\n",
      "변환하고 싶은 섭씨온도를 입력하세요.\n",
      "32.2\n",
      "섭씨온도: 32.2\n",
      "화씨온도: 89.96000000000001\n"
     ]
    }
   ],
   "source": [
    "### Code 3-3 fa\n",
    "print(\"본 프로그램은 섭씨온도를 화씨온도로 변환하는 프로그램입니다.\")\n",
    "print(\"변환하고 싶은 섭씨온도를 입력하세요.\")\n",
    "\n",
    "celsius=input()\n",
    "fahrenheit=(float(celsius)*1.8)+32\n",
    "\n",
    "print(\"섭씨온도:\",celsius)\n",
    "print(\"화씨온도:\",fahrenheit)"
   ]
  },
  {
   "cell_type": "markdown",
   "id": "73e4ab07",
   "metadata": {},
   "source": [
    "# 04리스트의 이해"
   ]
  },
  {
   "cell_type": "markdown",
   "id": "0424cf00",
   "metadata": {},
   "source": [
    "list : 하나의 변수에 여러 값을 할당하는 자료형이다."
   ]
  },
  {
   "cell_type": "markdown",
   "id": "9f7e1fb0",
   "metadata": {},
   "source": [
    "인덱싱:리스트에 있는 값에 접근하기 위해, 이 값의 상대적인 주소를 사용하는 것이다."
   ]
  },
  {
   "cell_type": "markdown",
   "id": "21a7f3ae",
   "metadata": {},
   "source": [
    "list의 값은 0부터 시작"
   ]
  },
  {
   "cell_type": "code",
   "execution_count": 1,
   "id": "5c420f65",
   "metadata": {},
   "outputs": [
    {
     "name": "stdout",
     "output_type": "stream",
     "text": [
      "red\n",
      "green\n",
      "3\n"
     ]
    }
   ],
   "source": [
    "### Code 3-4\n",
    "colors=['red','blue','green']\n",
    "print(colors[0])\n",
    "print(colors[2])\n",
    "print(len(colors))"
   ]
  },
  {
   "cell_type": "code",
   "execution_count": 6,
   "id": "323cfc38",
   "metadata": {},
   "outputs": [
    {
     "data": {
      "text/plain": [
       "['서울', '부산', '인천', '대구', '대전', '광주']"
      ]
     },
     "execution_count": 6,
     "metadata": {},
     "output_type": "execute_result"
    }
   ],
   "source": [
    "### Code 3-5 리스트의 인덱싱\n",
    "#마지막 인덱스 -1까지만 출력\n",
    "cities = ['서울','부산','인천','대구','대전','광주','울산','수원']\n",
    "cities[0:6]"
   ]
  },
  {
   "cell_type": "code",
   "execution_count": 7,
   "id": "a30d75a3",
   "metadata": {},
   "outputs": [
    {
     "data": {
      "text/plain": [
       "['서울', '부산', '인천', '대구', '대전']"
      ]
     },
     "execution_count": 7,
     "metadata": {},
     "output_type": "execute_result"
    }
   ],
   "source": [
    "cities[0:5]"
   ]
  },
  {
   "cell_type": "code",
   "execution_count": 8,
   "id": "3e4c7d8f",
   "metadata": {},
   "outputs": [
    {
     "data": {
      "text/plain": [
       "['광주', '울산', '수원']"
      ]
     },
     "execution_count": 8,
     "metadata": {},
     "output_type": "execute_result"
    }
   ],
   "source": [
    "cities[5:]"
   ]
  },
  {
   "cell_type": "code",
   "execution_count": 9,
   "id": "876cfa51",
   "metadata": {},
   "outputs": [
    {
     "name": "stdout",
     "output_type": "stream",
     "text": [
      "['서울', '부산', '인천', '대구', '대전', '광주', '울산', '수원']\n"
     ]
    }
   ],
   "source": [
    "#리버스인덱스\n",
    "cities = ['서울','부산','인천','대구','대전','광주','울산','수원']\n",
    "print(cities[-8:])"
   ]
  },
  {
   "cell_type": "code",
   "execution_count": 13,
   "id": "ff7a82e5",
   "metadata": {},
   "outputs": [
    {
     "name": "stdout",
     "output_type": "stream",
     "text": [
      "['서울', '부산', '인천', '대구', '대전', '광주', '울산', '수원']\n"
     ]
    }
   ],
   "source": [
    "#전체\n",
    "print(cities[:])"
   ]
  },
  {
   "cell_type": "code",
   "execution_count": 14,
   "id": "4e94bcbc",
   "metadata": {},
   "outputs": [
    {
     "name": "stdout",
     "output_type": "stream",
     "text": [
      "['서울', '부산', '인천', '대구', '대전', '광주', '울산', '수원']\n"
     ]
    }
   ],
   "source": [
    "#자동으로 최대 범위를 지정\n",
    "print(cities[-50:50])"
   ]
  },
  {
   "cell_type": "code",
   "execution_count": 15,
   "id": "b0d0227a",
   "metadata": {},
   "outputs": [
    {
     "data": {
      "text/plain": [
       "['서울', '인천', '대전', '울산']"
      ]
     },
     "execution_count": 15,
     "metadata": {},
     "output_type": "execute_result"
    }
   ],
   "source": [
    "#증가값\n",
    "#변수명[시작 인덱스:마지막 인덱스:증가값]\n",
    "cities[::2]"
   ]
  },
  {
   "cell_type": "code",
   "execution_count": 17,
   "id": "6cc1861a",
   "metadata": {},
   "outputs": [
    {
     "data": {
      "text/plain": [
       "['수원', '울산', '광주', '대전', '대구', '인천', '부산', '서울']"
      ]
     },
     "execution_count": 17,
     "metadata": {},
     "output_type": "execute_result"
    }
   ],
   "source": [
    "#역순으로\n",
    "cities[::-1]"
   ]
  },
  {
   "cell_type": "markdown",
   "id": "0790583b",
   "metadata": {},
   "source": [
    "리스트의 연산"
   ]
  },
  {
   "cell_type": "code",
   "execution_count": 19,
   "id": "014f193c",
   "metadata": {},
   "outputs": [
    {
     "name": "stdout",
     "output_type": "stream",
     "text": [
      "['red', 'blue', 'green', 'orange', 'black', 'white']\n"
     ]
    }
   ],
   "source": [
    "#리스트의 덧셈 연산\n",
    "color1=['red','blue','green']\n",
    "color2=['orange','black','white']\n",
    "print(color1+color2)"
   ]
  },
  {
   "cell_type": "code",
   "execution_count": 20,
   "id": "a0caf799",
   "metadata": {},
   "outputs": [
    {
     "data": {
      "text/plain": [
       "3"
      ]
     },
     "execution_count": 20,
     "metadata": {},
     "output_type": "execute_result"
    }
   ],
   "source": [
    "len(color1)"
   ]
  },
  {
   "cell_type": "code",
   "execution_count": 23,
   "id": "8c107e34",
   "metadata": {},
   "outputs": [
    {
     "data": {
      "text/plain": [
       "['red', 'blue', 'green', 'orange', 'black', 'white']"
      ]
     },
     "execution_count": 23,
     "metadata": {},
     "output_type": "execute_result"
    }
   ],
   "source": [
    "total_color=color1+color2\n",
    "total_color"
   ]
  },
  {
   "cell_type": "code",
   "execution_count": 24,
   "id": "55f68934",
   "metadata": {},
   "outputs": [
    {
     "data": {
      "text/plain": [
       "6"
      ]
     },
     "execution_count": 24,
     "metadata": {},
     "output_type": "execute_result"
    }
   ],
   "source": [
    "len(total_color)"
   ]
  },
  {
   "cell_type": "code",
   "execution_count": 25,
   "id": "291ac500",
   "metadata": {},
   "outputs": [
    {
     "data": {
      "text/plain": [
       "['red', 'blue', 'green', 'red', 'blue', 'green']"
      ]
     },
     "execution_count": 25,
     "metadata": {},
     "output_type": "execute_result"
    }
   ],
   "source": [
    "#리스트의 곱셈 연산\n",
    "#color 리스트 반복\n",
    "color1*2"
   ]
  },
  {
   "cell_type": "code",
   "execution_count": 26,
   "id": "411a5cd7",
   "metadata": {},
   "outputs": [
    {
     "data": {
      "text/plain": [
       "False"
      ]
     },
     "execution_count": 26,
     "metadata": {},
     "output_type": "execute_result"
    }
   ],
   "source": [
    "#in연산\n",
    "#포함 여부를 확인하는 연산\n",
    "'blue' in color2"
   ]
  },
  {
   "cell_type": "code",
   "execution_count": 27,
   "id": "d073633c",
   "metadata": {},
   "outputs": [
    {
     "data": {
      "text/plain": [
       "True"
      ]
     },
     "execution_count": 27,
     "metadata": {},
     "output_type": "execute_result"
    }
   ],
   "source": [
    "'blue' in color1"
   ]
  },
  {
   "cell_type": "markdown",
   "id": "7414f519",
   "metadata": {},
   "source": [
    "리스트 추가 및 삭제"
   ]
  },
  {
   "cell_type": "code",
   "execution_count": 31,
   "id": "50d52906",
   "metadata": {},
   "outputs": [
    {
     "data": {
      "text/plain": [
       "['red', 'blue', 'green', 'white']"
      ]
     },
     "execution_count": 31,
     "metadata": {},
     "output_type": "execute_result"
    }
   ],
   "source": [
    "#append 리스트 맨 끝에 인덱스에 새로운 값을 추가\n",
    "color=['red','blue','green']\n",
    "color.append('white')\n",
    "color"
   ]
  },
  {
   "cell_type": "code",
   "execution_count": 29,
   "id": "9111283d",
   "metadata": {},
   "outputs": [
    {
     "data": {
      "text/plain": [
       "['red', 'blue', 'green', 'black', 'white']"
      ]
     },
     "execution_count": 29,
     "metadata": {},
     "output_type": "execute_result"
    }
   ],
   "source": [
    "#extend 값을 추가하는 것이 아닌 기존 리스트에 그대로 새로운 리스트를 합치는 기능\n",
    "color=['red','blue','green']\n",
    "color.extend(['black','white'])\n",
    "color"
   ]
  },
  {
   "cell_type": "code",
   "execution_count": 33,
   "id": "ea33f5e8",
   "metadata": {},
   "outputs": [
    {
     "data": {
      "text/plain": [
       "['orange', 'red', 'blue', 'green']"
      ]
     },
     "execution_count": 33,
     "metadata": {},
     "output_type": "execute_result"
    }
   ],
   "source": [
    "#insert 특정 위치에 값을 추가\n",
    "color = ['red','blue','green']\n",
    "color.insert(0,'orange')\n",
    "color"
   ]
  },
  {
   "cell_type": "code",
   "execution_count": 34,
   "id": "45880f70",
   "metadata": {},
   "outputs": [
    {
     "data": {
      "text/plain": [
       "['orange', 'blue', 'green']"
      ]
     },
     "execution_count": 34,
     "metadata": {},
     "output_type": "execute_result"
    }
   ],
   "source": [
    "#remove 리스트에 있는 특정 값을 지우는 기능\n",
    "color\n",
    "color.remove('red')\n",
    "color"
   ]
  },
  {
   "cell_type": "code",
   "execution_count": 35,
   "id": "6f573692",
   "metadata": {},
   "outputs": [
    {
     "data": {
      "text/plain": [
       "['orange', 'blue', 'green']"
      ]
     },
     "execution_count": 35,
     "metadata": {},
     "output_type": "execute_result"
    }
   ],
   "source": [
    "#인덱스의 재할당과 삭제\n",
    "color = ['red','blue','green']\n",
    "color[0]='orange'\n",
    "color"
   ]
  },
  {
   "cell_type": "code",
   "execution_count": 36,
   "id": "a665f8ee",
   "metadata": {},
   "outputs": [
    {
     "data": {
      "text/plain": [
       "['blue', 'green']"
      ]
     },
     "execution_count": 36,
     "metadata": {},
     "output_type": "execute_result"
    }
   ],
   "source": [
    "#특정 인덱스 값 삭제\n",
    "del color[0]\n",
    "color"
   ]
  },
  {
   "cell_type": "code",
   "execution_count": 1,
   "id": "436f1cb0",
   "metadata": {},
   "outputs": [
    {
     "name": "stdout",
     "output_type": "stream",
     "text": [
      "[1, 2, 3] 1 2 3\n"
     ]
    }
   ],
   "source": [
    "#패킹 : 한 변수에 여러 개의 데이터를 할당하는 것\n",
    "#언패킹 : 한 변수의 데이터를 각각의 변수로 반환하는 것\n",
    "t=[1,2,3]\n",
    "a,b,c = t\n",
    "print(t,a,b,c)"
   ]
  },
  {
   "cell_type": "code",
   "execution_count": 3,
   "id": "1461f341",
   "metadata": {},
   "outputs": [
    {
     "data": {
      "text/plain": [
       "[[49, 79, 20, 100, 80], [43, 59, 85, 30, 90], [49, 79, 48, 60, 100]]"
      ]
     },
     "execution_count": 3,
     "metadata": {},
     "output_type": "execute_result"
    }
   ],
   "source": [
    "kor_score=[49,79,20,100,80]\n",
    "math_score=[43,59,85,30,90]\n",
    "eng_score=[49,79,48,60,100]\n",
    "midterm_score=[kor_score,math_score,eng_score]\n",
    "midterm_score"
   ]
  },
  {
   "cell_type": "code",
   "execution_count": 4,
   "id": "bd982575",
   "metadata": {},
   "outputs": [
    {
     "name": "stdout",
     "output_type": "stream",
     "text": [
      "20\n"
     ]
    }
   ],
   "source": [
    "#이차원 리스트에 인덱싱하여 값을 접근하기 위해서는 대괄호 2개를 사용\n",
    "print(midterm_score[0][2])"
   ]
  },
  {
   "cell_type": "markdown",
   "id": "309a5544",
   "metadata": {},
   "source": [
    "## 05리스트의 메모리 관리 방식"
   ]
  },
  {
   "cell_type": "code",
   "execution_count": 5,
   "id": "dc73d3f1",
   "metadata": {},
   "outputs": [
    {
     "data": {
      "text/plain": [
       "[[49, 79, 20, 100, 80], [43, 59, 85, 30, 90], [49, 79, 48, 60, 100]]"
      ]
     },
     "execution_count": 5,
     "metadata": {},
     "output_type": "execute_result"
    }
   ],
   "source": [
    "kor_score=[49,79,20,100,80]\n",
    "math_score=[43,59,85,30,90]\n",
    "eng_score=[49,79,48,60,100]\n",
    "midterm_score=[kor_score,math_score,eng_score]\n",
    "midterm_score"
   ]
  },
  {
   "cell_type": "code",
   "execution_count": 6,
   "id": "73e17152",
   "metadata": {},
   "outputs": [
    {
     "data": {
      "text/plain": [
       "[[49, 79, 20, 100, 80], [1000, 59, 85, 30, 90], [49, 79, 48, 60, 100]]"
      ]
     },
     "execution_count": 6,
     "metadata": {},
     "output_type": "execute_result"
    }
   ],
   "source": [
    "#주소를 저장하는 방식으로 바뀐다.\n",
    "math_score[0]=1000\n",
    "midterm_score"
   ]
  },
  {
   "cell_type": "code",
   "execution_count": 7,
   "id": "a2c1245d",
   "metadata": {},
   "outputs": [
    {
     "data": {
      "text/plain": [
       "False"
      ]
     },
     "execution_count": 7,
     "metadata": {},
     "output_type": "execute_result"
    }
   ],
   "source": [
    "# ==은 값을 비교하는 연산, is 메모리의 주소를 비교하는 연산\n",
    "a=300\n",
    "b=300\n",
    "a is b"
   ]
  },
  {
   "cell_type": "code",
   "execution_count": 8,
   "id": "5f68d3aa",
   "metadata": {},
   "outputs": [
    {
     "data": {
      "text/plain": [
       "True"
      ]
     },
     "execution_count": 8,
     "metadata": {},
     "output_type": "execute_result"
    }
   ],
   "source": [
    "a==b"
   ]
  },
  {
   "cell_type": "code",
   "execution_count": 9,
   "id": "1b6a7620",
   "metadata": {},
   "outputs": [
    {
     "data": {
      "text/plain": [
       "True"
      ]
     },
     "execution_count": 9,
     "metadata": {},
     "output_type": "execute_result"
    }
   ],
   "source": [
    "#파이썬은 인터프리터가 구동될 떄, -5부터 256까지의 정수값을 특정 메모리 주소를 저장\n",
    "a=1\n",
    "b=1\n",
    "a is b"
   ]
  },
  {
   "cell_type": "code",
   "execution_count": 10,
   "id": "c78beec1",
   "metadata": {},
   "outputs": [
    {
     "data": {
      "text/plain": [
       "True"
      ]
     },
     "execution_count": 10,
     "metadata": {},
     "output_type": "execute_result"
    }
   ],
   "source": [
    "a==b"
   ]
  },
  {
   "cell_type": "code",
   "execution_count": 11,
   "id": "4250830e",
   "metadata": {},
   "outputs": [],
   "source": [
    "a=[\"color\",1,0.2]"
   ]
  },
  {
   "cell_type": "code",
   "execution_count": 12,
   "id": "b390c44e",
   "metadata": {},
   "outputs": [
    {
     "name": "stdout",
     "output_type": "stream",
     "text": [
      "[['yellow', 'blue', 'green', 'black', 'purple'], 1, 0.2]\n"
     ]
    }
   ],
   "source": [
    "#리스트 안에 리스트 입력\n",
    "color=['yellow','blue','green','black','purple']\n",
    "a[0]=color\n",
    "print(a)"
   ]
  },
  {
   "cell_type": "code",
   "execution_count": 15,
   "id": "e23feab5",
   "metadata": {},
   "outputs": [
    {
     "name": "stdout",
     "output_type": "stream",
     "text": [
      "[5, 4, 3, 2, 1]\n"
     ]
    }
   ],
   "source": [
    "a=[5,4,3,2,1]\n",
    "b=[1,2,3,4,5]\n",
    "b=a\n",
    "print(b)"
   ]
  },
  {
   "cell_type": "code",
   "execution_count": 17,
   "id": "7133e583",
   "metadata": {},
   "outputs": [
    {
     "name": "stdout",
     "output_type": "stream",
     "text": [
      "[1, 2, 3, 4, 5]\n"
     ]
    }
   ],
   "source": [
    "#두 변수가 같은 메모리 주소와 연결되어 둘 다 영향을 받는다\n",
    "a.sort()\n",
    "print(b)"
   ]
  },
  {
   "cell_type": "code",
   "execution_count": 18,
   "id": "014ed35b",
   "metadata": {},
   "outputs": [
    {
     "name": "stdout",
     "output_type": "stream",
     "text": [
      "[1, 2, 3, 4, 5] [6, 7, 8, 9, 10]\n"
     ]
    }
   ],
   "source": [
    "b=[6,7,8,9,10]\n",
    "print(a,b)"
   ]
  },
  {
   "cell_type": "code",
   "execution_count": null,
   "id": "4d21e493",
   "metadata": {},
   "outputs": [],
   "source": []
  }
 ],
 "metadata": {
  "kernelspec": {
   "display_name": "Python 3",
   "language": "python",
   "name": "python3"
  },
  "language_info": {
   "codemirror_mode": {
    "name": "ipython",
    "version": 3
   },
   "file_extension": ".py",
   "mimetype": "text/x-python",
   "name": "python",
   "nbconvert_exporter": "python",
   "pygments_lexer": "ipython3",
   "version": "3.8.8"
  }
 },
 "nbformat": 4,
 "nbformat_minor": 5
}
