{
 "cells": [
  {
   "cell_type": "markdown",
   "id": "0c5eec87",
   "metadata": {},
   "source": [
    "# 객체 지향 프로그래밍의 이해"
   ]
  },
  {
   "cell_type": "markdown",
   "id": "aab3a28b",
   "metadata": {},
   "source": [
    "객체 지향 프로그래밍(Object Oriented Programming, OOP)은 함수처럼 어떤 기능을 함수 코드에 묶어 두는 것이 아니라, 그런 기능을 묶은 하나의 단일 프로그래밈을 객체라고 하는 코드에 넣어 다른 프로그래머가 재사용할 수 있도록 하는, 컴퓨터 공학의 오래된 프로그래밍 기법 중 하나다."
   ]
  },
  {
   "cell_type": "code",
   "execution_count": null,
   "id": "009921df",
   "metadata": {},
   "outputs": [],
   "source": [
    "# 클래스(class) : 객체가 가져야 할 기본 정보를 담은 코드이다.\n",
    "# 클래스 구현하기\n",
    "# 속성의 선언\n",
    "# 함수의 선언\n",
    "# _의 쓰임"
   ]
  },
  {
   "cell_type": "markdown",
   "id": "b8353ebb",
   "metadata": {},
   "source": [
    "# 파이썬의 객체 지향 프로그래밍"
   ]
  },
  {
   "cell_type": "markdown",
   "id": "5e846914",
   "metadata": {},
   "source": [
    "# Lab : 노트북 프로그램 만들기"
   ]
  },
  {
   "cell_type": "markdown",
   "id": "38287d40",
   "metadata": {},
   "source": [
    "# 객체 지향 프로그래밍의 특징"
   ]
  }
 ],
 "metadata": {
  "kernelspec": {
   "display_name": "Python 3",
   "language": "python",
   "name": "python3"
  },
  "language_info": {
   "codemirror_mode": {
    "name": "ipython",
    "version": 3
   },
   "file_extension": ".py",
   "mimetype": "text/x-python",
   "name": "python",
   "nbconvert_exporter": "python",
   "pygments_lexer": "ipython3",
   "version": "3.8.8"
  }
 },
 "nbformat": 4,
 "nbformat_minor": 5
}
