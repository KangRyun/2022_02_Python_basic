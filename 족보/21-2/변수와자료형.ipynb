{
 "cells": [
  {
   "cell_type": "markdown",
   "id": "5408035f",
   "metadata": {},
   "source": [
    "# 01변수의 이해_0909"
   ]
  },
  {
   "cell_type": "markdown",
   "id": "f33da999",
   "metadata": {},
   "source": [
    "프로그래밍에서 변수는 어떠한 값을 저장하는 장소라는 뜻\n",
    "변수에 값이 저장되는 공간을 메모리"
   ]
  },
  {
   "cell_type": "code",
   "execution_count": 2,
   "id": "7bb08c14",
   "metadata": {},
   "outputs": [],
   "source": [
    "professor =\"Sungchul Choi\""
   ]
  },
  {
   "cell_type": "code",
   "execution_count": 3,
   "id": "5a7ba0f8",
   "metadata": {},
   "outputs": [
    {
     "name": "stdout",
     "output_type": "stream",
     "text": [
      "Sungchul Choi\n"
     ]
    }
   ],
   "source": [
    "print(professor)"
   ]
  },
  {
   "cell_type": "code",
   "execution_count": 4,
   "id": "d1701852",
   "metadata": {},
   "outputs": [],
   "source": [
    "a=7"
   ]
  },
  {
   "cell_type": "code",
   "execution_count": 5,
   "id": "21988de7",
   "metadata": {},
   "outputs": [],
   "source": [
    "b=5"
   ]
  },
  {
   "cell_type": "code",
   "execution_count": 6,
   "id": "c7554c83",
   "metadata": {},
   "outputs": [
    {
     "name": "stdout",
     "output_type": "stream",
     "text": [
      "12\n"
     ]
    }
   ],
   "source": [
    "#a변수에 있는 값과 b변수에 있는 값을 더 해 화면에 출력\n",
    "print(a+b)"
   ]
  },
  {
   "cell_type": "code",
   "execution_count": 8,
   "id": "dd2432ae",
   "metadata": {},
   "outputs": [],
   "source": [
    "a=7"
   ]
  },
  {
   "cell_type": "code",
   "execution_count": 9,
   "id": "85729180",
   "metadata": {},
   "outputs": [],
   "source": [
    "b=5"
   ]
  },
  {
   "cell_type": "code",
   "execution_count": 11,
   "id": "122ac961",
   "metadata": {},
   "outputs": [
    {
     "name": "stdout",
     "output_type": "stream",
     "text": [
      "a+b\n"
     ]
    }
   ],
   "source": [
    "#\"a+b\"의 값을 그대로 화면에 출력\n",
    "print(\"a+b\")"
   ]
  },
  {
   "cell_type": "markdown",
   "id": "def48ace",
   "metadata": {},
   "source": [
    "메모리(Sungchul Choi) 주소(0x0001) 변수(professor)\n",
    "강의실                자리         사람"
   ]
  },
  {
   "cell_type": "code",
   "execution_count": 19,
   "id": "229605eb",
   "metadata": {},
   "outputs": [],
   "source": [
    "a=5"
   ]
  },
  {
   "cell_type": "code",
   "execution_count": 21,
   "id": "5928bc1b",
   "metadata": {},
   "outputs": [],
   "source": [
    "A=7"
   ]
  },
  {
   "cell_type": "code",
   "execution_count": 22,
   "id": "e21b3947",
   "metadata": {},
   "outputs": [
    {
     "data": {
      "text/plain": [
       "7"
      ]
     },
     "execution_count": 22,
     "metadata": {},
     "output_type": "execute_result"
    }
   ],
   "source": [
    "A"
   ]
  },
  {
   "cell_type": "code",
   "execution_count": 23,
   "id": "8d0d26d4",
   "metadata": {},
   "outputs": [
    {
     "data": {
      "text/plain": [
       "5"
      ]
     },
     "execution_count": 23,
     "metadata": {},
     "output_type": "execute_result"
    }
   ],
   "source": [
    "a"
   ]
  },
  {
   "cell_type": "code",
   "execution_count": 24,
   "id": "39c65dbc",
   "metadata": {},
   "outputs": [
    {
     "ename": "NameError",
     "evalue": "name 'Professor' is not defined",
     "output_type": "error",
     "traceback": [
      "\u001b[1;31m---------------------------------------------------------------------------\u001b[0m",
      "\u001b[1;31mNameError\u001b[0m                                 Traceback (most recent call last)",
      "\u001b[1;32m<ipython-input-24-d0b62dc0fdbe>\u001b[0m in \u001b[0;36m<module>\u001b[1;34m\u001b[0m\n\u001b[1;32m----> 1\u001b[1;33m \u001b[0mProfessor\u001b[0m\u001b[1;33m\u001b[0m\u001b[1;33m\u001b[0m\u001b[0m\n\u001b[0m",
      "\u001b[1;31mNameError\u001b[0m: name 'Professor' is not defined"
     ]
    }
   ],
   "source": [
    "#대소문자 구별한다.\n",
    "Professor"
   ]
  },
  {
   "cell_type": "code",
   "execution_count": 25,
   "id": "d4c434d7",
   "metadata": {},
   "outputs": [
    {
     "ename": "SyntaxError",
     "evalue": "cannot assign to True (<ipython-input-25-7ef743c05cff>, line 1)",
     "output_type": "error",
     "traceback": [
      "\u001b[1;36m  File \u001b[1;32m\"<ipython-input-25-7ef743c05cff>\"\u001b[1;36m, line \u001b[1;32m1\u001b[0m\n\u001b[1;33m    True = 7\u001b[0m\n\u001b[1;37m    ^\u001b[0m\n\u001b[1;31mSyntaxError\u001b[0m\u001b[1;31m:\u001b[0m cannot assign to True\n"
     ]
    }
   ],
   "source": [
    "#True 의미가 있는 예약어\n",
    "True = 7"
   ]
  },
  {
   "cell_type": "markdown",
   "id": "ba2ebbdb",
   "metadata": {},
   "source": [
    "# 02자료형과 기본 연산_0914"
   ]
  },
  {
   "cell_type": "code",
   "execution_count": 2,
   "id": "f9546054",
   "metadata": {},
   "outputs": [],
   "source": [
    "a=1"
   ]
  },
  {
   "cell_type": "code",
   "execution_count": 3,
   "id": "175e2ec7",
   "metadata": {},
   "outputs": [],
   "source": [
    "b=1"
   ]
  },
  {
   "cell_type": "code",
   "execution_count": 4,
   "id": "6dff1f24",
   "metadata": {},
   "outputs": [
    {
     "name": "stdout",
     "output_type": "stream",
     "text": [
      "1 1\n"
     ]
    }
   ],
   "source": [
    "print(a,b)"
   ]
  },
  {
   "cell_type": "markdown",
   "id": "223cb9fa",
   "metadata": {},
   "source": [
    "실수형"
   ]
  },
  {
   "cell_type": "code",
   "execution_count": 5,
   "id": "7368095a",
   "metadata": {},
   "outputs": [],
   "source": [
    "a=1.5"
   ]
  },
  {
   "cell_type": "code",
   "execution_count": 6,
   "id": "29ea6bdb",
   "metadata": {},
   "outputs": [],
   "source": [
    "b=3.5"
   ]
  },
  {
   "cell_type": "code",
   "execution_count": 7,
   "id": "8b3861bc",
   "metadata": {},
   "outputs": [
    {
     "name": "stdout",
     "output_type": "stream",
     "text": [
      "1.5 3.5\n"
     ]
    }
   ],
   "source": [
    "print(a,b)"
   ]
  },
  {
   "cell_type": "markdown",
   "id": "e6ecf06a",
   "metadata": {},
   "source": [
    "문자형"
   ]
  },
  {
   "cell_type": "code",
   "execution_count": 8,
   "id": "0c55772b",
   "metadata": {},
   "outputs": [],
   "source": [
    "a=\"ABC\""
   ]
  },
  {
   "cell_type": "code",
   "execution_count": 9,
   "id": "6182fd35",
   "metadata": {},
   "outputs": [],
   "source": [
    "b=\"101010\""
   ]
  },
  {
   "cell_type": "code",
   "execution_count": 10,
   "id": "b7545951",
   "metadata": {},
   "outputs": [
    {
     "name": "stdout",
     "output_type": "stream",
     "text": [
      "ABC 101010\n"
     ]
    }
   ],
   "source": [
    "print(a,b)"
   ]
  },
  {
   "cell_type": "markdown",
   "id": "3abe8db4",
   "metadata": {},
   "source": [
    "불린형"
   ]
  },
  {
   "cell_type": "code",
   "execution_count": 14,
   "id": "aa08636c",
   "metadata": {},
   "outputs": [],
   "source": [
    "a=True"
   ]
  },
  {
   "cell_type": "code",
   "execution_count": 12,
   "id": "fea7804a",
   "metadata": {},
   "outputs": [],
   "source": [
    "b=False"
   ]
  },
  {
   "cell_type": "code",
   "execution_count": 13,
   "id": "dd0010a3",
   "metadata": {},
   "outputs": [
    {
     "name": "stdout",
     "output_type": "stream",
     "text": [
      "True False\n"
     ]
    }
   ],
   "source": [
    "print(a,b)"
   ]
  },
  {
   "cell_type": "markdown",
   "id": "d4c2efd9",
   "metadata": {},
   "source": [
    "사칙연산"
   ]
  },
  {
   "cell_type": "code",
   "execution_count": 15,
   "id": "6f235aca",
   "metadata": {},
   "outputs": [
    {
     "data": {
      "text/plain": [
       "55"
      ]
     },
     "execution_count": 15,
     "metadata": {},
     "output_type": "execute_result"
    }
   ],
   "source": [
    "25+30"
   ]
  },
  {
   "cell_type": "code",
   "execution_count": 16,
   "id": "d440ff69",
   "metadata": {},
   "outputs": [
    {
     "data": {
      "text/plain": [
       "18"
      ]
     },
     "execution_count": 16,
     "metadata": {},
     "output_type": "execute_result"
    }
   ],
   "source": [
    "30-12"
   ]
  },
  {
   "cell_type": "code",
   "execution_count": 17,
   "id": "11c31a90",
   "metadata": {},
   "outputs": [
    {
     "data": {
      "text/plain": [
       "150"
      ]
     },
     "execution_count": 17,
     "metadata": {},
     "output_type": "execute_result"
    }
   ],
   "source": [
    "50*3"
   ]
  },
  {
   "cell_type": "code",
   "execution_count": 18,
   "id": "cfb271f8",
   "metadata": {},
   "outputs": [
    {
     "data": {
      "text/plain": [
       "6.0"
      ]
     },
     "execution_count": 18,
     "metadata": {},
     "output_type": "execute_result"
    }
   ],
   "source": [
    "30/5"
   ]
  },
  {
   "cell_type": "code",
   "execution_count": 23,
   "id": "d28f9bea",
   "metadata": {},
   "outputs": [
    {
     "name": "stdout",
     "output_type": "stream",
     "text": [
      "243\n",
      "243\n"
     ]
    }
   ],
   "source": [
    "print(3*3*3*3*3)\n",
    "print(3**5)"
   ]
  },
  {
   "cell_type": "markdown",
   "id": "86636fcb",
   "metadata": {},
   "source": [
    "몫"
   ]
  },
  {
   "cell_type": "code",
   "execution_count": 24,
   "id": "61deff8e",
   "metadata": {},
   "outputs": [
    {
     "name": "stdout",
     "output_type": "stream",
     "text": [
      "3\n"
     ]
    }
   ],
   "source": [
    "print(7//2)"
   ]
  },
  {
   "cell_type": "markdown",
   "id": "bc22da04",
   "metadata": {},
   "source": [
    "나머지"
   ]
  },
  {
   "cell_type": "code",
   "execution_count": 25,
   "id": "c05026fd",
   "metadata": {},
   "outputs": [
    {
     "name": "stdout",
     "output_type": "stream",
     "text": [
      "1\n"
     ]
    }
   ],
   "source": [
    "print(7%2)"
   ]
  },
  {
   "cell_type": "markdown",
   "id": "c12a18d7",
   "metadata": {},
   "source": [
    "증가 연산과 감소 연산"
   ]
  },
  {
   "cell_type": "code",
   "execution_count": 27,
   "id": "af942d40",
   "metadata": {},
   "outputs": [],
   "source": [
    "a=1"
   ]
  },
  {
   "cell_type": "code",
   "execution_count": 28,
   "id": "b99ba96a",
   "metadata": {},
   "outputs": [],
   "source": [
    "a=a+1"
   ]
  },
  {
   "cell_type": "code",
   "execution_count": 29,
   "id": "bf6012d3",
   "metadata": {},
   "outputs": [
    {
     "name": "stdout",
     "output_type": "stream",
     "text": [
      "2\n"
     ]
    }
   ],
   "source": [
    "print(a)"
   ]
  },
  {
   "cell_type": "code",
   "execution_count": 30,
   "id": "da61a376",
   "metadata": {},
   "outputs": [],
   "source": [
    "a+=1"
   ]
  },
  {
   "cell_type": "code",
   "execution_count": 31,
   "id": "a778b8a0",
   "metadata": {},
   "outputs": [
    {
     "name": "stdout",
     "output_type": "stream",
     "text": [
      "3\n"
     ]
    }
   ],
   "source": [
    "print(a)"
   ]
  },
  {
   "cell_type": "code",
   "execution_count": 32,
   "id": "c24e3dfb",
   "metadata": {},
   "outputs": [],
   "source": [
    "a=a-1"
   ]
  },
  {
   "cell_type": "code",
   "execution_count": 33,
   "id": "e0e4a30a",
   "metadata": {},
   "outputs": [],
   "source": [
    "a-=1"
   ]
  },
  {
   "cell_type": "code",
   "execution_count": 34,
   "id": "b67efbc8",
   "metadata": {},
   "outputs": [
    {
     "name": "stdout",
     "output_type": "stream",
     "text": [
      "1\n"
     ]
    }
   ],
   "source": [
    "print(a)"
   ]
  },
  {
   "cell_type": "markdown",
   "id": "61b41670",
   "metadata": {},
   "source": [
    "# 03자료형 변환"
   ]
  },
  {
   "cell_type": "markdown",
   "id": "f9ad815b",
   "metadata": {},
   "source": [
    "a 변수에 정수 데이터를 10을 할당 -> a가 정수형으로 출력"
   ]
  },
  {
   "cell_type": "code",
   "execution_count": 35,
   "id": "2395d10c",
   "metadata": {},
   "outputs": [],
   "source": [
    "a=10"
   ]
  },
  {
   "cell_type": "code",
   "execution_count": 36,
   "id": "65d33cbe",
   "metadata": {},
   "outputs": [
    {
     "name": "stdout",
     "output_type": "stream",
     "text": [
      "10\n"
     ]
    }
   ],
   "source": [
    "print(a)"
   ]
  },
  {
   "cell_type": "markdown",
   "id": "1d80b31d",
   "metadata": {},
   "source": [
    "a를 실수형으로 변환 / 정수형인 경우 int() -> a가 실수형으로 출력"
   ]
  },
  {
   "cell_type": "code",
   "execution_count": 37,
   "id": "9df54ad6",
   "metadata": {},
   "outputs": [],
   "source": [
    "a=float(10)"
   ]
  },
  {
   "cell_type": "code",
   "execution_count": 38,
   "id": "aea0ca08",
   "metadata": {
    "scrolled": true
   },
   "outputs": [
    {
     "name": "stdout",
     "output_type": "stream",
     "text": [
      "10.0\n"
     ]
    }
   ],
   "source": [
    "print(a)"
   ]
  },
  {
   "cell_type": "code",
   "execution_count": 40,
   "id": "e52a39a8",
   "metadata": {},
   "outputs": [],
   "source": [
    "a=10"
   ]
  },
  {
   "cell_type": "code",
   "execution_count": 41,
   "id": "c2d87031",
   "metadata": {},
   "outputs": [],
   "source": [
    "b=3"
   ]
  },
  {
   "cell_type": "code",
   "execution_count": 42,
   "id": "2841dcaa",
   "metadata": {},
   "outputs": [
    {
     "name": "stdout",
     "output_type": "stream",
     "text": [
      "3.3333333333333335\n"
     ]
    }
   ],
   "source": [
    "print(a/b)"
   ]
  },
  {
   "cell_type": "markdown",
   "id": "b8c07dbc",
   "metadata": {},
   "source": [
    "int()함수 : 실수형을 정수형으로 변환해주는 함수 (반올림x)"
   ]
  },
  {
   "cell_type": "code",
   "execution_count": 43,
   "id": "bd37d560",
   "metadata": {},
   "outputs": [],
   "source": [
    "a=int(10.7)"
   ]
  },
  {
   "cell_type": "code",
   "execution_count": 44,
   "id": "06ec7bf7",
   "metadata": {},
   "outputs": [],
   "source": [
    "b=int(10.3)"
   ]
  },
  {
   "cell_type": "code",
   "execution_count": 45,
   "id": "cea518b0",
   "metadata": {},
   "outputs": [
    {
     "name": "stdout",
     "output_type": "stream",
     "text": [
      "20\n"
     ]
    }
   ],
   "source": [
    "print(a+b)"
   ]
  },
  {
   "cell_type": "code",
   "execution_count": 46,
   "id": "33171763",
   "metadata": {},
   "outputs": [
    {
     "name": "stdout",
     "output_type": "stream",
     "text": [
      "10\n"
     ]
    }
   ],
   "source": [
    "print(a)"
   ]
  },
  {
   "cell_type": "code",
   "execution_count": 47,
   "id": "53ea98b4",
   "metadata": {},
   "outputs": [
    {
     "name": "stdout",
     "output_type": "stream",
     "text": [
      "10\n"
     ]
    }
   ],
   "source": [
    "print(b)"
   ]
  },
  {
   "cell_type": "code",
   "execution_count": 48,
   "id": "77c82737",
   "metadata": {},
   "outputs": [],
   "source": [
    "#문자형\n",
    "a='76.3'"
   ]
  },
  {
   "cell_type": "code",
   "execution_count": 54,
   "id": "d10ebc89",
   "metadata": {},
   "outputs": [
    {
     "data": {
      "text/plain": [
       "'76.3'"
      ]
     },
     "execution_count": 54,
     "metadata": {},
     "output_type": "execute_result"
    }
   ],
   "source": [
    "a"
   ]
  },
  {
   "cell_type": "code",
   "execution_count": 49,
   "id": "ddcf2a7b",
   "metadata": {},
   "outputs": [],
   "source": [
    "#문자형 -> 숫자형\n",
    "b=float(a)"
   ]
  },
  {
   "cell_type": "code",
   "execution_count": 55,
   "id": "b1699351",
   "metadata": {},
   "outputs": [
    {
     "data": {
      "text/plain": [
       "76.3"
      ]
     },
     "execution_count": 55,
     "metadata": {},
     "output_type": "execute_result"
    }
   ],
   "source": [
    "b"
   ]
  },
  {
   "cell_type": "code",
   "execution_count": 50,
   "id": "f1053fab",
   "metadata": {},
   "outputs": [
    {
     "name": "stdout",
     "output_type": "stream",
     "text": [
      "76.3\n"
     ]
    }
   ],
   "source": [
    "print(a)"
   ]
  },
  {
   "cell_type": "code",
   "execution_count": 51,
   "id": "481c11db",
   "metadata": {},
   "outputs": [
    {
     "name": "stdout",
     "output_type": "stream",
     "text": [
      "76.3\n"
     ]
    }
   ],
   "source": [
    "print(b)"
   ]
  },
  {
   "cell_type": "code",
   "execution_count": 52,
   "id": "a8d236b7",
   "metadata": {},
   "outputs": [
    {
     "ename": "TypeError",
     "evalue": "can only concatenate str (not \"float\") to str",
     "output_type": "error",
     "traceback": [
      "\u001b[1;31m---------------------------------------------------------------------------\u001b[0m",
      "\u001b[1;31mTypeError\u001b[0m                                 Traceback (most recent call last)",
      "\u001b[1;32m<ipython-input-52-85111a3ab660>\u001b[0m in \u001b[0;36m<module>\u001b[1;34m\u001b[0m\n\u001b[1;32m----> 1\u001b[1;33m \u001b[0mprint\u001b[0m\u001b[1;33m(\u001b[0m\u001b[0ma\u001b[0m\u001b[1;33m+\u001b[0m\u001b[0mb\u001b[0m\u001b[1;33m)\u001b[0m\u001b[1;33m\u001b[0m\u001b[1;33m\u001b[0m\u001b[0m\n\u001b[0m",
      "\u001b[1;31mTypeError\u001b[0m: can only concatenate str (not \"float\") to str"
     ]
    }
   ],
   "source": [
    "# a(문자형) + b(숫자형) 불가능\n",
    "print(a+b)"
   ]
  },
  {
   "cell_type": "code",
   "execution_count": 56,
   "id": "e8c046b3",
   "metadata": {},
   "outputs": [
    {
     "ename": "TypeError",
     "evalue": "can only concatenate str (not \"float\") to str",
     "output_type": "error",
     "traceback": [
      "\u001b[1;31m---------------------------------------------------------------------------\u001b[0m",
      "\u001b[1;31mTypeError\u001b[0m                                 Traceback (most recent call last)",
      "\u001b[1;32m<ipython-input-56-ca730b97bf8a>\u001b[0m in \u001b[0;36m<module>\u001b[1;34m\u001b[0m\n\u001b[1;32m----> 1\u001b[1;33m \u001b[0ma\u001b[0m\u001b[1;33m+\u001b[0m\u001b[0mb\u001b[0m\u001b[1;33m\u001b[0m\u001b[1;33m\u001b[0m\u001b[0m\n\u001b[0m",
      "\u001b[1;31mTypeError\u001b[0m: can only concatenate str (not \"float\") to str"
     ]
    }
   ],
   "source": [
    "a+b"
   ]
  },
  {
   "cell_type": "code",
   "execution_count": 57,
   "id": "d6b2d0db",
   "metadata": {},
   "outputs": [],
   "source": [
    "a=float(a)"
   ]
  },
  {
   "cell_type": "code",
   "execution_count": 58,
   "id": "d82611a2",
   "metadata": {},
   "outputs": [],
   "source": [
    "b=a"
   ]
  },
  {
   "cell_type": "code",
   "execution_count": 59,
   "id": "8d8b418c",
   "metadata": {},
   "outputs": [
    {
     "name": "stdout",
     "output_type": "stream",
     "text": [
      "152.6\n"
     ]
    }
   ],
   "source": [
    "print(a+b)"
   ]
  },
  {
   "cell_type": "markdown",
   "id": "188cf87b",
   "metadata": {},
   "source": [
    "str()함수 : 기존의 정수형이나 실수형을 문자열로 바꿔 준다. 문자형 간의 덧셈은 숫자 연산이 아닌 단순 붙이기(concatenate)가 일어난다"
   ]
  },
  {
   "cell_type": "code",
   "execution_count": 60,
   "id": "5884c227",
   "metadata": {},
   "outputs": [],
   "source": [
    "a=str(a)"
   ]
  },
  {
   "cell_type": "code",
   "execution_count": 61,
   "id": "972c389d",
   "metadata": {},
   "outputs": [],
   "source": [
    "b=str(b)"
   ]
  },
  {
   "cell_type": "code",
   "execution_count": 62,
   "id": "10544250",
   "metadata": {},
   "outputs": [
    {
     "name": "stdout",
     "output_type": "stream",
     "text": [
      "76.376.3\n"
     ]
    }
   ],
   "source": [
    "print(a+b)"
   ]
  },
  {
   "cell_type": "markdown",
   "id": "508f84ae",
   "metadata": {},
   "source": [
    "type()함수 : 자료형을 확인 할 수 있는 함수"
   ]
  },
  {
   "cell_type": "code",
   "execution_count": 63,
   "id": "6ab227c9",
   "metadata": {},
   "outputs": [],
   "source": [
    "a=int(10.3)"
   ]
  },
  {
   "cell_type": "code",
   "execution_count": 64,
   "id": "7131013f",
   "metadata": {},
   "outputs": [],
   "source": [
    "b=float(10.3)"
   ]
  },
  {
   "cell_type": "code",
   "execution_count": 65,
   "id": "e0e205ba",
   "metadata": {},
   "outputs": [],
   "source": [
    "c=str(10.3)"
   ]
  },
  {
   "cell_type": "code",
   "execution_count": 66,
   "id": "8b32af19",
   "metadata": {},
   "outputs": [
    {
     "data": {
      "text/plain": [
       "int"
      ]
     },
     "execution_count": 66,
     "metadata": {},
     "output_type": "execute_result"
    }
   ],
   "source": [
    "type(a)"
   ]
  },
  {
   "cell_type": "code",
   "execution_count": 67,
   "id": "dc61c91c",
   "metadata": {},
   "outputs": [
    {
     "data": {
      "text/plain": [
       "float"
      ]
     },
     "execution_count": 67,
     "metadata": {},
     "output_type": "execute_result"
    }
   ],
   "source": [
    "type(b)"
   ]
  },
  {
   "cell_type": "code",
   "execution_count": 68,
   "id": "407d0a53",
   "metadata": {},
   "outputs": [
    {
     "data": {
      "text/plain": [
       "str"
      ]
     },
     "execution_count": 68,
     "metadata": {},
     "output_type": "execute_result"
    }
   ],
   "source": [
    "type(c)"
   ]
  },
  {
   "cell_type": "code",
   "execution_count": null,
   "id": "7ad8fa78",
   "metadata": {},
   "outputs": [],
   "source": []
  }
 ],
 "metadata": {
  "kernelspec": {
   "display_name": "Python 3",
   "language": "python",
   "name": "python3"
  },
  "language_info": {
   "codemirror_mode": {
    "name": "ipython",
    "version": 3
   },
   "file_extension": ".py",
   "mimetype": "text/x-python",
   "name": "python",
   "nbconvert_exporter": "python",
   "pygments_lexer": "ipython3",
   "version": "3.8.8"
  }
 },
 "nbformat": 4,
 "nbformat_minor": 5
}
