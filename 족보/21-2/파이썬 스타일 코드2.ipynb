{
 "cells": [
  {
   "cell_type": "markdown",
   "id": "dc1194d7",
   "metadata": {},
   "source": [
    "## 람다함수"
   ]
  },
  {
   "cell_type": "markdown",
   "id": "a0e7b28f",
   "metadata": {},
   "source": [
    "람다(lambda) 함수 : 함수의 이름 없이, 함수처럼 사용할 수 있는 익명의 함수를 말한다."
   ]
  },
  {
   "cell_type": "code",
   "execution_count": 1,
   "id": "0fff8780",
   "metadata": {},
   "outputs": [
    {
     "name": "stdout",
     "output_type": "stream",
     "text": [
      "5\n"
     ]
    }
   ],
   "source": [
    "#코드 9-1\n",
    "def f(x,y):\n",
    "    return x+y\n",
    "print(f(1,4))"
   ]
  },
  {
   "cell_type": "code",
   "execution_count": 2,
   "id": "0d423e04",
   "metadata": {},
   "outputs": [
    {
     "name": "stdout",
     "output_type": "stream",
     "text": [
      "5\n"
     ]
    }
   ],
   "source": [
    "#코드 9-2\n",
    "f = lambda x,y : x+y\n",
    "print(f(1,4))"
   ]
  }
 ],
 "metadata": {
  "kernelspec": {
   "display_name": "Python 3",
   "language": "python",
   "name": "python3"
  },
  "language_info": {
   "codemirror_mode": {
    "name": "ipython",
    "version": 3
   },
   "file_extension": ".py",
   "mimetype": "text/x-python",
   "name": "python",
   "nbconvert_exporter": "python",
   "pygments_lexer": "ipython3",
   "version": "3.8.8"
  }
 },
 "nbformat": 4,
 "nbformat_minor": 5
}
