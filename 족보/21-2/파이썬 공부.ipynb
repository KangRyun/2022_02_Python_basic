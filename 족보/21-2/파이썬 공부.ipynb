{
 "cells": [
  {
   "cell_type": "code",
   "execution_count": 51,
   "id": "c8ea62fa",
   "metadata": {},
   "outputs": [
    {
     "name": "stdout",
     "output_type": "stream",
     "text": [
      "921\n",
      "3자리 숫자 입력:921\n",
      "Strike: 3 Ball: 0\n",
      "정답\n",
      "게임종료\n"
     ]
    }
   ],
   "source": [
    "### 3\n",
    "from random import sample\n",
    "n = 3\n",
    "a = ''.join(sample('0123456789', n))\n",
    "\n",
    "strike = 0\n",
    "ball = 0\n",
    "\n",
    "while strike < 3 :\n",
    "    b = input(str(n)+\"자리 숫자 입력:\")\n",
    "    \n",
    "    strike = 0\n",
    "    ball = 0\n",
    "    \n",
    "    for number in a:\n",
    "        if b.count(number)  == 1:\n",
    "            if b.find(number) == a.find(number):\n",
    "                strike += 1\n",
    "            else:\n",
    "                ball += 1\n",
    "    print(\"Strike:\", strike, \"Ball:\", ball)\n",
    "\n",
    "else :\n",
    "    print(\"정답\",\"게임종료\",sep = '\\n')"
   ]
  },
  {
   "cell_type": "code",
   "execution_count": null,
   "id": "581dd2bc",
   "metadata": {},
   "outputs": [],
   "source": [
    "from random import sample\n",
    "\n",
    "n = 3\n",
    "a = ''.join(sample('0123456789', n))\n",
    "b = input(str(n)+\"자리 숫자 입력:\")\n",
    "\n",
    "strike = 0\n",
    "ball = 0\n",
    "\n",
    "for number in a:\n",
    "    if b.count(number)  == 1:\n",
    "        if b.find(number) == a.find(number):\n",
    "            strike += 1\n",
    "        else:\n",
    "            ball += 1\n",
    "\n",
    "print(\"Strike:\", strike, \"Ball:\", ball)"
   ]
  },
  {
   "cell_type": "code",
   "execution_count": 14,
   "id": "c8643765",
   "metadata": {},
   "outputs": [
    {
     "ename": "SyntaxError",
     "evalue": "invalid syntax (<ipython-input-14-d45e37d0fcbe>, line 2)",
     "output_type": "error",
     "traceback": [
      "\u001b[1;36m  File \u001b[1;32m\"<ipython-input-14-d45e37d0fcbe>\"\u001b[1;36m, line \u001b[1;32m2\u001b[0m\n\u001b[1;33m    class(a)\u001b[0m\n\u001b[1;37m         ^\u001b[0m\n\u001b[1;31mSyntaxError\u001b[0m\u001b[1;31m:\u001b[0m invalid syntax\n"
     ]
    }
   ],
   "source": [
    "a = 6\n",
    "class(a)"
   ]
  },
  {
   "cell_type": "code",
   "execution_count": 9,
   "id": "a600f00e",
   "metadata": {},
   "outputs": [
    {
     "ename": "NameError",
     "evalue": "name 'n' is not defined",
     "output_type": "error",
     "traceback": [
      "\u001b[1;31m---------------------------------------------------------------------------\u001b[0m",
      "\u001b[1;31mNameError\u001b[0m                                 Traceback (most recent call last)",
      "\u001b[1;32m<ipython-input-9-87d0f20769cf>\u001b[0m in \u001b[0;36m<module>\u001b[1;34m\u001b[0m\n\u001b[0;32m      1\u001b[0m \u001b[1;32mfrom\u001b[0m \u001b[0mrandom\u001b[0m \u001b[1;32mimport\u001b[0m \u001b[0msample\u001b[0m\u001b[1;33m\u001b[0m\u001b[1;33m\u001b[0m\u001b[0m\n\u001b[1;32m----> 2\u001b[1;33m \u001b[0ma\u001b[0m \u001b[1;33m=\u001b[0m \u001b[1;34m''\u001b[0m\u001b[1;33m.\u001b[0m\u001b[0mjoin\u001b[0m\u001b[1;33m(\u001b[0m\u001b[0msample\u001b[0m\u001b[1;33m(\u001b[0m\u001b[1;34m'0123456789'\u001b[0m\u001b[1;33m,\u001b[0m \u001b[0mn\u001b[0m\u001b[1;33m)\u001b[0m\u001b[1;33m)\u001b[0m\u001b[1;33m\u001b[0m\u001b[1;33m\u001b[0m\u001b[0m\n\u001b[0m",
      "\u001b[1;31mNameError\u001b[0m: name 'n' is not defined"
     ]
    }
   ],
   "source": [
    "from random import sample\n",
    "a = ''.join(sample('0123456789', n))"
   ]
  },
  {
   "cell_type": "code",
   "execution_count": 1,
   "id": "eba0fe24",
   "metadata": {},
   "outputs": [
    {
     "data": {
      "text/plain": [
       "True"
      ]
     },
     "execution_count": 1,
     "metadata": {},
     "output_type": "execute_result"
    }
   ],
   "source": [
    "str(346) == \"346\""
   ]
  },
  {
   "cell_type": "code",
   "execution_count": 11,
   "id": "4566dbe0",
   "metadata": {},
   "outputs": [
    {
     "name": "stdout",
     "output_type": "stream",
     "text": [
      "숫자를 맞혀 보세요.(1~100)\n",
      "20\n",
      "숫자가 너무 작습니다.\n",
      "40\n",
      "숫자가 너무 작습니다.\n",
      "60\n",
      "숫자가 너무 작습니다.\n",
      "80\n",
      "숫자가 너무 큽니다.\n",
      "70\n",
      "숫자가 너무 큽니다.\n",
      "65\n",
      "6 번 만에 맞췄습니다.\n"
     ]
    }
   ],
   "source": [
    "import random\n",
    "guess_number=random.randint(1,100)\n",
    "print(\"숫자를 맞혀 보세요.(1~100)\")\n",
    "users_input=int(input())\n",
    "count = 1\n",
    "while(users_input is not guess_number):\n",
    "    if users_input > guess_number:\n",
    "        print(\"숫자가 너무 큽니다.\")\n",
    "    else:\n",
    "        print(\"숫자가 너무 작습니다.\")\n",
    "    users_input = int(input())\n",
    "    count += 1\n",
    "else:\n",
    "    print(count,\"번 만에 맞췄습니다.\")"
   ]
  },
  {
   "cell_type": "code",
   "execution_count": 7,
   "id": "5cdabcba",
   "metadata": {},
   "outputs": [
    {
     "name": "stdout",
     "output_type": "stream",
     "text": [
      "68\n"
     ]
    }
   ],
   "source": [
    "coupon = 0\n",
    "money = 200000\n",
    "coffee = 3500\n",
    "coupon_count = 0\n",
    "coupon_count1 = 0\n",
    "while money > coffee:\n",
    "    if coupon < 4:\n",
    "        money = money - coffee\n",
    "        coupon += 1\n",
    "        coupon_count += 1\n",
    "    else:\n",
    "        money += 2800\n",
    "        coupon = 0\n",
    "        coupon_count1 +=4\n",
    "print(coupon_count1)"
   ]
  },
  {
   "cell_type": "code",
   "execution_count": 20,
   "id": "c24f7952",
   "metadata": {},
   "outputs": [
    {
     "name": "stdout",
     "output_type": "stream",
     "text": [
      "숫자를 입력하세요:123456789\n",
      "홀수: 5 개, 짝수: 4 개\n"
     ]
    }
   ],
   "source": [
    "#사용ㅇ자 입력 - 양의 정수(자연수)\n",
    "in_str = input(\"숫자를 입력하세요:\")\n",
    "#홀수와 짝수의 개수\n",
    "n_odd = 0\n",
    "n_even = 0\n",
    "\n",
    "#홀수 및 짝수 확인\n",
    "for i in in_str:\n",
    "    if int(i) % 2 == 1:\n",
    "        n_odd +=1\n",
    "    else:\n",
    "        n_even +=1\n",
    "print(\"홀수:\",n_odd,\"개, 짝수:\",n_even,\"개\")"
   ]
  },
  {
   "cell_type": "code",
   "execution_count": 28,
   "id": "82f3830f",
   "metadata": {
    "scrolled": true
   },
   "outputs": [
    {
     "name": "stdout",
     "output_type": "stream",
     "text": [
      "짝수=0, 홀수=1를 입력하세요(종료=9):0\n",
      "오답\n",
      "짝수=0, 홀수=1를 입력하세요(종료=9):0\n",
      "정답\n",
      "짝수=0, 홀수=1를 입력하세요(종료=9):0\n",
      "정답\n",
      "짝수=0, 홀수=1를 입력하세요(종료=9):0\n",
      "오답\n",
      "짝수=0, 홀수=1를 입력하세요(종료=9):9\n",
      "종료합니다.\n"
     ]
    }
   ],
   "source": [
    "import random\n",
    "for i in range(1,1000):\n",
    "    com = random.randint(0,1)\n",
    "    user = int(input(\"짝수=0, 홀수=1를 입력하세요(종료=9):\"))\n",
    "    if user == 9:\n",
    "        print(\"종료합니다.\")\n",
    "        break\n",
    "    if user == com:\n",
    "        print(\"정답\")\n",
    "    else:\n",
    "        print(\"오답\")"
   ]
  },
  {
   "cell_type": "code",
   "execution_count": 14,
   "id": "09c2d296",
   "metadata": {},
   "outputs": [
    {
     "name": "stdout",
     "output_type": "stream",
     "text": [
      "1\n",
      "2\n",
      "3\n",
      "4\n",
      "5\n",
      "6\n",
      "7\n",
      "8\n",
      "9\n"
     ]
    }
   ],
   "source": [
    "for i in range(1,10):\n",
    "    print(i)"
   ]
  },
  {
   "cell_type": "code",
   "execution_count": 37,
   "id": "47fd875b",
   "metadata": {},
   "outputs": [
    {
     "name": "stdout",
     "output_type": "stream",
     "text": [
      "가위(1),바위(2),보(3)를 숫자로 입력하세요:2\n",
      "com이 이겼습니다.\n"
     ]
    }
   ],
   "source": [
    "import random\n",
    "com=random.randint(1,3)\n",
    "user=int(input(\"가위(1),바위(2),보(3)를 숫자로 입력하세요:\"))\n",
    "if com == user:\n",
    "    print(\"비겼습니다.\")\n",
    "elif com == 1 and user == 2:\n",
    "    print(\"User가 이겼습니다.\")\n",
    "elif com == 2 and user == 3:\n",
    "    print(\"User가 이겼습니다.\")\n",
    "elif com == 3 and user == 1:\n",
    "    print(\"User가 이겼습니다.\")\n",
    "else:\n",
    "    print(\"com이 이겼습니다.\")"
   ]
  },
  {
   "cell_type": "code",
   "execution_count": 44,
   "id": "f92c0527",
   "metadata": {},
   "outputs": [
    {
     "name": "stdout",
     "output_type": "stream",
     "text": [
      "양의 정수를 입력하세요:8\n",
      "16\n"
     ]
    }
   ],
   "source": [
    "user=int(input(\"양의 정수를 입력하세요:\"))\n",
    "sum=0\n",
    "for i in range(1,user+1):\n",
    "    if(i % 2 == 1):\n",
    "        sum+=i\n",
    "else:\n",
    "    print(sum)"
   ]
  },
  {
   "cell_type": "code",
   "execution_count": 90,
   "id": "1c0587b6",
   "metadata": {},
   "outputs": [
    {
     "data": {
      "text/plain": [
       "593.0"
      ]
     },
     "execution_count": 90,
     "metadata": {},
     "output_type": "execute_result"
    }
   ],
   "source": [
    "def f(x):\n",
    "    y = 5*(x**3)-7\n",
    "    return y \n",
    "def g(x):\n",
    "    y = x/2\n",
    "    return y\n",
    "x = 4\n",
    "f(x)*g(x)-f(g(x))"
   ]
  },
  {
   "cell_type": "code",
   "execution_count": 140,
   "id": "2241026b",
   "metadata": {},
   "outputs": [],
   "source": [
    "import random\n",
    "import numpy as np"
   ]
  },
  {
   "cell_type": "code",
   "execution_count": 141,
   "id": "c99a18dd",
   "metadata": {},
   "outputs": [
    {
     "name": "stdout",
     "output_type": "stream",
     "text": [
      "4 * 7 = 28\n",
      "2 * 1 = 2\n",
      "3 * 2 = 6\n",
      "2 * 4 = 1\n",
      "3번 성공했습니다.\n"
     ]
    }
   ],
   "source": [
    "i = 0\n",
    "while(1):\n",
    "    x = np.random.randint(2, 9)\n",
    "    y = np.random.randint(1, 9)\n",
    "    z = x * y\n",
    "    sol = int(input(str(x) + \" * \" + str(y) + \" = \"))\n",
    "    if (z != sol):\n",
    "        break\n",
    "    i += 1\n",
    "print(str(i) + \"번 성공했습니다.\")"
   ]
  },
  {
   "cell_type": "code",
   "execution_count": 171,
   "id": "b39981e1",
   "metadata": {},
   "outputs": [
    {
     "name": "stdout",
     "output_type": "stream",
     "text": [
      "3자리 숫자를 입력하세요.(0~9): 123\n"
     ]
    },
    {
     "ename": "AttributeError",
     "evalue": "'list' object has no attribute 'info'",
     "output_type": "error",
     "traceback": [
      "\u001b[1;31m---------------------------------------------------------------------------\u001b[0m",
      "\u001b[1;31mAttributeError\u001b[0m                            Traceback (most recent call last)",
      "\u001b[1;32m<ipython-input-171-2bc4617e832e>\u001b[0m in \u001b[0;36m<module>\u001b[1;34m\u001b[0m\n\u001b[0;32m     11\u001b[0m     \u001b[0mnum_int\u001b[0m \u001b[1;33m=\u001b[0m \u001b[1;33m[\u001b[0m\u001b[0mint\u001b[0m\u001b[1;33m(\u001b[0m\u001b[0mi\u001b[0m\u001b[1;33m)\u001b[0m \u001b[1;32mfor\u001b[0m \u001b[0mi\u001b[0m \u001b[1;32min\u001b[0m \u001b[0mnum_str\u001b[0m\u001b[1;33m]\u001b[0m\u001b[1;33m\u001b[0m\u001b[1;33m\u001b[0m\u001b[0m\n\u001b[0;32m     12\u001b[0m     \u001b[0mnum_check\u001b[0m \u001b[1;33m=\u001b[0m \u001b[1;33m[\u001b[0m\u001b[0mnum_int\u001b[0m\u001b[1;33m[\u001b[0m\u001b[0mi\u001b[0m\u001b[1;33m]\u001b[0m \u001b[1;32min\u001b[0m \u001b[0mnum_target\u001b[0m \u001b[1;32mfor\u001b[0m \u001b[0mi\u001b[0m \u001b[1;32min\u001b[0m \u001b[0mrange\u001b[0m\u001b[1;33m(\u001b[0m\u001b[1;36m3\u001b[0m\u001b[1;33m)\u001b[0m\u001b[1;33m]\u001b[0m\u001b[1;33m\u001b[0m\u001b[1;33m\u001b[0m\u001b[0m\n\u001b[1;32m---> 13\u001b[1;33m     \u001b[0mcheck_sum\u001b[0m \u001b[1;33m=\u001b[0m \u001b[0msum\u001b[0m\u001b[1;33m(\u001b[0m\u001b[0mnum_check\u001b[0m\u001b[1;33m.\u001b[0m\u001b[0minfo\u001b[0m\u001b[1;33m(\u001b[0m\u001b[1;33m)\u001b[0m\u001b[1;33m)\u001b[0m\u001b[1;33m\u001b[0m\u001b[1;33m\u001b[0m\u001b[0m\n\u001b[0m\u001b[0;32m     14\u001b[0m \u001b[1;33m\u001b[0m\u001b[0m\n\u001b[0;32m     15\u001b[0m     \u001b[0mprint\u001b[0m\u001b[1;33m(\u001b[0m\u001b[0mstr\u001b[0m\u001b[1;33m(\u001b[0m\u001b[0mcheck_sum\u001b[0m\u001b[1;33m)\u001b[0m\u001b[1;33m+\u001b[0m\u001b[1;34m\"개가 포함되어 있습니다.\"\u001b[0m\u001b[1;33m)\u001b[0m\u001b[1;33m\u001b[0m\u001b[1;33m\u001b[0m\u001b[0m\n",
      "\u001b[1;31mAttributeError\u001b[0m: 'list' object has no attribute 'info'"
     ]
    }
   ],
   "source": [
    "num_target = np.random.choice(range(10), 3, replace = False)\n",
    "num_target = list(num_target)\n",
    "\n",
    "while(1):\n",
    "    #num_str = input(\"3개의 숫자를 공백으로 분리하여 입력하세요.(0~9): \").split()\n",
    "    num_str = input(\"3자리 숫자를 입력하세요.(0~9): \")\n",
    "    if (num_str == \"\"):\n",
    "        print(\"게임을 종료합니다.\")\n",
    "        break\n",
    "        \n",
    "    num_int = [int(i) for i in num_str]\n",
    "    num_check = [num_int[i] in num_target for i in range(3)]\n",
    "    check_sum = sum(num_check.info())\n",
    "    \n",
    "    print(str(check_sum)+\"개가 포함되어 있습니다.\")\n",
    "    \n",
    "    if check_sum == 3:\n",
    "        print(num_target)\n",
    "        print(\"정답입니다~\")\n",
    "        break"
   ]
  },
  {
   "cell_type": "code",
   "execution_count": 2,
   "id": "c38c2a14",
   "metadata": {},
   "outputs": [
    {
     "name": "stdout",
     "output_type": "stream",
     "text": [
      "1\n",
      "2\n",
      "3\n",
      "4\n",
      "5\n",
      "6\n",
      "7\n",
      "8\n",
      "9\n"
     ]
    }
   ],
   "source": [
    "#코드 4-12\n",
    "i=1\n",
    "while i<10:\n",
    "    print(i)\n",
    "    i+=1"
   ]
  },
  {
   "cell_type": "code",
   "execution_count": 3,
   "id": "f42aa098",
   "metadata": {},
   "outputs": [
    {
     "data": {
      "text/plain": [
       "10"
      ]
     },
     "execution_count": 3,
     "metadata": {},
     "output_type": "execute_result"
    }
   ],
   "source": [
    "i"
   ]
  },
  {
   "cell_type": "code",
   "execution_count": 4,
   "id": "2579c7f4",
   "metadata": {},
   "outputs": [
    {
     "data": {
      "text/plain": [
       "['red', 'blue', 'a', 'b', 'c']"
      ]
     },
     "execution_count": 4,
     "metadata": {},
     "output_type": "execute_result"
    }
   ],
   "source": [
    "color = ['red','blue']\n",
    "color.extend('abc')\n",
    "color"
   ]
  },
  {
   "cell_type": "code",
   "execution_count": null,
   "id": "1d4009c6",
   "metadata": {},
   "outputs": [],
   "source": []
  }
 ],
 "metadata": {
  "kernelspec": {
   "display_name": "Python 3",
   "language": "python",
   "name": "python3"
  },
  "language_info": {
   "codemirror_mode": {
    "name": "ipython",
    "version": 3
   },
   "file_extension": ".py",
   "mimetype": "text/x-python",
   "name": "python",
   "nbconvert_exporter": "python",
   "pygments_lexer": "ipython3",
   "version": "3.8.8"
  }
 },
 "nbformat": 4,
 "nbformat_minor": 5
}
