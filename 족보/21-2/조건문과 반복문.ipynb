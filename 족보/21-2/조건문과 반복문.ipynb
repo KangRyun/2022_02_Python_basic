{
 "cells": [
  {
   "cell_type": "markdown",
   "id": "d98ede1a",
   "metadata": {},
   "source": [
    "## 01 조건문"
   ]
  },
  {
   "cell_type": "markdown",
   "id": "2acfd994",
   "metadata": {},
   "source": [
    "조건문 : 조건에 따라 특정 동작을 하도록 하는 프로그래밍 명령어이다."
   ]
  },
  {
   "cell_type": "code",
   "execution_count": 9,
   "id": "657f3054",
   "metadata": {},
   "outputs": [
    {
     "name": "stdout",
     "output_type": "stream",
     "text": [
      "Tell me your age?\n",
      "23\n",
      "Welcome to the club\n"
     ]
    }
   ],
   "source": [
    "## if, else, elif\n",
    "#코드 4-1 if-else\n",
    "print(\"Tell me your age?\")\n",
    "myage = int(input())\n",
    "if myage < 30:\n",
    "    print(\"Welcome to the club\")\n",
    "else:\n",
    "    print(\"Oh! No. You are not accepted.\")"
   ]
  },
  {
   "cell_type": "code",
   "execution_count": 1,
   "id": "e293a86c",
   "metadata": {},
   "outputs": [
    {
     "data": {
      "text/plain": [
       "True"
      ]
     },
     "execution_count": 1,
     "metadata": {},
     "output_type": "execute_result"
    }
   ],
   "source": [
    "a=100\n",
    "b=100\n",
    "a is b"
   ]
  },
  {
   "cell_type": "code",
   "execution_count": 2,
   "id": "c44cdb1c",
   "metadata": {},
   "outputs": [
    {
     "data": {
      "text/plain": [
       "True"
      ]
     },
     "execution_count": 2,
     "metadata": {},
     "output_type": "execute_result"
    }
   ],
   "source": [
    "a==b"
   ]
  },
  {
   "cell_type": "code",
   "execution_count": 3,
   "id": "a0eb504e",
   "metadata": {},
   "outputs": [
    {
     "data": {
      "text/plain": [
       "True"
      ]
     },
     "execution_count": 3,
     "metadata": {},
     "output_type": "execute_result"
    }
   ],
   "source": [
    "# -5~256까지 변하지 않는 메모리 주소에 값을 할당\n",
    "a=300\n",
    "b=300\n",
    "a==b"
   ]
  },
  {
   "cell_type": "code",
   "execution_count": 5,
   "id": "30e4a7ae",
   "metadata": {
    "scrolled": true
   },
   "outputs": [
    {
     "data": {
      "text/plain": [
       "False"
      ]
     },
     "execution_count": 5,
     "metadata": {},
     "output_type": "execute_result"
    }
   ],
   "source": [
    "a is b"
   ]
  },
  {
   "cell_type": "code",
   "execution_count": 10,
   "id": "a4eb1a58",
   "metadata": {},
   "outputs": [
    {
     "name": "stdout",
     "output_type": "stream",
     "text": [
      "True\n"
     ]
    }
   ],
   "source": [
    "# True 1. False 0 처리\n",
    "if 1:\n",
    "    print(\"True\")"
   ]
  },
  {
   "cell_type": "code",
   "execution_count": 7,
   "id": "be2ba221",
   "metadata": {},
   "outputs": [],
   "source": [
    "# not 값을 역으로 반환하여 판단"
   ]
  },
  {
   "cell_type": "code",
   "execution_count": 8,
   "id": "4225b745",
   "metadata": {},
   "outputs": [
    {
     "data": {
      "text/plain": [
       "False"
      ]
     },
     "execution_count": 8,
     "metadata": {},
     "output_type": "execute_result"
    }
   ],
   "source": [
    "a=8\n",
    "b=5\n",
    "a==8 and b==8"
   ]
  },
  {
   "cell_type": "code",
   "execution_count": 9,
   "id": "607a731b",
   "metadata": {},
   "outputs": [
    {
     "data": {
      "text/plain": [
       "True"
      ]
     },
     "execution_count": 9,
     "metadata": {},
     "output_type": "execute_result"
    }
   ],
   "source": [
    "a>7 or b>7"
   ]
  },
  {
   "cell_type": "code",
   "execution_count": 10,
   "id": "8d573a03",
   "metadata": {},
   "outputs": [
    {
     "data": {
      "text/plain": [
       "False"
      ]
     },
     "execution_count": 10,
     "metadata": {},
     "output_type": "execute_result"
    }
   ],
   "source": [
    "not(a>7)"
   ]
  },
  {
   "cell_type": "code",
   "execution_count": 12,
   "id": "bf58dac8",
   "metadata": {},
   "outputs": [
    {
     "name": "stdout",
     "output_type": "stream",
     "text": [
      "Enter you score:70\n",
      "D\n"
     ]
    }
   ],
   "source": [
    "### if-elif-else\n",
    "#코드 4-2\n",
    "score = int(input(\"Enter you score:\"))\n",
    "if score>=90:\n",
    "    grade='A'\n",
    "if score>=80:\n",
    "    grade='B'\n",
    "if score>=70:\n",
    "    grade='C'\n",
    "if score>=60:\n",
    "    grade='D'\n",
    "if score<60:\n",
    "    grade='F'\n",
    "print(grade)"
   ]
  },
  {
   "cell_type": "code",
   "execution_count": 15,
   "id": "325812f5",
   "metadata": {},
   "outputs": [
    {
     "name": "stdout",
     "output_type": "stream",
     "text": [
      "Enter you score:98\n",
      "A\n"
     ]
    }
   ],
   "source": [
    "#코드 4-3\n",
    "score = int(input(\"Enter you score:\"))\n",
    "if score>=90:\n",
    "    grade='A'\n",
    "elif score>=80:\n",
    "    grade='B'\n",
    "elif score>=70:\n",
    "    grade='C'\n",
    "elif score>=60:\n",
    "    grade='D'\n",
    "else:grade='F'\n",
    "print(grade)"
   ]
  },
  {
   "cell_type": "markdown",
   "id": "6559a866",
   "metadata": {},
   "source": [
    "## 02 Lab:어던 종류의 학생인지 맞히기"
   ]
  },
  {
   "cell_type": "code",
   "execution_count": 17,
   "id": "ed29ceb5",
   "metadata": {},
   "outputs": [
    {
     "name": "stdout",
     "output_type": "stream",
     "text": [
      "당신이 태어난 연도를 입력하세요.\n",
      "1999\n",
      "대학생\n"
     ]
    }
   ],
   "source": [
    "#코드 4-4\n",
    "print(\"당신이 태어난 연도를 입력하세요.\")\n",
    "birth_year = input()\n",
    "age= 2021 - int(birth_year)+1\n",
    "if age <=26 and age>=20:\n",
    "    print(\"대학생\")\n",
    "elif age < 20 and age>=17:\n",
    "    print(\"고등학생\")\n",
    "elif age <=17 and age>=14:\n",
    "    print(\"중학생\")\n",
    "elif age <=14 and age>=8:\n",
    "    print(\"초등학생\")\n",
    "else:\n",
    "    print(\"학생이 아닙니다.\")"
   ]
  },
  {
   "cell_type": "code",
   "execution_count": 8,
   "id": "00f01bfa",
   "metadata": {},
   "outputs": [
    {
     "name": "stdout",
     "output_type": "stream",
     "text": [
      "가위(1),바위(2),보(3)3\n",
      "비겼습니다.\n",
      "User:3,Com:3\n"
     ]
    }
   ],
   "source": [
    "## 가위바위보 게임\n",
    "# 중간고사에 응용에서 출제\n",
    "import random\n",
    "\n",
    "user = int(input(\"가위(1),바위(2),보(3)\"))\n",
    "com = random.randint(1,3)\n",
    "\n",
    "if user==com:\n",
    "    print(\"비겼습니다.\")\n",
    "elif com ==1 and user==2:\n",
    "    print(\"User win!\")\n",
    "elif com ==2 and user==3:\n",
    "    print(\"User win!\")\n",
    "elif com ==3 and user==1:\n",
    "    print(\"User win!\")\n",
    "else:\n",
    "    print(\"Com win!\")\n",
    "print(\"User:\"+str(user)+\",Com:\"+str(com))"
   ]
  },
  {
   "cell_type": "markdown",
   "id": "5e8ed41e",
   "metadata": {},
   "source": [
    "## 03 반복문"
   ]
  },
  {
   "cell_type": "markdown",
   "id": "2d960d51",
   "metadata": {},
   "source": [
    "반복문 : 말 그대로 문장을 반복해 만드는 것으로, 정해진 동작을 반복적으로 수행 할때 내리는 명령어이다."
   ]
  },
  {
   "cell_type": "code",
   "execution_count": 11,
   "id": "51b51eb0",
   "metadata": {
    "scrolled": false
   },
   "outputs": [
    {
     "name": "stdout",
     "output_type": "stream",
     "text": [
      "hello\n",
      "hello\n",
      "hello\n",
      "hello\n",
      "hello\n"
     ]
    }
   ],
   "source": [
    "#코드 4-5\n",
    "for looper in [1,2,3,4,5]:\n",
    "    print(\"hello\")"
   ]
  },
  {
   "cell_type": "code",
   "execution_count": 11,
   "id": "eddae2d4",
   "metadata": {},
   "outputs": [
    {
     "name": "stdout",
     "output_type": "stream",
     "text": [
      "1\n",
      "2\n",
      "3\n",
      "4\n",
      "5\n"
     ]
    }
   ],
   "source": [
    "#코드 4-6\n",
    "for looper in [1,2,3,4,5]:\n",
    "    print(looper)"
   ]
  },
  {
   "cell_type": "markdown",
   "id": "4c039cfd",
   "metadata": {},
   "source": [
    "for 변수 in range(시작 번호,마지막 번호, 증가값)"
   ]
  },
  {
   "cell_type": "code",
   "execution_count": 18,
   "id": "86d13f1b",
   "metadata": {},
   "outputs": [
    {
     "name": "stdout",
     "output_type": "stream",
     "text": [
      "0\n",
      "1\n",
      "2\n",
      "3\n",
      "4\n",
      "5\n",
      "6\n",
      "7\n",
      "8\n",
      "9\n"
     ]
    }
   ],
   "source": [
    "#코드 4-7\n",
    "for looper in range(10):\n",
    "    print(looper)"
   ]
  },
  {
   "cell_type": "code",
   "execution_count": 19,
   "id": "de7cad40",
   "metadata": {},
   "outputs": [
    {
     "name": "stdout",
     "output_type": "stream",
     "text": [
      "가위(1),바위(2),보(3)2\n",
      "User win!\n",
      "User:2,Com:1\n",
      "가위(1),바위(2),보(3)3\n",
      "User win!\n",
      "User:3,Com:2\n",
      "가위(1),바위(2),보(3)1\n",
      "Com win!\n",
      "User:1,Com:2\n"
     ]
    }
   ],
   "source": [
    "for i in range(3):\n",
    "    user = int(input(\"가위(1),바위(2),보(3)\"))\n",
    "    com = random.randint(1,3)\n",
    "\n",
    "    if user==com:\n",
    "        print(\"비겼습니다.\")\n",
    "    elif com ==1 and user==2:\n",
    "        print(\"User win!\")\n",
    "    elif com ==2 and user==3:\n",
    "        print(\"User win!\")\n",
    "    elif com ==3 and user==1:\n",
    "        print(\"User win!\")\n",
    "    else:\n",
    "        print(\"Com win!\")\n",
    "    print(\"User:\"+str(user)+\",Com:\"+str(com))"
   ]
  },
  {
   "cell_type": "code",
   "execution_count": 20,
   "id": "79d21063",
   "metadata": {
    "scrolled": true
   },
   "outputs": [
    {
     "name": "stdout",
     "output_type": "stream",
     "text": [
      "a\n",
      "b\n",
      "c\n",
      "d\n",
      "e\n",
      "f\n",
      "g\n"
     ]
    }
   ],
   "source": [
    "#코드 4-8\n",
    "for i in 'abcdefg':\n",
    "    print(i)"
   ]
  },
  {
   "cell_type": "code",
   "execution_count": 22,
   "id": "2d15d2bc",
   "metadata": {},
   "outputs": [
    {
     "name": "stdout",
     "output_type": "stream",
     "text": [
      "americano\n",
      "latte\n",
      "frappuccino\n"
     ]
    }
   ],
   "source": [
    "#코드 4-9\n",
    "for i in ['americano','latte','frappuccino']:\n",
    "    print(i)"
   ]
  },
  {
   "cell_type": "code",
   "execution_count": 23,
   "id": "0289e490",
   "metadata": {},
   "outputs": [
    {
     "name": "stdout",
     "output_type": "stream",
     "text": [
      "1\n",
      "3\n",
      "5\n",
      "7\n",
      "9\n"
     ]
    }
   ],
   "source": [
    "#코드 4-10\n",
    "for i in range(1,10,2):\n",
    "    print(i)"
   ]
  },
  {
   "cell_type": "code",
   "execution_count": 24,
   "id": "0c43f9b1",
   "metadata": {},
   "outputs": [
    {
     "data": {
      "text/plain": [
       "9"
      ]
     },
     "execution_count": 24,
     "metadata": {},
     "output_type": "execute_result"
    }
   ],
   "source": [
    "#i값은 없어지지 않는다.\n",
    "i"
   ]
  },
  {
   "cell_type": "code",
   "execution_count": 25,
   "id": "94e5e93d",
   "metadata": {
    "scrolled": true
   },
   "outputs": [
    {
     "name": "stdout",
     "output_type": "stream",
     "text": [
      "10\n",
      "9\n",
      "8\n",
      "7\n",
      "6\n",
      "5\n",
      "4\n",
      "3\n",
      "2\n"
     ]
    }
   ],
   "source": [
    "#코드 4-11\n",
    "for i in range(10,1,-1):\n",
    "    print(i)"
   ]
  },
  {
   "cell_type": "markdown",
   "id": "c5c5f290",
   "metadata": {},
   "source": [
    "while문 : 어떤 조건이 만족하는 동안 명령 블록을 수행하고, 해당 조건이 거짓일 경우 반복 명령문을 더는 수행하지 않는 구문이다."
   ]
  },
  {
   "cell_type": "code",
   "execution_count": 26,
   "id": "00afb8ef",
   "metadata": {},
   "outputs": [
    {
     "name": "stdout",
     "output_type": "stream",
     "text": [
      "1\n",
      "2\n",
      "3\n",
      "4\n",
      "5\n",
      "6\n",
      "7\n",
      "8\n",
      "9\n"
     ]
    }
   ],
   "source": [
    "#코드 4-12\n",
    "i=1\n",
    "while i<10:\n",
    "    print(i)\n",
    "    i+=1"
   ]
  },
  {
   "cell_type": "markdown",
   "id": "d28b3f54",
   "metadata": {},
   "source": [
    "break문 : 반복문에서 논리적으로 반복을 종료하는 방법이다."
   ]
  },
  {
   "cell_type": "code",
   "execution_count": 1,
   "id": "842ea6dd",
   "metadata": {},
   "outputs": [
    {
     "name": "stdout",
     "output_type": "stream",
     "text": [
      "0\n",
      "1\n",
      "2\n",
      "3\n",
      "4\n",
      "End of Program\n"
     ]
    }
   ],
   "source": [
    "#코드 4-13\n",
    "for i in range(10):\n",
    "    if i == 5 :\n",
    "        break\n",
    "    print(i)\n",
    "print(\"End of Program\")"
   ]
  },
  {
   "cell_type": "markdown",
   "id": "e2a2a419",
   "metadata": {},
   "source": [
    "continue문 : 특정 조건에서 남은 명령을 건너뛰고 다음 반목문을 수행한다."
   ]
  },
  {
   "cell_type": "code",
   "execution_count": 3,
   "id": "c7d92dae",
   "metadata": {},
   "outputs": [
    {
     "name": "stdout",
     "output_type": "stream",
     "text": [
      "0\n",
      "1\n",
      "2\n",
      "3\n",
      "4\n",
      "6\n",
      "7\n",
      "8\n",
      "9\n",
      "End of program\n"
     ]
    }
   ],
   "source": [
    "for i in range(10):\n",
    "    if i == 5: continue\n",
    "    print(i)\n",
    "print(\"End of program\")"
   ]
  },
  {
   "cell_type": "markdown",
   "id": "ba9d8440",
   "metadata": {},
   "source": [
    "else 문 : 어떤 조건이 완전히 끝났을 때 한 번 더 실행해 주는 역할을 한다."
   ]
  },
  {
   "cell_type": "code",
   "execution_count": 4,
   "id": "393a074a",
   "metadata": {},
   "outputs": [
    {
     "name": "stdout",
     "output_type": "stream",
     "text": [
      "0\n",
      "1\n",
      "2\n",
      "3\n",
      "4\n",
      "5\n",
      "6\n",
      "7\n",
      "8\n",
      "9\n",
      "End of Program\n"
     ]
    }
   ],
   "source": [
    "for i in range(10):\n",
    "    print(i)\n",
    "else:\n",
    "    print(\"End of Program\")"
   ]
  },
  {
   "cell_type": "markdown",
   "id": "b7ae861f",
   "metadata": {},
   "source": [
    "## 04 Lab:구구단 계산기"
   ]
  },
  {
   "cell_type": "code",
   "execution_count": 13,
   "id": "1598a41a",
   "metadata": {},
   "outputs": [
    {
     "name": "stdout",
     "output_type": "stream",
     "text": [
      "구구단 몇 단을 계산할까?\n",
      "4\n",
      "구구단 4 단을 계산한다.\n",
      "4 x 1 = 4\n",
      "4 x 2 = 8\n",
      "4 x 3 = 12\n",
      "4 x 4 = 16\n",
      "4 x 5 = 20\n",
      "4 x 6 = 24\n",
      "4 x 7 = 28\n",
      "4 x 8 = 32\n",
      "4 x 9 = 36\n"
     ]
    }
   ],
   "source": [
    "print(\"구구단 몇 단을 계산할까?\")\n",
    "user_input=input()\n",
    "print(\"구구단\",user_input,\"단을 계산한다.\")\n",
    "int_input=int(user_input)\n",
    "for i in range(1,10):\n",
    "    result = int_input*i\n",
    "    print(user_input,\"x\",i,\"=\",result)"
   ]
  },
  {
   "cell_type": "markdown",
   "id": "6f6062a6",
   "metadata": {},
   "source": [
    "## 05 조건문과 반복문 실습"
   ]
  },
  {
   "cell_type": "markdown",
   "id": "be46ffaa",
   "metadata": {},
   "source": [
    "reverse_sentence:입력된 문자열을 역순으로 출력하는 변수이다."
   ]
  },
  {
   "cell_type": "code",
   "execution_count": 2,
   "id": "f68cf331",
   "metadata": {},
   "outputs": [
    {
     "name": "stdout",
     "output_type": "stream",
     "text": [
      "uoy revol I\n"
     ]
    }
   ],
   "source": [
    "sentence=\"I lover you\"\n",
    "reverse_sentence=''\n",
    "for char in sentence:\n",
    "    reverse_sentence =char +reverse_sentence\n",
    "print(reverse_sentence)"
   ]
  },
  {
   "cell_type": "code",
   "execution_count": 3,
   "id": "0bfbbe2d",
   "metadata": {},
   "outputs": [
    {
     "name": "stdout",
     "output_type": "stream",
     "text": [
      "1010\n"
     ]
    }
   ],
   "source": [
    "decimal=10\n",
    "result=''\n",
    "while(decimal>0):\n",
    "    remainder = decimal % 2\n",
    "    decimal = decimal // 2\n",
    "    result = str(remainder)+result\n",
    "print(result)"
   ]
  },
  {
   "cell_type": "markdown",
   "id": "2cbfa72f",
   "metadata": {},
   "source": [
    "## 06 Lab:숫자 찾기 게임"
   ]
  },
  {
   "cell_type": "code",
   "execution_count": 4,
   "id": "47a1fcdc",
   "metadata": {},
   "outputs": [
    {
     "name": "stdout",
     "output_type": "stream",
     "text": [
      "숫자를 맞혀 보세요.(1~100)\n",
      "2\n",
      "숫자가 너무 작습니다.\n",
      "50\n",
      "숫자가 너무 작습니다.\n",
      "80\n",
      "숫자가 너무 작습니다.\n",
      "90\n",
      "숫자가 너무 작습니다.\n",
      "100\n",
      "숫자가 너무 큽니다.\n",
      "97\n",
      "정답입니다. 입력한 숫자는 97 입니다.\n"
     ]
    }
   ],
   "source": [
    "import random\n",
    "guess_number=random.randint(1,100)\n",
    "print(\"숫자를 맞혀 보세요.(1~100)\")\n",
    "users_input=int(input())\n",
    "while(users_input is not guess_number):\n",
    "    if users_input > guess_number:\n",
    "        print(\"숫자가 너무 큽니다.\")\n",
    "    else:\n",
    "        print(\"숫자가 너무 작습니다.\")\n",
    "    users_input = int(input())\n",
    "else:\n",
    "    print(\"정답입니다.\",\"입력한 숫자는\",users_input,\"입니다.\")"
   ]
  },
  {
   "cell_type": "markdown",
   "id": "d77d4e86",
   "metadata": {},
   "source": [
    "## 07 Lab:연속적인 구구단 계산기"
   ]
  },
  {
   "cell_type": "code",
   "execution_count": 6,
   "id": "7eb125cd",
   "metadata": {},
   "outputs": [
    {
     "name": "stderr",
     "output_type": "stream",
     "text": [
      "<>:3: SyntaxWarning: \"is not\" with a literal. Did you mean \"!=\"?\n",
      "<>:3: SyntaxWarning: \"is not\" with a literal. Did you mean \"!=\"?\n",
      "<ipython-input-6-9f7af4028d6e>:3: SyntaxWarning: \"is not\" with a literal. Did you mean \"!=\"?\n",
      "  while(x is not 0):\n"
     ]
    },
    {
     "name": "stdout",
     "output_type": "stream",
     "text": [
      "구구단 몇 단을 계산할까요(1~9)?\n",
      "11\n",
      "잘못 입력했씁니다 1부터 9 사이 숫자를 입력하세요.\n",
      "3\n",
      "구구단3단을 계산합니다.\n",
      "3x1=3\n",
      "3x2=6\n",
      "3x3=9\n",
      "3x4=12\n",
      "3x5=15\n",
      "3x6=18\n",
      "3x7=21\n",
      "3x8=24\n",
      "3x9=27\n",
      "구구단 몇 단을 계산할까요(1~9)?\n",
      "15\n",
      "잘못 입력했씁니다 1부터 9 사이 숫자를 입력하세요.\n",
      "0\n",
      "구구단 게임을 종료합니다.\n"
     ]
    }
   ],
   "source": [
    "print(\"구구단 몇 단을 계산할까요(1~9)?\")\n",
    "x=1\n",
    "while(x is not 0):\n",
    "    x=int(input())\n",
    "    if x == 0:break\n",
    "    if not (1<=x<=9):\n",
    "        print(\"잘못 입력했씁니다\",\"1부터 9 사이 숫자를 입력하세요.\")\n",
    "        continue\n",
    "    else:\n",
    "        print(\"구구단\"+str(x)+\"단을 계산합니다.\")\n",
    "        for i in range(1,10):\n",
    "            print(str(x) + \"x\"+str(i)+\"=\"+str(x*i))\n",
    "        print(\"구구단 몇 단을 계산할까요(1~9)?\")\n",
    "print(\"구구단 게임을 종료합니다.\")"
   ]
  },
  {
   "cell_type": "code",
   "execution_count": 5,
   "id": "ec5a8471",
   "metadata": {},
   "outputs": [
    {
     "name": "stdout",
     "output_type": "stream",
     "text": [
      "구구단 몇 단을 계산할까?2\n",
      "구구단 2 단을 계산한다.\n",
      "2 x 1 = 2\n",
      "2 x 2 = 4\n",
      "2 x 3 = 6\n",
      "2 x 4 = 8\n",
      "2 x 5 = 10\n",
      "2 x 6 = 12\n",
      "2 x 7 = 14\n",
      "2 x 8 = 16\n",
      "2 x 9 = 18\n",
      "구구단 몇 단을 계산할까?0\n"
     ]
    }
   ],
   "source": [
    "while(1):\n",
    "    user_input = input(\"구구단 몇 단을 계산할까?\")\n",
    "    if user_input=='0':break\n",
    "    print(\"구구단\",user_input,\"단을 계산한다.\")\n",
    "    int_input=int(user_input)\n",
    "    for i in range(1,10):\n",
    "        result = int_input*i\n",
    "        print(user_input,\"x\",i,\"=\",result)"
   ]
  },
  {
   "cell_type": "markdown",
   "id": "40e410b9",
   "metadata": {},
   "source": [
    "## 08 Lab:평균 구하기"
   ]
  },
  {
   "cell_type": "code",
   "execution_count": 10,
   "id": "19207aa5",
   "metadata": {},
   "outputs": [
    {
     "name": "stdout",
     "output_type": "stream",
     "text": [
      "1 6\n",
      "1 7\n",
      "1 8\n",
      "2 6\n",
      "2 7\n",
      "2 8\n",
      "3 6\n",
      "3 7\n",
      "3 8\n",
      "4 6\n",
      "4 7\n",
      "4 8\n",
      "5 6\n",
      "5 7\n",
      "5 8\n"
     ]
    }
   ],
   "source": [
    "### 중첩 반복문\n",
    "for i in [1,2,3,4,5]:\n",
    "    for j in [6,7,8]:\n",
    "        print(i,j)"
   ]
  },
  {
   "cell_type": "code",
   "execution_count": 9,
   "id": "32dd4b10",
   "metadata": {},
   "outputs": [
    {
     "name": "stdout",
     "output_type": "stream",
     "text": [
      "49 [49, 0, 0, 0, 0]\n",
      "80 [49, 80, 0, 0, 0]\n",
      "29 [49, 80, 29, 0, 0]\n",
      "100 [49, 80, 29, 100, 0]\n",
      "50 [49, 80, 29, 100, 50]\n",
      "43 [92, 80, 29, 100, 50]\n",
      "60 [92, 140, 29, 100, 50]\n",
      "85 [92, 140, 114, 100, 50]\n",
      "30 [92, 140, 114, 130, 50]\n",
      "90 [92, 140, 114, 130, 140]\n",
      "49 [141, 140, 114, 130, 140]\n",
      "82 [141, 222, 114, 130, 140]\n",
      "48 [141, 222, 162, 130, 140]\n",
      "50 [141, 222, 162, 180, 140]\n",
      "100 [141, 222, 162, 180, 240]\n",
      "[47.0, 74.0, 54.0, 60.0, 80.0]\n"
     ]
    }
   ],
   "source": [
    "kor_score = [49,80,29,100,50]\n",
    "math_score = [43,60,85,30,90]\n",
    "eng_score = [49,82,48,50,100]\n",
    "midterm_score = [kor_score,math_score,eng_score]\n",
    "\n",
    "student_score=[0,0,0,0,0]\n",
    "i=0\n",
    "for subject in midterm_score:\n",
    "    for score in subject:\n",
    "        student_score[i]+=score\n",
    "        i+=1\n",
    "        print(score,student_score)\n",
    "    i=0\n",
    "else:\n",
    "    a,b,c,d,e =student_score\n",
    "    student_average = [a/3,b/3,c/3,d/3,e/3]\n",
    "    print(student_average)"
   ]
  },
  {
   "cell_type": "markdown",
   "id": "6fbea733",
   "metadata": {},
   "source": [
    "## 09 코드의 오류를 처리하는 방법"
   ]
  },
  {
   "cell_type": "code",
   "execution_count": 4,
   "id": "075cf9f4",
   "metadata": {},
   "outputs": [
    {
     "ename": "IndentationError",
     "evalue": "unexpected indent (<ipython-input-4-61de78cd86aa>, line 3)",
     "output_type": "error",
     "traceback": [
      "\u001b[1;36m  File \u001b[1;32m\"<ipython-input-4-61de78cd86aa>\"\u001b[1;36m, line \u001b[1;32m3\u001b[0m\n\u001b[1;33m    y=5\u001b[0m\n\u001b[1;37m    ^\u001b[0m\n\u001b[1;31mIndentationError\u001b[0m\u001b[1;31m:\u001b[0m unexpected indent\n"
     ]
    }
   ],
   "source": [
    "#들여쓰기 오류\n",
    "x=2\n",
    " y=5\n",
    "print(x+y)"
   ]
  },
  {
   "cell_type": "code",
   "execution_count": 5,
   "id": "4e4ae5b2",
   "metadata": {},
   "outputs": [
    {
     "ename": "NameError",
     "evalue": "name 'pront' is not defined",
     "output_type": "error",
     "traceback": [
      "\u001b[1;31m---------------------------------------------------------------------------\u001b[0m",
      "\u001b[1;31mNameError\u001b[0m                                 Traceback (most recent call last)",
      "\u001b[1;32m<ipython-input-5-57b65cff111f>\u001b[0m in \u001b[0;36m<module>\u001b[1;34m\u001b[0m\n\u001b[0;32m      1\u001b[0m \u001b[1;31m#오탈자로 인한 오류\u001b[0m\u001b[1;33m\u001b[0m\u001b[1;33m\u001b[0m\u001b[1;33m\u001b[0m\u001b[0m\n\u001b[1;32m----> 2\u001b[1;33m \u001b[0mpront\u001b[0m\u001b[1;33m(\u001b[0m\u001b[0mx\u001b[0m\u001b[1;33m+\u001b[0m\u001b[0my\u001b[0m\u001b[1;33m)\u001b[0m\u001b[1;33m\u001b[0m\u001b[1;33m\u001b[0m\u001b[0m\n\u001b[0m\u001b[0;32m      3\u001b[0m \u001b[0mkorean\u001b[0m \u001b[1;33m=\u001b[0m \u001b[1;34m\"ACE\"\u001b[0m\u001b[1;33m\u001b[0m\u001b[1;33m\u001b[0m\u001b[0m\n\u001b[0;32m      4\u001b[0m \u001b[0mprint\u001b[0m\u001b[1;33m(\u001b[0m\u001b[0mKorean\u001b[0m\u001b[1;33m)\u001b[0m\u001b[1;33m\u001b[0m\u001b[1;33m\u001b[0m\u001b[0m\n",
      "\u001b[1;31mNameError\u001b[0m: name 'pront' is not defined"
     ]
    }
   ],
   "source": [
    "#오탈자로 인한 오류\n",
    "pront(x+y)\n",
    "korean = \"ACE\"\n",
    "print(Korean)"
   ]
  },
  {
   "cell_type": "markdown",
   "id": "0d52b13e",
   "metadata": {},
   "source": [
    "## 연습문제"
   ]
  },
  {
   "cell_type": "code",
   "execution_count": 1,
   "id": "6e5c8f94",
   "metadata": {},
   "outputs": [
    {
     "name": "stdout",
     "output_type": "stream",
     "text": [
      "2600\n"
     ]
    }
   ],
   "source": [
    "# 12번 문제\n",
    "# 다음 코드의 실행 결과를 쓰시오.\n",
    "coupon = 0\n",
    "money = 200000\n",
    "coffee=3500\n",
    "while money > coffee:\n",
    "    if coupon < 4:\n",
    "        money = money - coffee\n",
    "        coupon += 1\n",
    "    else:\n",
    "        money+=2800\n",
    "        coupon = 0\n",
    "print(money)"
   ]
  },
  {
   "cell_type": "code",
   "execution_count": 54,
   "id": "77b4a65b",
   "metadata": {},
   "outputs": [
    {
     "name": "stdout",
     "output_type": "stream",
     "text": [
      "Strike: 0 Ball 3\n"
     ]
    }
   ],
   "source": [
    "# 13번 문제\n",
    "# 다음 코드는 변수 a와 b의 숫자를 비교하여 숫자와 자릿수가 같으면 'strike', 숫자는 서로 포함하나 자릿수가 다르면 'ball'로 카운트하는 프로그램이다. 다음 프로그램의 실행 결과를 쓰시오. 또한 결과값이 맞지 않는 이유를 쓰고, 올바른 결과값이 나오도록 코드를 수정하시오.\n",
    "a = \"369\"\n",
    "b = \"693\"\n",
    "\n",
    "strike = 0\n",
    "ball = 0\n",
    "for number in a:\n",
    "    if b.count(number) > 0:\n",
    "        if b.find(number) == a.find(number):\n",
    "            strike +=1\n",
    "        else:\n",
    "            ball+=1\n",
    "print(\"Strike:\",strike,\"Ball\",ball)\n",
    "\n",
    "# 첫 if 문에서 문자열은 각 하나씩 비교하기 때문에 0보다 커야지 두번째 if문이 실행된다.\n",
    "# 두번째 if문에서 b.find(number)와 a.find(number)이 위치가 같아으면 strike에 1을 추가해야하기 때문에 !는 반대를 듯하기에 == 으로 바꿔줘야한다."
   ]
  }
 ],
 "metadata": {
  "kernelspec": {
   "display_name": "Python 3",
   "language": "python",
   "name": "python3"
  },
  "language_info": {
   "codemirror_mode": {
    "name": "ipython",
    "version": 3
   },
   "file_extension": ".py",
   "mimetype": "text/x-python",
   "name": "python",
   "nbconvert_exporter": "python",
   "pygments_lexer": "ipython3",
   "version": "3.8.8"
  }
 },
 "nbformat": 4,
 "nbformat_minor": 5
}
