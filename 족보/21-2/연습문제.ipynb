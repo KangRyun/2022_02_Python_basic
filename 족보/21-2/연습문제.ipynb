{
 "cells": [
  {
   "cell_type": "markdown",
   "id": "5f08c5c3",
   "metadata": {},
   "source": [
    "## 5장 연습문제"
   ]
  },
  {
   "cell_type": "code",
   "execution_count": 3,
   "id": "1531861e",
   "metadata": {},
   "outputs": [
    {
     "data": {
      "text/plain": [
       "['Gachon Gadd']"
      ]
     },
     "execution_count": 3,
     "metadata": {},
     "output_type": "execute_result"
    }
   ],
   "source": [
    "t = ['Gachon Gadd']\n",
    "a = list(t)\n",
    "a"
   ]
  },
  {
   "cell_type": "code",
   "execution_count": 11,
   "id": "bb65858e",
   "metadata": {},
   "outputs": [
    {
     "name": "stdout",
     "output_type": "stream",
     "text": [
      "G\n",
      "a\n",
      "c\n",
      "h\n",
      "o\n",
      "n\n",
      " \n",
      "G\n",
      "a\n",
      "d\n",
      "d\n"
     ]
    }
   ],
   "source": [
    "for i in t:\n",
    "    print(i)"
   ]
  },
  {
   "cell_type": "code",
   "execution_count": 7,
   "id": "f2762f89",
   "metadata": {},
   "outputs": [
    {
     "data": {
      "text/plain": [
       "'gachon'"
      ]
     },
     "execution_count": 7,
     "metadata": {},
     "output_type": "execute_result"
    }
   ],
   "source": [
    "t.lower()"
   ]
  },
  {
   "cell_type": "code",
   "execution_count": 8,
   "id": "427a04c7",
   "metadata": {},
   "outputs": [
    {
     "data": {
      "text/plain": [
       "'Gachon'"
      ]
     },
     "execution_count": 8,
     "metadata": {},
     "output_type": "execute_result"
    }
   ],
   "source": [
    "t"
   ]
  },
  {
   "cell_type": "code",
   "execution_count": 13,
   "id": "d0912e2e",
   "metadata": {},
   "outputs": [
    {
     "data": {
      "text/plain": [
       "-3"
      ]
     },
     "execution_count": 13,
     "metadata": {},
     "output_type": "execute_result"
    }
   ],
   "source": [
    "a=4\n",
    "a=-3\n",
    "a"
   ]
  },
  {
   "cell_type": "code",
   "execution_count": 17,
   "id": "f70c3d86",
   "metadata": {},
   "outputs": [
    {
     "ename": "TypeError",
     "evalue": "can only concatenate list (not \"int\") to list",
     "output_type": "error",
     "traceback": [
      "\u001b[1;31m---------------------------------------------------------------------------\u001b[0m",
      "\u001b[1;31mTypeError\u001b[0m                                 Traceback (most recent call last)",
      "\u001b[1;32m<ipython-input-17-23ee50584a40>\u001b[0m in \u001b[0;36m<module>\u001b[1;34m\u001b[0m\n\u001b[0;32m      4\u001b[0m \u001b[1;33m\u001b[0m\u001b[0m\n\u001b[0;32m      5\u001b[0m \u001b[1;32mfor\u001b[0m \u001b[0mi\u001b[0m \u001b[1;32min\u001b[0m \u001b[0mmidterm_set\u001b[0m\u001b[1;33m:\u001b[0m\u001b[1;33m\u001b[0m\u001b[1;33m\u001b[0m\u001b[0m\n\u001b[1;32m----> 6\u001b[1;33m     \u001b[0ma\u001b[0m \u001b[1;33m=\u001b[0m \u001b[0ma\u001b[0m\u001b[1;33m+\u001b[0m\u001b[0mi\u001b[0m\u001b[1;33m\u001b[0m\u001b[1;33m\u001b[0m\u001b[0m\n\u001b[0m\u001b[0;32m      7\u001b[0m \u001b[0mprint\u001b[0m\u001b[1;33m(\u001b[0m\u001b[0ma\u001b[0m\u001b[1;33m)\u001b[0m\u001b[1;33m\u001b[0m\u001b[1;33m\u001b[0m\u001b[0m\n",
      "\u001b[1;31mTypeError\u001b[0m: can only concatenate list (not \"int\") to list"
     ]
    }
   ],
   "source": [
    "a = []\n",
    " \n",
    "midterm_set = set([1,5,7,4,3,2,1,1,2,3])\n",
    " \n",
    "for i in midterm_set:\n",
    "    a = a+i\n",
    "print(a)"
   ]
  },
  {
   "cell_type": "code",
   "execution_count": 18,
   "id": "ef8313ec",
   "metadata": {},
   "outputs": [
    {
     "data": {
      "text/plain": [
       "set"
      ]
     },
     "execution_count": 18,
     "metadata": {},
     "output_type": "execute_result"
    }
   ],
   "source": [
    "midterm_set = set([1,5,7,4,3,2,1,1,2,3])\n",
    "type(midterm_set)"
   ]
  },
  {
   "cell_type": "code",
   "execution_count": 23,
   "id": "18aa942f",
   "metadata": {},
   "outputs": [
    {
     "name": "stdout",
     "output_type": "stream",
     "text": [
      "['a', 1, 'gachon']\n"
     ]
    }
   ],
   "source": [
    "def delete_a_list_element(list_data, element_value):\n",
    "    if element_value in list_data:\n",
    "        list_data.remove(element_value)\n",
    "        return list_data\n",
    "    else:\n",
    "        return \"False\"\n",
    "    \n",
    "list_data = ['a',1,'gachon',2016.0]\n",
    "element = 2016\n",
    "result = delete_a_list_element(list_data, element)\n",
    "print(result)"
   ]
  },
  {
   "cell_type": "code",
   "execution_count": 25,
   "id": "bc4d0529",
   "metadata": {},
   "outputs": [
    {
     "name": "stdout",
     "output_type": "stream",
     "text": [
      "19\n"
     ]
    }
   ],
   "source": [
    "def week_s(sen1):\n",
    "    cells = set(sen1.replace(' ','').lower())\n",
    "    return cells\n",
    " \n",
    "sen_a = \"The quick brown fox jumps over the lazy dog\"\n",
    "sen_b = \"I love you\"\n",
    "print(len(week_s(sen_a) - week_s(sen_b)))"
   ]
  },
  {
   "cell_type": "code",
   "execution_count": 26,
   "id": "f75ef1d7",
   "metadata": {},
   "outputs": [
    {
     "data": {
      "text/plain": [
       "{'a',\n",
       " 'b',\n",
       " 'c',\n",
       " 'd',\n",
       " 'e',\n",
       " 'f',\n",
       " 'g',\n",
       " 'h',\n",
       " 'i',\n",
       " 'j',\n",
       " 'k',\n",
       " 'l',\n",
       " 'm',\n",
       " 'n',\n",
       " 'o',\n",
       " 'p',\n",
       " 'q',\n",
       " 'r',\n",
       " 's',\n",
       " 't',\n",
       " 'u',\n",
       " 'v',\n",
       " 'w',\n",
       " 'x',\n",
       " 'y',\n",
       " 'z'}"
      ]
     },
     "execution_count": 26,
     "metadata": {},
     "output_type": "execute_result"
    }
   ],
   "source": [
    "week_s(sen_a)"
   ]
  },
  {
   "cell_type": "code",
   "execution_count": 28,
   "id": "3437980b",
   "metadata": {},
   "outputs": [
    {
     "data": {
      "text/plain": [
       "{'e', 'i', 'l', 'o', 'u', 'v', 'y'}"
      ]
     },
     "execution_count": 28,
     "metadata": {},
     "output_type": "execute_result"
    }
   ],
   "source": [
    "week_s(sen_b)"
   ]
  },
  {
   "cell_type": "code",
   "execution_count": 30,
   "id": "4da181d4",
   "metadata": {},
   "outputs": [
    {
     "data": {
      "text/plain": [
       "[1, 2, 3, 2, 3, 5]"
      ]
     },
     "execution_count": 30,
     "metadata": {},
     "output_type": "execute_result"
    }
   ],
   "source": [
    "a = [1,2,3]\n",
    "b = [2,3,5]\n",
    "a+b"
   ]
  },
  {
   "cell_type": "code",
   "execution_count": 31,
   "id": "0d7f7c9c",
   "metadata": {},
   "outputs": [
    {
     "data": {
      "text/plain": [
       "list"
      ]
     },
     "execution_count": 31,
     "metadata": {},
     "output_type": "execute_result"
    }
   ],
   "source": [
    "type(a)"
   ]
  },
  {
   "cell_type": "code",
   "execution_count": 32,
   "id": "10f27f94",
   "metadata": {},
   "outputs": [
    {
     "name": "stdout",
     "output_type": "stream",
     "text": [
      "4\n"
     ]
    }
   ],
   "source": [
    "dict1 = {2:1, 4:2, 6:3, 8:4, 10:6}\n",
    " \n",
    "dict_keys = list(dict1.keys())\n",
    "dict_values = list(dict1.values())\n",
    " \n",
    "dict_2 = dict()\n",
    " \n",
    "for i in range(len(dict_keys)):\n",
    "    dict_2[dict_values[i]] = dict_keys[i]\n",
    "    \n",
    "print(dict_2[2])"
   ]
  },
  {
   "cell_type": "code",
   "execution_count": 34,
   "id": "e03ede0b",
   "metadata": {},
   "outputs": [
    {
     "name": "stdout",
     "output_type": "stream",
     "text": [
      "(1,)\n",
      "[1]\n",
      "error\n",
      "error\n",
      "a\n",
      "a\n"
     ]
    }
   ],
   "source": [
    "data_1 = {'one' : (1,2,3,4,5,6), 'two':[1,2,3,4,5,6], 'three':{'four':4, 'five':5}}\n",
    " \n",
    "for k in ['one', 'two', 'three']:\n",
    "    try:\n",
    "        print(data_1[k][:1])\n",
    "    except TypeError:\n",
    "        print('error')\n",
    "        \n",
    "for k in ['one', 'two', 'three']:\n",
    "    try:\n",
    "        data_1[k][-1] = \"a\"\n",
    "        print(data_1[k][-1])\n",
    "    except TypeError:\n",
    "        print('error')"
   ]
  },
  {
   "cell_type": "code",
   "execution_count": 47,
   "id": "5b7e5bef",
   "metadata": {},
   "outputs": [
    {
     "name": "stdout",
     "output_type": "stream",
     "text": [
      "students\n",
      "superuser\n",
      "professor\n",
      "employee\n",
      "{'students': 0, 'superuser': 1, 'professor': 2, 'employee': 3}\n"
     ]
    }
   ],
   "source": [
    "user_dict = {}\n",
    "user_list = [\"students\",\"superuser\", \"professor\", \"employee\"]\n",
    "for value_1, value_2 in enumerate(user_list):\n",
    "    user_dict[value_2] = value_1\n",
    "    print(value_2)\n",
    "print(user_dict)"
   ]
  },
  {
   "cell_type": "code",
   "execution_count": 48,
   "id": "81880a45",
   "metadata": {},
   "outputs": [
    {
     "data": {
      "text/plain": [
       "0"
      ]
     },
     "execution_count": 48,
     "metadata": {},
     "output_type": "execute_result"
    }
   ],
   "source": [
    "user_dict['students']"
   ]
  },
  {
   "cell_type": "code",
   "execution_count": 51,
   "id": "35a03b08",
   "metadata": {},
   "outputs": [
    {
     "name": "stdout",
     "output_type": "stream",
     "text": [
      "[0, 1, 2, 3, 4, 5, 6, 7, 8, 9]\n"
     ]
    }
   ],
   "source": [
    "a = 'zero on two three'.split('two')\n",
    "r = [a for a in range(10)]\n",
    "print(r)"
   ]
  },
  {
   "cell_type": "code",
   "execution_count": 52,
   "id": "267557af",
   "metadata": {},
   "outputs": [],
   "source": [
    "b = [4,5,]"
   ]
  },
  {
   "cell_type": "code",
   "execution_count": 53,
   "id": "0fe8f014",
   "metadata": {},
   "outputs": [
    {
     "name": "stdout",
     "output_type": "stream",
     "text": [
      "[4, 5]\n"
     ]
    }
   ],
   "source": [
    "print(b)"
   ]
  },
  {
   "cell_type": "code",
   "execution_count": 54,
   "id": "8757c950",
   "metadata": {},
   "outputs": [
    {
     "data": {
      "text/plain": [
       "9"
      ]
     },
     "execution_count": 54,
     "metadata": {},
     "output_type": "execute_result"
    }
   ],
   "source": [
    "sum(b)"
   ]
  },
  {
   "cell_type": "code",
   "execution_count": 55,
   "id": "4f866d93",
   "metadata": {},
   "outputs": [
    {
     "data": {
      "text/plain": [
       "2"
      ]
     },
     "execution_count": 55,
     "metadata": {},
     "output_type": "execute_result"
    }
   ],
   "source": [
    "len(b)"
   ]
  },
  {
   "cell_type": "code",
   "execution_count": 59,
   "id": "3c9fd3b4",
   "metadata": {},
   "outputs": [
    {
     "data": {
      "text/plain": [
       "4"
      ]
     },
     "execution_count": 59,
     "metadata": {},
     "output_type": "execute_result"
    }
   ],
   "source": [
    "w = [1,2,3,4,5,6]\n",
    "g = [3,2,4,2,3]\n",
    "d = [w,g]\n",
    "d[1][2]"
   ]
  },
  {
   "cell_type": "code",
   "execution_count": 65,
   "id": "0779b47d",
   "metadata": {},
   "outputs": [
    {
     "name": "stdout",
     "output_type": "stream",
     "text": [
      "0\n",
      "('a', '1')\n",
      "1\n",
      "('b', '2')\n",
      "2\n",
      "('c', '3')\n",
      "['a', '2', 'error']\n"
     ]
    }
   ],
   "source": [
    "alist = [\"a\", \"b\", \"c\"]\n",
    "blist = [\"1\", \"2\", \"3\"]\n",
    "abcd= []\n",
    "for a, b in enumerate(zip(alist, blist)):\n",
    "    print(a)\n",
    "    print(b)\n",
    "    try:\n",
    "        abcd.append(b[a])\n",
    "    except IndexError:\n",
    "        abcd.append(\"error\")\n",
    "print (abcd)"
   ]
  },
  {
   "cell_type": "code",
   "execution_count": 64,
   "id": "ca8a2674",
   "metadata": {},
   "outputs": [
    {
     "data": {
      "text/plain": [
       "<enumerate at 0x1ba790dd140>"
      ]
     },
     "execution_count": 64,
     "metadata": {},
     "output_type": "execute_result"
    }
   ],
   "source": [
    "enumerate(zip(alist, blist))"
   ]
  },
  {
   "cell_type": "code",
   "execution_count": 79,
   "id": "cac7a847",
   "metadata": {},
   "outputs": [
    {
     "name": "stdout",
     "output_type": "stream",
     "text": [
      "['a0', 'a2', 'a4', 'a6', 'a8', 'a10', 'a12', 'a14', 'a16', 'a18', 'b0', 'b2', 'b4', 'b6', 'b8', 'b10', 'b12', 'b14', 'b16', 'b18', 'c0', 'c2', 'c4', 'c6', 'c8', 'c10', 'c12', 'c14', 'c16', 'c18', 'd0', 'd2', 'd4', 'd6', 'd8', 'd10', 'd12', 'd14', 'd16', 'd18', 'e0', 'e2', 'e4', 'e6', 'e8', 'e10', 'e12', 'e14', 'e16', 'e18', 'f0', 'f2', 'f4', 'f6', 'f8', 'f10', 'f12', 'f14', 'f16', 'f18', 'g0', 'g2', 'g4', 'g6', 'g8', 'g10', 'g12', 'g14', 'g16', 'g18', 'h0', 'h2', 'h4', 'h6', 'h8', 'h10', 'h12', 'h14', 'h16', 'h18']\n"
     ]
    }
   ],
   "source": [
    "alphabet = [\"a\", \"b\", \"c\", \"d\", \"e\", \"f\", \"g\", \"h\"]\n",
    "nums = [i for i in range(20)]\n",
    "answer = [alpha+str(num) for alpha in alphabet for num in nums if num%2==0]\n",
    "print(answer)"
   ]
  },
  {
   "cell_type": "code",
   "execution_count": 77,
   "id": "032036bc",
   "metadata": {},
   "outputs": [
    {
     "name": "stdout",
     "output_type": "stream",
     "text": [
      "0\n",
      "2\n",
      "4\n",
      "6\n",
      "8\n",
      "10\n",
      "12\n",
      "14\n",
      "16\n",
      "18\n",
      "0\n",
      "2\n",
      "4\n",
      "6\n",
      "8\n",
      "10\n",
      "12\n",
      "14\n",
      "16\n",
      "18\n",
      "0\n",
      "2\n",
      "4\n",
      "6\n",
      "8\n",
      "10\n",
      "12\n",
      "14\n",
      "16\n",
      "18\n",
      "0\n",
      "2\n",
      "4\n",
      "6\n",
      "8\n",
      "10\n",
      "12\n",
      "14\n",
      "16\n",
      "18\n",
      "0\n",
      "2\n",
      "4\n",
      "6\n",
      "8\n",
      "10\n",
      "12\n",
      "14\n",
      "16\n",
      "18\n",
      "0\n",
      "2\n",
      "4\n",
      "6\n",
      "8\n",
      "10\n",
      "12\n",
      "14\n",
      "16\n",
      "18\n",
      "0\n",
      "2\n",
      "4\n",
      "6\n",
      "8\n",
      "10\n",
      "12\n",
      "14\n",
      "16\n",
      "18\n",
      "0\n",
      "2\n",
      "4\n",
      "6\n",
      "8\n",
      "10\n",
      "12\n",
      "14\n",
      "16\n",
      "18\n"
     ]
    }
   ],
   "source": [
    "for alpha in alphabet:\n",
    "    for num in nums:\n",
    "        if num%2==0:\n",
    "            print(num)"
   ]
  },
  {
   "cell_type": "code",
   "execution_count": 81,
   "id": "a6fd34f2",
   "metadata": {},
   "outputs": [
    {
     "name": "stdout",
     "output_type": "stream",
     "text": [
      "division by zero\n",
      "10.0\n",
      "5.0\n",
      "3.3333333333333335\n",
      "2.5\n",
      "2.0\n",
      "1.6666666666666667\n",
      "1.4285714285714286\n",
      "1.25\n",
      "1.1111111111111112\n"
     ]
    }
   ],
   "source": [
    "#코드 12-1\n",
    "for i in range(10):\n",
    "    try:\n",
    "        print(10/i)\n",
    "    except ZeroDivisionError as Z:\n",
    "        print(Z)"
   ]
  },
  {
   "cell_type": "code",
   "execution_count": 85,
   "id": "2722d6fe",
   "metadata": {},
   "outputs": [
    {
     "name": "stdout",
     "output_type": "stream",
     "text": [
      "I have a dream a song to sing\n",
      "to help me cope with anything\n",
      "if you see the wonder of a fairy tale\n",
      "you can take the future even\n",
      "if you fail I believe in angels\n",
      "something good in everything\n",
      "\n"
     ]
    }
   ],
   "source": [
    "f = open(\"dream.txt\",\"r\")\n",
    "contents = f.read()\n",
    "print(contents)\n",
    "f.close()"
   ]
  },
  {
   "cell_type": "code",
   "execution_count": 84,
   "id": "cabe06f1",
   "metadata": {},
   "outputs": [
    {
     "ename": "TypeError",
     "evalue": "'str' object is not callable",
     "output_type": "error",
     "traceback": [
      "\u001b[1;31m---------------------------------------------------------------------------\u001b[0m",
      "\u001b[1;31mTypeError\u001b[0m                                 Traceback (most recent call last)",
      "\u001b[1;32m<ipython-input-84-ea11604d9538>\u001b[0m in \u001b[0;36m<module>\u001b[1;34m\u001b[0m\n\u001b[1;32m----> 1\u001b[1;33m \u001b[0mcontents\u001b[0m\u001b[1;33m(\u001b[0m\u001b[1;33m)\u001b[0m\u001b[1;33m\u001b[0m\u001b[1;33m\u001b[0m\u001b[0m\n\u001b[0m",
      "\u001b[1;31mTypeError\u001b[0m: 'str' object is not callable"
     ]
    }
   ],
   "source": [
    "contents"
   ]
  },
  {
   "cell_type": "code",
   "execution_count": 94,
   "id": "12c60671",
   "metadata": {},
   "outputs": [
    {
     "name": "stdout",
     "output_type": "stream",
     "text": [
      "6\n",
      "9\n",
      "9\n"
     ]
    }
   ],
   "source": [
    "def sum_data(list_data_a, list_data_b):\n",
    "    for i in list_data_a:\n",
    "        for j in list_data_b:\n",
    "            result = i+j\n",
    "            print(result)\n",
    "        return result\n",
    "a = [1, 4]\n",
    "b = [5, 8]\n",
    "print (sum_data(a, b))"
   ]
  },
  {
   "cell_type": "code",
   "execution_count": 90,
   "id": "d4899281",
   "metadata": {},
   "outputs": [
    {
     "ename": "NameError",
     "evalue": "name 'su' is not defined",
     "output_type": "error",
     "traceback": [
      "\u001b[1;31m---------------------------------------------------------------------------\u001b[0m",
      "\u001b[1;31mNameError\u001b[0m                                 Traceback (most recent call last)",
      "\u001b[1;32m<ipython-input-90-209c2f63f79a>\u001b[0m in \u001b[0;36m<module>\u001b[1;34m\u001b[0m\n\u001b[0;32m      1\u001b[0m \u001b[0ma\u001b[0m \u001b[1;33m=\u001b[0m \u001b[1;33m[\u001b[0m\u001b[1;36m4\u001b[0m\u001b[1;33m,\u001b[0m \u001b[1;36m5\u001b[0m\u001b[1;33m]\u001b[0m\u001b[1;33m\u001b[0m\u001b[1;33m\u001b[0m\u001b[0m\n\u001b[0;32m      2\u001b[0m \u001b[0mb\u001b[0m \u001b[1;33m=\u001b[0m \u001b[1;33m[\u001b[0m\u001b[1;36m3\u001b[0m\u001b[1;33m,\u001b[0m \u001b[1;36m4\u001b[0m\u001b[1;33m]\u001b[0m\u001b[1;33m\u001b[0m\u001b[1;33m\u001b[0m\u001b[0m\n\u001b[1;32m----> 3\u001b[1;33m \u001b[0msu\u001b[0m\u001b[1;33m(\u001b[0m\u001b[0ma\u001b[0m\u001b[1;33m,\u001b[0m \u001b[0mb\u001b[0m\u001b[1;33m)\u001b[0m\u001b[1;33m\u001b[0m\u001b[1;33m\u001b[0m\u001b[0m\n\u001b[0m",
      "\u001b[1;31mNameError\u001b[0m: name 'su' is not defined"
     ]
    }
   ],
   "source": [
    "a = [4, 5]\n",
    "b = [3, 4]\n",
    "su(a, b)"
   ]
  },
  {
   "cell_type": "code",
   "execution_count": 1,
   "id": "716fa52b",
   "metadata": {},
   "outputs": [],
   "source": [
    "b='5-2'.split('-')"
   ]
  },
  {
   "cell_type": "code",
   "execution_count": 2,
   "id": "642b4a97",
   "metadata": {},
   "outputs": [
    {
     "data": {
      "text/plain": [
       "['5', '2']"
      ]
     },
     "execution_count": 2,
     "metadata": {},
     "output_type": "execute_result"
    }
   ],
   "source": [
    "b"
   ]
  },
  {
   "cell_type": "code",
   "execution_count": null,
   "id": "c4f079b9",
   "metadata": {},
   "outputs": [],
   "source": []
  }
 ],
 "metadata": {
  "kernelspec": {
   "display_name": "Python 3",
   "language": "python",
   "name": "python3"
  },
  "language_info": {
   "codemirror_mode": {
    "name": "ipython",
    "version": 3
   },
   "file_extension": ".py",
   "mimetype": "text/x-python",
   "name": "python",
   "nbconvert_exporter": "python",
   "pygments_lexer": "ipython3",
   "version": "3.8.8"
  }
 },
 "nbformat": 4,
 "nbformat_minor": 5
}
