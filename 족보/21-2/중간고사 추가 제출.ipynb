{
 "cells": [
  {
   "cell_type": "code",
   "execution_count": 1,
   "id": "c3620323",
   "metadata": {},
   "outputs": [
    {
     "name": "stdout",
     "output_type": "stream",
     "text": [
      "3자리 숫자 입력:123\n",
      "Strike: 0 Ball: 0\n",
      "3자리 숫자 입력:125\n",
      "Strike: 0 Ball: 0\n",
      "3자리 숫자 입력:127\n",
      "Strike: 0 Ball: 0\n",
      "3자리 숫자 입력:124\n",
      "Strike: 0 Ball: 0\n",
      "3자리 숫자 입력:689\n",
      "Strike: 0 Ball: 2\n",
      "3자리 숫자 입력:456\n",
      "Strike: 0 Ball: 0\n",
      "3자리 숫자 입력:789\n",
      "Strike: 0 Ball: 2\n",
      "3자리 숫자 입력:189\n",
      "Strike: 0 Ball: 2\n",
      "3자리 숫자 입력:890\n",
      "Strike: 3 Ball: 0\n",
      "정답\n",
      "게임종료\n"
     ]
    }
   ],
   "source": [
    "### 3\n",
    "from random import sample\n",
    "n = 3\n",
    "a = ''.join(sample('0123456789', n))\n",
    "\n",
    "strike = 0\n",
    "ball = 0\n",
    "\n",
    "while strike < 3 :\n",
    "    b = input(str(n)+\"자리 숫자 입력:\")\n",
    "    \n",
    "    strike = 0\n",
    "    ball = 0\n",
    "    \n",
    "    for number in a:\n",
    "        if b.count(number)  == 1:\n",
    "            if b.find(number) == a.find(number):\n",
    "                strike += 1\n",
    "            else:\n",
    "                ball += 1\n",
    "    print(\"Strike:\", strike, \"Ball:\", ball)\n",
    "\n",
    "else :\n",
    "    print(\"정답\",\"게임종료\",sep = '\\n')"
   ]
  },
  {
   "cell_type": "code",
   "execution_count": null,
   "id": "b2d841ce",
   "metadata": {},
   "outputs": [],
   "source": []
  }
 ],
 "metadata": {
  "kernelspec": {
   "display_name": "Python 3",
   "language": "python",
   "name": "python3"
  },
  "language_info": {
   "codemirror_mode": {
    "name": "ipython",
    "version": 3
   },
   "file_extension": ".py",
   "mimetype": "text/x-python",
   "name": "python",
   "nbconvert_exporter": "python",
   "pygments_lexer": "ipython3",
   "version": "3.8.8"
  }
 },
 "nbformat": 4,
 "nbformat_minor": 5
}
