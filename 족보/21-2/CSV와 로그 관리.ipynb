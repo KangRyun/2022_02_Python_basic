{
 "cells": [
  {
   "cell_type": "markdown",
   "id": "df6b2eb0",
   "metadata": {},
   "source": [
    "## 01 CSV"
   ]
  },
  {
   "cell_type": "code",
   "execution_count": null,
   "id": "1ab64a9c",
   "metadata": {},
   "outputs": [],
   "source": []
  },
  {
   "cell_type": "markdown",
   "id": "b6927a18",
   "metadata": {},
   "source": [
    "## 02 로그 관리"
   ]
  },
  {
   "cell_type": "markdown",
   "id": "ed9e1eae",
   "metadata": {},
   "source": [
    "## 03 설정 저장"
   ]
  },
  {
   "cell_type": "markdown",
   "id": "72c829fd",
   "metadata": {},
   "source": [
    "## 04 Lab:로깅 프로그램"
   ]
  }
 ],
 "metadata": {
  "kernelspec": {
   "display_name": "Python 3",
   "language": "python",
   "name": "python3"
  },
  "language_info": {
   "codemirror_mode": {
    "name": "ipython",
    "version": 3
   },
   "file_extension": ".py",
   "mimetype": "text/x-python",
   "name": "python",
   "nbconvert_exporter": "python",
   "pygments_lexer": "ipython3",
   "version": "3.8.8"
  }
 },
 "nbformat": 4,
 "nbformat_minor": 5
}
