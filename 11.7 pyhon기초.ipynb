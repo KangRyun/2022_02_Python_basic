{
 "cells": [
  {
   "cell_type": "code",
   "execution_count": 1,
   "metadata": {},
   "outputs": [],
   "source": [
    "f = open('yesterday.txt','r')\n",
    "y = f.readlines()\n",
    "f.close()"
   ]
  },
  {
   "cell_type": "code",
   "execution_count": 3,
   "metadata": {},
   "outputs": [
    {
     "data": {
      "text/plain": [
       "34"
      ]
     },
     "execution_count": 3,
     "metadata": {},
     "output_type": "execute_result"
    }
   ],
   "source": [
    "len(y)"
   ]
  },
  {
   "cell_type": "code",
   "execution_count": 4,
   "metadata": {},
   "outputs": [
    {
     "data": {
      "text/plain": [
       "['Yesterday all my troubles\\n',\n",
       " 'seemed so far away.\\n',\n",
       " 'Now it looks\\n',\n",
       " \"as though they're here to stay.\\n\",\n",
       " 'Oh, I believe in yesterday.\\n',\n",
       " '\\n',\n",
       " \"Suddenly I'm not half\\n\",\n",
       " 'the man I used to be.\\n',\n",
       " \"There's a shadow hanging over me.\\n\",\n",
       " 'Oh, yesterday came suddenly.\\n',\n",
       " '\\n',\n",
       " 'Why she had to go,\\n',\n",
       " \"I don't know,\\n\",\n",
       " \"she wouldn't say.\\n\",\n",
       " 'I said something wrong,\\n',\n",
       " 'now I long for yesterday.\\n',\n",
       " '\\n',\n",
       " 'Yesterday love was\\n',\n",
       " 'such an easy game to play.\\n',\n",
       " 'Now I need a place to hide away.\\n',\n",
       " 'Oh, I believe in yesterday.\\n',\n",
       " '\\n',\n",
       " 'Why she had to go,\\n',\n",
       " \"I don't know,\\n\",\n",
       " \"she wouldn't say.\\n\",\n",
       " 'I said something wrong,\\n',\n",
       " 'now I long for yesterday.\\n',\n",
       " '\\n',\n",
       " 'Yesterday love was\\n',\n",
       " 'such an easy game to play.\\n',\n",
       " 'Now I need a place to hide away.\\n',\n",
       " 'Oh, I believe in yesterday.\\n',\n",
       " '\\n',\n",
       " 'Mm mm mm mm mm mm mm\\n']"
      ]
     },
     "execution_count": 4,
     "metadata": {},
     "output_type": "execute_result"
    }
   ],
   "source": [
    "y"
   ]
  },
  {
   "cell_type": "code",
   "execution_count": 5,
   "metadata": {},
   "outputs": [],
   "source": [
    "contents = ''\n",
    "for line in y:\n",
    "    #print(line)\n",
    "    contents = contents + line"
   ]
  },
  {
   "cell_type": "code",
   "execution_count": 6,
   "metadata": {},
   "outputs": [
    {
     "data": {
      "text/plain": [
       "\"Yesterday all my troubles\\nseemed so far away.\\nNow it looks\\nas though they're here to stay.\\nOh, I believe in yesterday.\\n\\nSuddenly I'm not half\\nthe man I used to be.\\nThere's a shadow hanging over me.\\nOh, yesterday came suddenly.\\n\\nWhy she had to go,\\nI don't know,\\nshe wouldn't say.\\nI said something wrong,\\nnow I long for yesterday.\\n\\nYesterday love was\\nsuch an easy game to play.\\nNow I need a place to hide away.\\nOh, I believe in yesterday.\\n\\nWhy she had to go,\\nI don't know,\\nshe wouldn't say.\\nI said something wrong,\\nnow I long for yesterday.\\n\\nYesterday love was\\nsuch an easy game to play.\\nNow I need a place to hide away.\\nOh, I believe in yesterday.\\n\\nMm mm mm mm mm mm mm\\n\""
      ]
     },
     "execution_count": 6,
     "metadata": {},
     "output_type": "execute_result"
    }
   ],
   "source": [
    "contents"
   ]
  },
  {
   "cell_type": "code",
   "execution_count": 7,
   "metadata": {},
   "outputs": [
    {
     "data": {
      "text/plain": [
       "6"
      ]
     },
     "execution_count": 7,
     "metadata": {},
     "output_type": "execute_result"
    }
   ],
   "source": [
    "contents.count('yesterday')"
   ]
  },
  {
   "cell_type": "code",
   "execution_count": 8,
   "metadata": {},
   "outputs": [
    {
     "name": "stdout",
     "output_type": "stream",
     "text": [
      "Number of a word 'Yesterday' 9\n"
     ]
    }
   ],
   "source": [
    "#파일 읽어오기 시험에 나옴\n",
    "f = open('yesterday.txt','r')\n",
    "y = f.readlines()\n",
    "f.close()\n",
    "\n",
    "contents = ''\n",
    "for line in y:\n",
    "    contents = contents + line.strip() + '\\n'\n",
    "\n",
    "n_of_y = contents.upper().count('YESTERDAY')\n",
    "print(\"Number of a word 'Yesterday'\",n_of_y)"
   ]
  },
  {
   "cell_type": "code",
   "execution_count": 9,
   "metadata": {},
   "outputs": [
    {
     "name": "stdout",
     "output_type": "stream",
     "text": [
      "1 2 3\n",
      "a b c\n",
      "1 2 3\n",
      "a b c\n"
     ]
    }
   ],
   "source": [
    "print(1,2,3)\n",
    "print('a'+' '+'b'+' '+'c')\n",
    "print('%d %d %d'%(1,2,3))\n",
    "print('{} {} {}'.format('a','b','c'))"
   ]
  },
  {
   "cell_type": "code",
   "execution_count": 10,
   "metadata": {},
   "outputs": [
    {
     "name": "stdout",
     "output_type": "stream",
     "text": [
      "one two\n",
      "1 2\n"
     ]
    }
   ],
   "source": [
    "print('%s %s' %('one', 'two'))\n",
    "print('%s %s' %(1, 2))"
   ]
  },
  {
   "cell_type": "code",
   "execution_count": 11,
   "metadata": {},
   "outputs": [
    {
     "name": "stdout",
     "output_type": "stream",
     "text": [
      "I eat 3 apples.\n",
      "I eat five apples.\n"
     ]
    }
   ],
   "source": [
    "# %자료형 %(값)\n",
    "print('I eat %d apples.'%3) \n",
    "print('I eat %s apples.'%'five')"
   ]
  },
  {
   "cell_type": "markdown",
   "metadata": {},
   "source": [
    "%s 문자열(string)\n",
    "%c 문자 1개(character)\n",
    "%d 정수(integer)\n",
    "%f 실수\n",
    "%o 8진수\n",
    "%x 16진수\n",
    "%%"
   ]
  }
 ],
 "metadata": {
  "kernelspec": {
   "display_name": "Python 3.10.7 64-bit",
   "language": "python",
   "name": "python3"
  },
  "language_info": {
   "codemirror_mode": {
    "name": "ipython",
    "version": 3
   },
   "file_extension": ".py",
   "mimetype": "text/x-python",
   "name": "python",
   "nbconvert_exporter": "python",
   "pygments_lexer": "ipython3",
   "version": "3.10.7"
  },
  "orig_nbformat": 4,
  "vscode": {
   "interpreter": {
    "hash": "e4e7ff5db89f8a8e6e10e1c907759fa6952b666623ba1e506d0fabd455586b03"
   }
  }
 },
 "nbformat": 4,
 "nbformat_minor": 2
}
